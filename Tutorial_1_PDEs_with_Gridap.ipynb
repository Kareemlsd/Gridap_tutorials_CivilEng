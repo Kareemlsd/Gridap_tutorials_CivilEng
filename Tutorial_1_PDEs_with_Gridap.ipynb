{
 "cells": [
  {
   "cell_type": "markdown",
   "metadata": {},
   "source": [
    "# **Solving PDEs with Gridap**\n",
    "\n",
    "In this tutorial we will go through the fundamental theory of the Finite Element Method to solve PDEs. This theory expects little to no knowledge in FEM and is written as a roadmap which can be followed to solve most PDEs using Gridap. Let's begin!"
   ]
  },
  {
   "cell_type": "markdown",
   "metadata": {},
   "source": [
    "## **What is a (Partial) Differential Equation P(DE)?**\n",
    "\n",
    "To describe phenomena in the real world we need to understand the physics behind the phenomena. Physics can often be described in words, but most often we want to describe the physics using mathematical equations. For these kind of problems we always have two kind of variables: \n",
    "\n",
    "1. Independent variables: such as space ($\\mathbf{x}$) and time ($t$).\n",
    "2. Dependent variables: a variable that depends on the independent variables (for instance, the deformation of a beam along its span (thus space) and in time)\n",
    "\n",
    "The relation between independent and dependent variables is given by a (partial) differential equation, along with initial and boundary conditions such that we can solve the (P)DE and find the ***dependent*** variables, which we initially do not know. Hence, a P(DE) only describes the relation between the dependent and independent variables, from which we can then *find* the unknown dependent variables.\n",
    "\n",
    "In this theory we will mainly focus on **Partial Differential Equations** since these are regarded more difficult to solve using analytical approaches,in comparison to Ordinary Differential Equations. \n",
    "\n",
    "One of the most known PDEs is the ***Poisson Equation***. Hence, in this tutorial we will solve the ***Poisson Equation*** to demonstrate the purposed roadmap. Keep in mind that the purposed roadmap can be (in most cases) applicable for other PDEs."
   ]
  },
  {
   "cell_type": "markdown",
   "metadata": {},
   "source": [
    "# Solve Poisson equation on a 2D square"
   ]
  },
  {
   "cell_type": "markdown",
   "metadata": {},
   "source": [
    "Basic steps for FEM:\n",
    "1. Find the physical problem\n",
    "2. Describe the mathematical model\n",
    "    1. Governing equations (PDEs, boundary conditions, initial conditions)\n",
    "    2. Constant parameters , source functions\n",
    "    3. Define the unknown quantities to solve for\n",
    "3. Create FE space to find the unknown quantities in.\n",
    "    1. Create mesh\n",
    "        1. Mesh density & mesh profile\n",
    "        2. Type of FE spaces\n",
    "        3. Conformity of the FE functions \n",
    "4. Writing the weak form of the problem.\n",
    "5. Solving the problem.\n",
    "6. Iterating for different mesh sizes until solution converges."
   ]
  },
  {
   "cell_type": "markdown",
   "metadata": {},
   "source": [
    "# **Step 1: Define physical problem**\n",
    "\n",
    "The very first step for all problems is to define the physical problem. This step is for the largest part unconnected to the Finite Element Method but is essential in order to be able to continue. For this we need to understand some terminology and symbols which we often encounter in PDEs.\n",
    "## **Scalar and vector valued variables**\n",
    "For simplicity, we consider *two* type of variables: ***scalar valued variables*** and ***vector valued variables***.\n",
    "\n",
    "### ***Scalar valued variables***\n",
    "A ***scalar valued variable*** is a variable which, as the name says, is a scalar. Imagine we would like to know the deformation of a beam in space and time. Hence, we want to find a dependent variable, in this case the deformation of the beam denoted as $u$, as a function of the space and time (the independent variables). For a 1D beam we can describe the deformation as:\n",
    "$$\n",
    "    \\text{deformation of the beam at } x_{0} \\text{ and } t_{0} : u(x_{0},t_{0}) = \\text{a scalar which describes the deformation at } x_{0} \\text{ and } t_{0}\n",
    "$$\n",
    "Mathematically we denote this as:\n",
    "$$\n",
    "u : \\mathbb{R}^d \\times \\mathbb{R} \\rightarrow \\mathbb{R}\n",
    "$$\n",
    "which means that the deformation can be explained be a function $u$ that has two inputs: the space of the beam, which has $d$ dimensions (for a 1D beam, $d$=1 etc.), and the second input is time (which is always \"1D\"). Note that for the deformation of a plate, the space would not be 1-dimensional anymore, since we then would consider $\\mathbf{x} = (x,y)$. In that case our space is a *vector-valued variable*, but our dependent variable, $u$, remains a scalar-valued variable since the deformation of a plate is still a scalar along the space of the plate.\n",
    "\n",
    "### ***Vector valued variables***\n",
    "A ***vector valued variable*** is a variable which, as the name says, is a vector. Vector valued variables describe a quantity using a vector, and not as a scalar. One example is the velocity of a fluid. Imagine we want to describe the velocity of a fluid in a 2D space. The velocity at any point in space and time can be described by a vector with two components (one for each spatial dimension). Mathematically, we denote this as:\n",
    "\n",
    "$$\n",
    "\\mathbf{v} : \\mathbb{R}^d \\times \\mathbb{R} \\rightarrow \\mathbb{R}^d\n",
    "$$\n",
    "\n",
    "which means that the velocity can be explained by a function $\\mathbf{v}$ that has two inputs: the space of the fluid, which has $d$ dimensions (for a 2D space, $d$=2), and the second input is time. The output of this function is a vector with $d$ components, each representing the velocity in one of the spatial dimensions. For example, in a 2D space, the velocity at a point $(x_0, y_0)$ and time $t_0$ can be written as:\n",
    "\n",
    "$$\n",
    "\\mathbf{v}((x_0, y_0), t_0) = \\begin{pmatrix} v_x((x_0, y_0), t_0) \\\\ v_y((x_0, y_0), t_0) \\end{pmatrix}\n",
    "$$\n",
    "\n",
    "where $v_x$ and $v_y$ are the velocity components in the $x$ and $y$ directions, respectively.\n",
    "\n",
    "## **Symbols**\n",
    "\n",
    "The Finite Element Method relies on a strong understanding of mathematics and is often formulated using mathematical symbols which *set* the \"rules\" and describe the relation between the dependent and dependent variables. \n",
    "\n",
    "### **Operators**\n",
    "\n",
    "In the context of PDEs and FEM, operators are mathematical tools that help us describe the relationships between variables. Here are some common operators:\n",
    "\n",
    "1. **Gradient ($\\nabla$)**: The gradient operator takes a scalar field and produces a vector field. It represents the rate and direction of change in the scalar field. For a function $u(x, y)$, the gradient is:\n",
    "    $$\n",
    "    \\nabla u = \\begin{pmatrix} \\frac{\\partial u}{\\partial x} \\\\ \\frac{\\partial u}{\\partial y} \\end{pmatrix}\n",
    "    $$\n",
    "\n",
    "2. **Divergence ($\\nabla \\cdot$)**: The divergence operator takes a vector field and produces a scalar field. It measures the magnitude of a source or sink at a given point. For a vector field $\\mathbf{v} = (v_x, v_y)$, the divergence is:\n",
    "    $$\n",
    "    \\nabla \\cdot \\mathbf{v} = \\frac{\\partial v_x}{\\partial x} + \\frac{\\partial v_y}{\\partial y}\n",
    "    $$\n",
    "\n",
    "3. **Laplacian ($\\Delta$)**: The Laplacian operator is the divergence of the gradient of a scalar field. It is often used in diffusion problems. For a function $u(x, y)$, the Laplacian is:\n",
    "    $$\n",
    "    \\Delta u = \\nabla \\cdot (\\nabla u) = \\frac{\\partial^2 u}{\\partial x^2} + \\frac{\\partial^2 u}{\\partial y^2}\n",
    "    $$\n",
    "\n",
    "### **Boundary Conditions**\n",
    "Boundary and initial conditions are essential for solving Partial Differential Equations (PDEs) because they provide the necessary information to obtain a unique solution. \n",
    "Boundary conditions specify the behavior of the solution at the boundaries of the domain. There are typically two types of boundary conditions:\n",
    "1. **Dirichlet Boundary Condition**: Specifies the value of the solution at the boundary. For example, if we are solving for temperature distribution, a Dirichlet boundary condition might specify the temperature at the boundary.\n",
    "    $$\n",
    "    u = g \\quad \\text{on } \\Gamma_D\n",
    "    $$\n",
    "\n",
    "2. **Neumann Boundary Condition**: Specifies the value of the derivative (flux) of the solution normal to the boundary. For example, in heat transfer problems, a Neumann boundary condition might specify the heat flux at the boundary.\n",
    "    $$\n",
    "    \\nabla u \\cdot \\mathbf{n} = h \\quad \\text{on } \\Gamma_N\n",
    "    $$\n",
    "\n",
    "### **Initial Conditions**\n",
    "Initial conditions specify the state of the system at the beginning of the time domain. For time-dependent problems, initial conditions are necessary to start the simulation. For example, in a heat conduction problem, the initial temperature distribution must be specified.\n",
    "\n",
    "### **Determining the Number of Boundary Conditions**\n",
    "The number of boundary conditions required depends on the order of the PDE and the dimensions of the domain. For a second-order PDE in a 2D domain, we typically need boundary conditions on all edges of the domain. The type and number of boundary conditions are determined by the physical problem and the mathematical formulation of the PDE.\n",
    "\n",
    "### **Effect of the Domain**\n",
    "The shape and size of the domain affect the boundary conditions. For example, a rectangular domain will have boundary conditions specified on four edges, while a circular domain will have boundary conditions specified along its circumference. The complexity of the domain can also influence the type of boundary conditions applied.\n",
    "\n",
    "In summary, boundary and initial conditions are crucial for solving PDEs as they ensure a unique and physically meaningful solution. The number and type of boundary conditions depend on the PDE's order, the domain's dimensions, and the specific physical problem being modeled.\n",
    "## **Boundary and initial conditions** "
   ]
  },
  {
   "cell_type": "markdown",
   "metadata": {},
   "source": [
    "Formally, the problem to solve is: find the scalar field $u(\\mathbf{x}, t)$ such that\n",
    "\n",
    "\n",
    "\\begin{cases} \n",
    "-\\Delta u = f & \\text{in } \\Omega, \\\\\n",
    "u = g & \\text{on } \\Gamma_D, \\\\\n",
    "\\nabla u \\cdot \\mathbf{n} = h & \\text{on } \\Gamma_N,\n",
    "\\end{cases}"
   ]
  },
  {
   "cell_type": "code",
   "execution_count": 1,
   "metadata": {},
   "outputs": [
    {
     "data": {
      "text/plain": [
       "h (generic function with 1 method)"
      ]
     },
     "execution_count": 1,
     "metadata": {},
     "output_type": "execute_result"
    }
   ],
   "source": [
    "f(x) = 1.0\n",
    "g(x) = 2.0\n",
    "h(x) = 3.0"
   ]
  },
  {
   "cell_type": "code",
   "execution_count": 2,
   "metadata": {},
   "outputs": [
    {
     "name": "stderr",
     "output_type": "stream",
     "text": [
      "\u001b[36m\u001b[1m[ \u001b[22m\u001b[39m\u001b[36m\u001b[1mInfo: \u001b[22m\u001b[39mPrecompiling Gridap [56d4f2e9-7ea1-5844-9cf6-b9c51ca7ce8e]\n",
      "\u001b[36m\u001b[1m[ \u001b[22m\u001b[39m\u001b[36m\u001b[1mInfo: \u001b[22m\u001b[39mPrecompiling GridapMakie [41f30b06-6382-4b60-a5f7-79d86b35bf5d]\n",
      "\u001b[33m\u001b[1m┌ \u001b[22m\u001b[39m\u001b[33m\u001b[1mWarning: \u001b[22m\u001b[39mDEPRECATION NOTICE\n",
      "\u001b[33m\u001b[1m│ \u001b[22m\u001b[39m\n",
      "\u001b[33m\u001b[1m│ \u001b[22m\u001b[39mFormatting.jl has been unmaintained for a while, with some serious\n",
      "\u001b[33m\u001b[1m│ \u001b[22m\u001b[39mcorrectness bugs compromising the original purpose of the package. As a result,\n",
      "\u001b[33m\u001b[1m│ \u001b[22m\u001b[39mit has been deprecated - consider using an alternative, such as\n",
      "\u001b[33m\u001b[1m│ \u001b[22m\u001b[39m`Format.jl` (https://github.com/JuliaString/Format.jl) or the `Printf` stdlib directly.\n",
      "\u001b[33m\u001b[1m│ \u001b[22m\u001b[39m\n",
      "\u001b[33m\u001b[1m│ \u001b[22m\u001b[39mIf you are not using Formatting.jl as a direct dependency, please consider\n",
      "\u001b[33m\u001b[1m│ \u001b[22m\u001b[39mopening an issue on any packages you are using that do use it as a dependency.\n",
      "\u001b[33m\u001b[1m│ \u001b[22m\u001b[39mFrom Julia 1.9 onwards, you can query `]why Formatting` to figure out which\n",
      "\u001b[33m\u001b[1m│ \u001b[22m\u001b[39mpackage originally brings it in as a dependency.\n",
      "\u001b[33m\u001b[1m└ \u001b[22m\u001b[39m\u001b[90m@ Formatting C:\\Users\\Kelsa\\.julia\\packages\\Formatting\\3VxOt\\src\\Formatting.jl:12\u001b[39m\n",
      "\u001b[36m\u001b[1m[ \u001b[22m\u001b[39m\u001b[36m\u001b[1mInfo: \u001b[22m\u001b[39mPrecompiling CairoMakie [13f3f980-e62b-5c42-98c6-ff1f3baf88f0]\n",
      "\u001b[36m\u001b[1m[ \u001b[22m\u001b[39m\u001b[36m\u001b[1mInfo: \u001b[22m\u001b[39mPrecompiling GLMakie [e9467ef8-e4e7-5192-8a1a-b1aee30e663a]\n",
      "\u001b[36m\u001b[1m[ \u001b[22m\u001b[39m\u001b[36m\u001b[1mInfo: \u001b[22m\u001b[39mMakie is caching fonts, this may take a while. Needed only on first run!\n"
     ]
    },
    {
     "data": {
      "text/plain": [
       "CartesianDiscreteModel()"
      ]
     },
     "execution_count": 2,
     "metadata": {},
     "output_type": "execute_result"
    }
   ],
   "source": [
    "using Gridap\n",
    "# using Plots\n",
    "using GridapMakie\n",
    "using CairoMakie\n",
    "using GLMakie\n",
    "\n",
    "domain = (0.0, 1.0, 0.0, 1.0)  # Define a square domain\n",
    "partition = (10,10)  # Mesh resolution\n",
    "model = CartesianDiscreteModel(domain, partition)"
   ]
  },
  {
   "cell_type": "code",
   "execution_count": 37,
   "metadata": {},
   "outputs": [
    {
     "data": {
      "text/plain": [
       "Gridap.Geometry.FaceLabeling:\n",
       " 0-faces: 121\n",
       " 1-faces: 220\n",
       " 2-faces: 100\n",
       " tags: 10\n",
       " entities: 9"
      ]
     },
     "metadata": {},
     "output_type": "display_data"
    }
   ],
   "source": [
    "labels = get_face_labeling(model)\n",
    "\n",
    "# 0-faces: vertices: points\n",
    "# 1-faces: edges: lines\n",
    "# 2-faces: faces: surfaces \n",
    "# 3-faces: cells: volumes "
   ]
  },
  {
   "cell_type": "markdown",
   "metadata": {},
   "source": [
    "Since we are considering the Poisson equation in 2D, we find that we have a total of 9 entities:\n",
    "\n",
    "* We have 4 vertices.\n",
    "* We have 4 edges\n",
    "* We have 1 face\n",
    "\n",
    "All these *entities* together make 9. Now the following step is to gives names to these entities, such that later when we solve the problem we can easily assign the boundary conditions. \n",
    "\n",
    "So from the above cel code we have the numbered labels of the model, and now we want to change these numbered labels to texted names. "
   ]
  },
  {
   "cell_type": "code",
   "execution_count": 38,
   "metadata": {},
   "outputs": [
    {
     "data": {
      "text/plain": [
       "12-element Vector{String}:\n",
       " \"tag_1\"\n",
       " \"tag_2\"\n",
       " \"tag_3\"\n",
       " \"tag_4\"\n",
       " \"tag_5\"\n",
       " \"tag_6\"\n",
       " \"tag_7\"\n",
       " \"tag_8\"\n",
       " \"interior\"\n",
       " \"boundary\"\n",
       " \"Dirichlet\"\n",
       " \"Neumann\""
      ]
     },
     "metadata": {},
     "output_type": "display_data"
    }
   ],
   "source": [
    "add_tag_from_tags!(labels, \"Dirichlet\", [5,7,8])\n",
    "add_tag_from_tags!(labels, \"Neumann\", [6])"
   ]
  },
  {
   "cell_type": "code",
   "execution_count": 39,
   "metadata": {},
   "outputs": [
    {
     "data": {
      "text/plain": [
       "CompositeTriangulation()"
      ]
     },
     "metadata": {},
     "output_type": "display_data"
    }
   ],
   "source": [
    "Ω = Triangulation(model)\n",
    "Γ_D = Boundary(Ω,tags=\"Dirichlet\")\n",
    "Γ_N = Boundary(Ω,tags=\"Neumann\")"
   ]
  },
  {
   "cell_type": "markdown",
   "metadata": {},
   "source": [
    "# Finite Element spaces"
   ]
  },
  {
   "cell_type": "code",
   "execution_count": 46,
   "metadata": {},
   "outputs": [
    {
     "data": {
      "text/plain": [
       "TrialFESpace()"
      ]
     },
     "metadata": {},
     "output_type": "display_data"
    }
   ],
   "source": [
    "order = 1\n",
    "reffe = ReferenceFE(lagrangian, Float64, order)\n",
    "V0 = TestFESpace(Ω, reffe; conformity=:H1, dirichlet_tags=\"Dirichlet\")\n",
    "U0 = TrialFESpace(V0, g)"
   ]
  },
  {
   "cell_type": "code",
   "execution_count": 49,
   "metadata": {},
   "outputs": [
    {
     "data": {
      "text/plain": [
       "GenericMeasure()"
      ]
     },
     "metadata": {},
     "output_type": "display_data"
    }
   ],
   "source": [
    "degree = 2\n",
    "dΩ = Measure(Ω,degree)\n",
    "dΓ_D  = Measure(Γ_D,degree)\n",
    "dΓ_N = Measure(Γ_N,degree)"
   ]
  },
  {
   "cell_type": "code",
   "execution_count": 51,
   "metadata": {},
   "outputs": [
    {
     "data": {
      "text/plain": [
       "b (generic function with 1 method)"
      ]
     },
     "metadata": {},
     "output_type": "display_data"
    }
   ],
   "source": [
    "a(u,v) = ∫( ∇(v)⋅∇(u) )*dΩ\n",
    "b(v) = ∫( v*f )*dΩ + ∫( v*h )*dΓ_N"
   ]
  },
  {
   "cell_type": "code",
   "execution_count": 52,
   "metadata": {},
   "outputs": [
    {
     "data": {
      "text/plain": [
       "AffineFEOperator()"
      ]
     },
     "metadata": {},
     "output_type": "display_data"
    }
   ],
   "source": [
    "op = AffineFEOperator(a,b,U0,V0)"
   ]
  },
  {
   "cell_type": "code",
   "execution_count": 53,
   "metadata": {},
   "outputs": [
    {
     "data": {
      "text/plain": [
       "SingleFieldFEFunction():\n",
       " num_cells: 100\n",
       " DomainStyle: ReferenceDomain()\n",
       " Triangulation: BodyFittedTriangulation()\n",
       " Triangulation id: 15381795345852993462"
      ]
     },
     "metadata": {},
     "output_type": "display_data"
    }
   ],
   "source": [
    "ls = LUSolver()\n",
    "solver = LinearFESolver(ls)\n",
    "\n",
    "uh = solve(solver,op)"
   ]
  },
  {
   "cell_type": "code",
   "execution_count": null,
   "metadata": {},
   "outputs": [],
   "source": [
    "# writevtk(Ω,\"results\",cellfields=[\"uh\"=>uh])"
   ]
  }
 ],
 "metadata": {
  "kernelspec": {
   "display_name": "Julia 1.9.2",
   "language": "julia",
   "name": "julia-1.9"
  },
  "language_info": {
   "file_extension": ".jl",
   "mimetype": "application/julia",
   "name": "julia",
   "version": "1.9.2"
  }
 },
 "nbformat": 4,
 "nbformat_minor": 2
}
