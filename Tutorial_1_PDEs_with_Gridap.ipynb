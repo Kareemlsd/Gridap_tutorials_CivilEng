{
 "cells": [
  {
   "cell_type": "markdown",
   "metadata": {},
   "source": [
    "# **Solving PDEs with Gridap**\n",
    "\n",
    "In this tutorial we will go through the fundamental theory of the Finite Element Method to solve PDEs. This theory expects little to no knowledge in FEM and is written as a roadmap which can be followed to solve most PDEs using Gridap. \n",
    "\n",
    "To apply the theory we will solve the Poisson equation. After each piece of theory, we apply the theory to the problem to demonstrate the workflow presented in the tutorial.\n",
    "\n",
    "Let's begin!"
   ]
  },
  {
   "cell_type": "markdown",
   "metadata": {},
   "source": [
    "## **What is a (Partial) Differential Equation P(DE)?**\n",
    "\n",
    "To describe phenomena in the real world we need to understand the physics behind the phenomena. Physics can often be described in words, but most often we want to describe the physics using mathematical equations. For these kind of problems we always have two kind of variables: \n",
    "\n",
    "1. Independent variables: such as space ($\\mathbf{x}$) and time ($t$).\n",
    "2. Dependent variables: a variable that depends on the independent variables (for instance, the deformation of a beam along its span (thus space) and in time)\n",
    "\n",
    "The relation between independent and dependent variables is given by a (partial) differential equation, along with initial and boundary conditions such that we can solve the (P)DE and find the ***dependent*** variables, which we initially do not know. Hence, a P(DE) only describes the relation between the dependent and independent variables, from which we can then *find* the unknown dependent variables.\n",
    "\n",
    "In this theory we will mainly focus on **Partial Differential Equations** since these are regarded more difficult to solve using analytical approaches,in comparison to Ordinary Differential Equations. \n",
    "\n",
    "One of the most known PDEs is the ***Poisson Equation***. Hence, in this tutorial we will solve the ***Poisson Equation*** to demonstrate the purposed roadmap. Keep in mind that the purposed roadmap can be (in most cases) applicable for other PDEs."
   ]
  },
  {
   "cell_type": "markdown",
   "metadata": {},
   "source": [
    "# Solve Poisson equation on a 2D square"
   ]
  },
  {
   "cell_type": "markdown",
   "metadata": {},
   "source": [
    "Basic steps for FEM:\n",
    "1. Find the physical problem\n",
    "2. Describe the mathematical model\n",
    "    1. Governing equations (PDEs, boundary conditions, initial conditions)\n",
    "    2. Constant parameters , source functions\n",
    "    3. Define the unknown quantities to solve for\n",
    "3. Create FE space to find the unknown quantities in.\n",
    "    1. Create mesh\n",
    "        1. Mesh density & mesh profile\n",
    "        2. Type of FE spaces\n",
    "        3. Conformity of the FE functions \n",
    "4. Writing the weak form of the problem.\n",
    "5. Solving the problem.\n",
    "6. Iterating for different mesh sizes until solution converges."
   ]
  },
  {
   "cell_type": "markdown",
   "metadata": {},
   "source": [
    "# **Step 1: Define physical problem**\n",
    "\n",
    "The very first step for all problems is to define the physical problem. This step is for the largest part unconnected to the Finite Element Method but is essential in order to be able to continue. For this we need to understand some terminology and symbols which we often encounter in PDEs.\n",
    "## **Scalar and vector valued variables**\n",
    "For simplicity, we consider *two* type of variables: ***scalar valued variables*** and ***vector valued variables***.\n",
    "\n",
    "### ***Scalar valued variables***\n",
    "A ***scalar valued variable*** is a variable which, as the name says, is a scalar. Imagine we would like to know the deformation of a beam in space and time. Hence, we want to find a dependent variable, in this case the deformation of the beam denoted as $u$, as a function of the space and time (the independent variables). For a 1D beam we can describe the deformation as:\n",
    "$$\n",
    "    \\text{deformation of the beam at } x_{0} \\text{ and } t_{0} : u(x_{0},t_{0}) = \\text{a scalar which describes the deformation at } x_{0} \\text{ and } t_{0}\n",
    "$$\n",
    "Mathematically we denote this as:\n",
    "$$\n",
    "u : \\mathbb{R}^d \\times \\mathbb{R} \\rightarrow \\mathbb{R}\n",
    "$$\n",
    "which means that the deformation can be explained be a function $u$ that has two inputs: the space of the beam, which has $d$ dimensions (for a 1D beam, $d$=1 etc.), and the second input is time (which is always \"1D\"). Note that for the deformation of a plate, the space would not be 1-dimensional anymore, since we then would consider $\\mathbf{x} = (x,y)$. In that case our space is a *vector-valued variable*, but our dependent variable, $u$, remains a scalar-valued variable since the deformation of a plate is still a scalar along the space of the plate.\n",
    "\n",
    "### ***Vector valued variables***\n",
    "A ***vector valued variable*** is a variable which, as the name says, is a vector. Vector valued variables describe a quantity using a vector, and not as a scalar. One example is the velocity of a fluid. Imagine we want to describe the velocity of a fluid in a 2D space. The velocity at any point in space and time can be described by a vector with two components (one for each spatial dimension). Mathematically, we denote this as:\n",
    "\n",
    "$$\n",
    "\\mathbf{v} : \\mathbb{R}^d \\times \\mathbb{R} \\rightarrow \\mathbb{R}^d\n",
    "$$\n",
    "\n",
    "which means that the velocity can be explained by a function $\\mathbf{v}$ that has two inputs: the space of the fluid, which has $d$ dimensions (for a 2D space, $d$=2), and the second input is time. The output of this function is a vector with $d$ components, each representing the velocity in one of the spatial dimensions. For example, in a 2D space, the velocity at a point $(x_0, y_0)$ and time $t_0$ can be written as:\n",
    "\n",
    "$$\n",
    "\\mathbf{v}((x_0, y_0), t_0) = \\begin{pmatrix} v_x((x_0, y_0), t_0) \\\\ v_y((x_0, y_0), t_0) \\end{pmatrix}\n",
    "$$\n",
    "\n",
    "where $v_x$ and $v_y$ are the velocity components in the $x$ and $y$ directions, respectively.\n",
    "\n",
    "## **Symbols**\n",
    "\n",
    "The Finite Element Method relies on a strong understanding of mathematics and is often formulated using mathematical symbols which *set* the \"rules\" and describe the relation between the dependent and dependent variables. \n",
    "\n",
    "### **Operators**\n",
    "\n",
    "In the context of PDEs and FEM, operators are mathematical tools that help us describe the relationships between variables. Here are some common operators:\n",
    "\n",
    "1. **Gradient ($\\nabla$)**: The gradient operator takes a scalar field and produces a vector field. It represents the rate and direction of change in the scalar field. For a function $u(x, y)$, the gradient is:\n",
    "    $$\n",
    "    \\nabla u = \\begin{pmatrix} \\frac{\\partial u}{\\partial x} \\\\ \\frac{\\partial u}{\\partial y} \\end{pmatrix}\n",
    "    $$\n",
    "\n",
    "2. **Divergence ($\\nabla \\cdot$)**: The divergence operator takes a vector field and produces a scalar field. It measures the magnitude of a source or sink at a given point. For a vector field $\\mathbf{v} = (v_x, v_y)$, the divergence is:\n",
    "    $$\n",
    "    \\nabla \\cdot \\mathbf{v} = \\frac{\\partial v_x}{\\partial x} + \\frac{\\partial v_y}{\\partial y}\n",
    "    $$\n",
    "\n",
    "3. **Laplacian ($\\Delta$)**: The Laplacian operator is the divergence of the gradient of a scalar field. It is often used in diffusion problems. For a function $u(x, y)$, the Laplacian is:\n",
    "    $$\n",
    "    \\Delta u = \\nabla \\cdot (\\nabla u) = \\frac{\\partial^2 u}{\\partial x^2} + \\frac{\\partial^2 u}{\\partial y^2}\n",
    "    $$\n",
    "\n",
    "### **Boundary Conditions**\n",
    "Boundary and initial conditions are essential for solving Partial Differential Equations (PDEs) because they provide the necessary information to obtain a ***unique*** solution. \n",
    "\n",
    "Boundary conditions are, as the name says, used to assign the value of the unknown dependent variable at the boundaries of the considered domain. Boundary conditions are essential to solve the problem in *space*.\n",
    "\n",
    "Boundary conditions specify the behavior of the solution at the boundaries of the domain. There are typically two types of boundary conditions:\n",
    "1. **Dirichlet Boundary Condition**: Specifies the value of the solution at the boundary. For example, if we are solving for temperature distribution, a Dirichlet boundary condition might specify the temperature at the boundary.\n",
    "    $$\n",
    "    u = g \\quad \\text{on } \\Gamma_D\n",
    "    $$\n",
    "\n",
    "2. **Neumann Boundary Condition**: Specifies the value of the derivative (flux) of the solution normal to the boundary. For example, in heat transfer problems, a Neumann boundary condition might specify the heat flux at the boundary.\n",
    "    $$\n",
    "    \\nabla u \\cdot \\mathbf{n} \\equiv \\frac{\\partial u}{\\partial n} =  h \\quad \\text{on } \\Gamma_N\n",
    "    $$\n",
    "\n",
    "Often it can be difficult to understand the definition of a \"boundary\", especially for beginners. However, a **boundary** of a **domain** \"lives\" in the *(n-1)*-dimension of a domain that is defined in *n*-dimensions. \n",
    "\n",
    "That is, let $\\Omega \\subset \\mathbb{R}^n$ be an open domain where the governing PDE is defined. The $\\textbf{boundary}$ of the domain, denoted as $\\partial \\Omega$, is the set of points that separate the interior of $\\Omega$ from its exterior.\n",
    "\n",
    "Mathematically:\n",
    "$$\n",
    "\\partial \\Omega = \\overline{\\Omega} \\setminus \\Omega,\n",
    "$$\n",
    "where:\n",
    "1. $\\overline{\\Omega}$: The $\\textbf{closure}$ of $\\Omega$, which includes all points in $\\Omega$ and all its boundary points.\n",
    "2. $\\Omega$: The $\\textbf{interior}$ of the domain, excluding the boundary. \n",
    "3. $\\setminus$: Denotes the set difference. \n",
    "    \n",
    "In simpler terms, $\\partial \\Omega$ consists of all points $\\mathbf{x} \\in \\mathbb{R}^n$ that act like a barrier between the domain $\\Omega$ and its complement $\\mathbb{R}^n \\setminus \\Omega$ (the \"outside world\").\n",
    "\n",
    "\n",
    "<div style=\"text-align: center;\">\n",
    "  <img src=\"../images/boundaries.png\" alt=\"Domain Poisson\" width=\"600\"/>\n",
    "</div>\n",
    "\n",
    "### **Determining the Number of Boundary Conditions**\n",
    "Determining the number of boundary conditions can be challenging, especially if the boundary can be split in multiple separate components. There are two important points we should consider:\n",
    "1. The minimum number of boundary conditions needed is equal to the order of the PDE (that is the order of the highest derivative in the governing equation).\n",
    "2. The behaviour around ***all*** boundaries should be defined. \n",
    "3. The boundary conditions should ***not*** contradict each other (can be the case when there are *too* many boundary conditions defined, without ensuring the physical validity of the BCs).\n",
    "\n",
    "### **Initial Conditions**\n",
    "Initial conditions specify the state of the system at the beginning of the time domain. For time-dependent problems, initial conditions are necessary to start the simulation. For example, in a heat conduction problem, the initial temperature distribution must be specified.\n",
    "\n",
    "Initial conditions are easy to define. The rule is that for a *(n-th)*-order derivative in time present in the governing equation, we need *n-1* initial conditions that are of lower order-derivative than the one present in the governing equation."
   ]
  },
  {
   "cell_type": "markdown",
   "metadata": {},
   "source": [
    "# *Physical problem : Poisson equation*\n",
    "\n",
    "Formally, the problem to solve is: find the scalar field $u(\\mathbf{x}, t)$ such that\n",
    "\n",
    "\\begin{cases} \n",
    "-\\Delta u = f(\\mathbf{x}) & \\text{in } \\Omega, \\\\\n",
    "u = g(\\mathbf{x}) & \\text{on } \\Gamma_D, \\\\\n",
    "\\nabla u \\cdot \\mathbf{n} = h(\\mathbf{x}) & \\text{on } \\Gamma_N,\n",
    "\\end{cases}\n",
    "\n",
    "where the domain and boundaries are defined as:\n",
    "\n",
    "<div style=\"text-align: center;\">\n",
    "  <img src=\"../Gridap_tutorials_TUDelft/images/domain_Poisson_Eq.png\" alt=\"Domain Poisson\" width=\"300\"/>\n",
    "</div>\n",
    "\n",
    "$$\n",
    "\\Omega = [0, 1] \\times [0, 1].\n",
    "$$\n",
    "\n",
    "and \n",
    "\n",
    "$$\n",
    "f(\\mathbf{x}) = 1.0\n",
    "$$\n",
    "\n",
    "$$\n",
    "g(\\mathbf{x}) = 2.0\n",
    "$$\n",
    "\n",
    "$$\n",
    "h(\\mathbf{x}) = 3.0\n",
    "$$"
   ]
  },
  {
   "cell_type": "markdown",
   "metadata": {},
   "source": [
    "Very first step in Gridap, is to always define what we already know. In this case we know the source function $f$ and we know the values at the boundaries, which are given by the function $g$ and $h$. Moreover, we have defined the domain."
   ]
  },
  {
   "cell_type": "code",
   "execution_count": 531,
   "metadata": {},
   "outputs": [
    {
     "data": {
      "text/plain": [
       "CartesianDiscreteModel()"
      ]
     },
     "metadata": {},
     "output_type": "display_data"
    }
   ],
   "source": [
    "#  Import necessary packages\n",
    "\n",
    "using Gridap\n",
    "using Plots\n",
    "using GridapMakie\n",
    "using CairoMakie \n",
    "using GLMakie\n",
    "using Gridap.Geometry\n",
    "\n",
    "# Define known parameters/functions\n",
    "f(x) = 1.0\n",
    "g(x) = 2.0\n",
    "h(x) = 3.0\n",
    "\n",
    "# Define a square domain \n",
    "domain = (0.0, 1.0, 0.0, 1.0) # ([0,1] in x-direction and [0,1] in y-direction)\n",
    "\n",
    "# We define the mesh resolution\n",
    "partition = (10,10)  # 10 by 10 \n",
    "\n",
    "# Finally, we create a model which is an \"object\" we can work with later in the tutorial.\n",
    "model = CartesianDiscreteModel(domain, partition)"
   ]
  },
  {
   "cell_type": "markdown",
   "metadata": {},
   "source": [
    "Now from this model we want to find the \"labels\". Gridap automatically labels the entities of the model. The entities are the vertices (points), edges (lines), faces (surfaces) and cells (volumes). Gridap uses numbers, but it is more convenient to rename those entities to our liking. \n",
    "\n",
    "But first, let us print the initial labels of Gridap!"
   ]
  },
  {
   "cell_type": "code",
   "execution_count": 532,
   "metadata": {},
   "outputs": [
    {
     "data": {
      "text/plain": [
       "FaceLabeling:\n",
       " 0-faces: 121\n",
       " 1-faces: 220\n",
       " 2-faces: 100\n",
       " tags: 10\n",
       " entities: 9"
      ]
     },
     "metadata": {},
     "output_type": "display_data"
    }
   ],
   "source": [
    "labels = get_face_labeling(model)\n",
    "# 0-faces: vertices: points\n",
    "# 1-faces: edges: lines\n",
    "# 2-faces: faces: surfaces \n",
    "# 3-faces: cells: volumes "
   ]
  },
  {
   "cell_type": "markdown",
   "metadata": {},
   "source": [
    "<div style=\"text-align: center;\">\n",
    "  <img src=\"../Gridap_tutorials_TUDelft/images/labels_Gridap.png\" alt=\"Gridap labels\" width=\"300\"/>\n",
    "</div>"
   ]
  },
  {
   "cell_type": "markdown",
   "metadata": {},
   "source": [
    "Since we are considering the Poisson equation in 2D, we find that we have a total of 9 entities:\n",
    "\n",
    "* We have 4 vertices (4 points that connect the edges)\n",
    "* We have 4 edges (4 lines that form the boundary)\n",
    "* We have 1 face (1 surface that represents the domain)\n",
    "\n",
    "All these *entities* together make 9. Now the following step is to gives names to these entities, such that later when we solve the problem we can easily assign the boundary conditions. We can check this by plotting it using *CairoMakie*, which is a Julia package for plotting. The code below is purely for visualization reasons and should NOT be studied. "
   ]
  },
  {
   "cell_type": "code",
   "execution_count": 533,
   "metadata": {},
   "outputs": [],
   "source": [
    "initial_tags = get_tag_entities(labels)[end]\n",
    "\n",
    "# Set up the figure and axis (3D if model is 3D)\n",
    "fig = Figure(resolution=(800, 600))\n",
    "\n",
    "# In case our domain is 3D\n",
    "face_colors = [\n",
    "    :red,       \n",
    "    :blue,      \n",
    "    :green,     \n",
    "    :yellow,    \n",
    "    :orange,    \n",
    "    :purple     \n",
    "]\n",
    "\n",
    "index_color = 1\n",
    "\n",
    "if num_cell_dims(model) == 3\n",
    "    ax = Axis3(fig[1, 1], title=\"Domain with Boundary Tags\", xlabel=\"x\", ylabel=\"y\", zlabel=\"z\")\n",
    "else\n",
    "    ax = Axis(fig[1, 1], title=\"Domain with Boundary Tags\", xlabel=\"x\", ylabel=\"y\")\n",
    "end\n",
    "\n",
    "# Plot the domain\n",
    "if num_cell_dims(model) == 3\n",
    "    CairoMakie.mesh!(ax, Triangulation(model))\n",
    "else\n",
    "    CairoMakie.plot!(ax, Triangulation(model))\n",
    "end\n",
    "\n",
    "# Plot boundaries and vertices for each tag\n",
    "for tag in initial_tags\n",
    "    # Create the boundary for the current tag\n",
    "    if length(initial_tags) >= 10 && tag < 10\n",
    "        tag_string = \"tag_0\"*string(tag)\n",
    "        Γ = Boundary(Triangulation(model), tags=tag_string)\n",
    "    else\n",
    "        tag_string = \"tag_\"*string(tag)\n",
    "        Γ = Boundary(Triangulation(model), tags=tag_string)\n",
    "    end\n",
    "    try    \n",
    "        # Ensure the boundary is valid and plot it\n",
    "        if Γ !== nothing\n",
    "            if num_cell_dims(model) == 3\n",
    "                CairoMakie.mesh!(ax, Γ, transparency=false, label=\"Boundary \" * string(tag), color=face_colors[index_color])\n",
    "                index_color = index_color+1\n",
    "            else\n",
    "                CairoMakie.wireframe!(ax, Γ, linewidth=5, label=\"Boundary \" * string(tag))\n",
    "            end\n",
    "        else\n",
    "            println(\"Warning: Boundary for tag_\", tag, \" is empty or invalid.\")\n",
    "        end\n",
    "    catch e\n",
    "        # println(\"Error processing tag_\", tag, \": \", e)\n",
    "        # Γ = Boundary(Triangulation(model), tags=tag_string)\n",
    "        # CairoMakie.scatter!(Γ, marker=:star8, label=\"vertex \"*string(tag), markersize=10)\n",
    "    end\n",
    "end\n",
    "\n",
    "# Add the legend to the axis\n",
    "if num_cell_dims(model) < 3\n",
    "    axis_legend = Legend(fig, ax)\n",
    "    fig[1, 2] = axis_legend  # Place the legend in the second column\n",
    "end\n",
    "\n",
    "# # Save the plot (optional)\n",
    "# save(\"./images/domain_with_boundaries.png\", fig)\n",
    "\n",
    "# Display the figure\n",
    "fig"
   ]
  },
  {
   "cell_type": "markdown",
   "metadata": {},
   "source": [
    "So from the above cel code we have the numbered labels of the model, and now we want to create new *texted* tags from the numbered labels. "
   ]
  },
  {
   "cell_type": "code",
   "execution_count": 534,
   "metadata": {},
   "outputs": [],
   "source": [
    "add_tag_from_tags!(labels, \"Dirichlet\", [5,7,8]) # We join all the vertices = [5,6,8] to \"Dirichlet\" since on these vertices we have the Dirichlet boundary condition.\n",
    "add_tag_from_tags!(labels, \"Neumann\", [6]);  # We make vertex = 7 to \"Neumann\" since on this vertex we have the Neumann boundary condition."
   ]
  },
  {
   "cell_type": "markdown",
   "metadata": {},
   "source": [
    "### Triangulation and Boundary Extraction in Gridap\n",
    "\n",
    "In $\\textbf{Gridap}$, a $\\texttt{Triangulation}$ is used to divide the computational domain into smaller, manageable pieces (such as triangles or tetrahedra) for numerical calculations. This forms the foundation for solving Partial Differential Equations (PDEs) using the Finite Element Method (FEM). \n",
    "\n",
    "The domain, denoted as $\\Omega$, is represented by its triangulation:\n",
    "$$\n",
    "\\Omega = \\texttt{Triangulation(model)}\n",
    "$$\n",
    "\n",
    "From this triangulation, specific parts of the boundary are extracted using $\\texttt{Boundary}$ with tags:\n",
    "\n",
    "$$\n",
    "\\Gamma_D = \\texttt{Boundary}(\\Omega, \\text{tags=\"Dirichlet\"})\n",
    "$$\n",
    "This corresponds to the sections of the boundary where $\\textbf{Dirichlet boundary conditions}$ are applied. These conditions fix the value of the solution, as discussed before.\n",
    "\n",
    "$$\n",
    "\\Gamma_N = \\texttt{Boundary}(\\Omega, \\text{tags=\"Neumann\"})\n",
    "$$\n",
    "This identifies the sections of the boundary where $\\textbf{Neumann boundary conditions}$ are applied. These conditions specify the fluxes, as discussed before.\n",
    "\n",
    "By tagging these boundaries, specific physical conditions can be applied to different parts of the domain. This step is essential to define the mathematical problem that Gridap will solve.\n"
   ]
  },
  {
   "cell_type": "code",
   "execution_count": 535,
   "metadata": {},
   "outputs": [
    {
     "data": {
      "text/plain": [
       "CompositeTriangulation()"
      ]
     },
     "metadata": {},
     "output_type": "display_data"
    }
   ],
   "source": [
    "Ω = Triangulation(model)\n",
    "Γ_D = Boundary(Ω,tags=\"Dirichlet\")\n",
    "Γ_N = Boundary(Ω,tags=\"Neumann\")"
   ]
  },
  {
   "cell_type": "markdown",
   "metadata": {},
   "source": [
    "# Finite Element spaces"
   ]
  },
  {
   "cell_type": "code",
   "execution_count": 504,
   "metadata": {},
   "outputs": [
    {
     "data": {
      "text/plain": [
       "TrialFESpace()"
      ]
     },
     "metadata": {},
     "output_type": "display_data"
    }
   ],
   "source": [
    "order = 1\n",
    "reffe = ReferenceFE(lagrangian, Float64, order)\n",
    "V0 = TestFESpace(Ω, reffe; conformity=:H1, dirichlet_tags=\"Dirichlet\")\n",
    "U0 = TrialFESpace(V0, g)"
   ]
  },
  {
   "cell_type": "code",
   "execution_count": 505,
   "metadata": {},
   "outputs": [
    {
     "data": {
      "text/plain": [
       "GenericMeasure()"
      ]
     },
     "metadata": {},
     "output_type": "display_data"
    }
   ],
   "source": [
    "degree = 2\n",
    "dΩ = Measure(Ω,degree)\n",
    "dΓ_D  = Measure(Γ_D,degree)\n",
    "dΓ_N = Measure(Γ_N,degree)"
   ]
  },
  {
   "cell_type": "code",
   "execution_count": 506,
   "metadata": {},
   "outputs": [
    {
     "data": {
      "text/plain": [
       "b (generic function with 1 method)"
      ]
     },
     "metadata": {},
     "output_type": "display_data"
    }
   ],
   "source": [
    "a(u,v) = ∫( ∇(v)⋅∇(u) )*dΩ\n",
    "b(v) = ∫( v*f )*dΩ + ∫( v*h )*dΓ_N"
   ]
  },
  {
   "cell_type": "code",
   "execution_count": 507,
   "metadata": {},
   "outputs": [
    {
     "data": {
      "text/plain": [
       "AffineFEOperator()"
      ]
     },
     "metadata": {},
     "output_type": "display_data"
    }
   ],
   "source": [
    "op = AffineFEOperator(a,b,U0,V0)"
   ]
  },
  {
   "cell_type": "code",
   "execution_count": 508,
   "metadata": {},
   "outputs": [
    {
     "data": {
      "text/plain": [
       "SingleFieldFEFunction():\n",
       " num_cells: 100\n",
       " DomainStyle: ReferenceDomain()\n",
       " Triangulation: BodyFittedTriangulation()\n",
       " Triangulation id: 14591716719703299956"
      ]
     },
     "metadata": {},
     "output_type": "display_data"
    }
   ],
   "source": [
    "ls = LUSolver()\n",
    "solver = LinearFESolver(ls)\n",
    "\n",
    "uh = solve(solver,op)"
   ]
  },
  {
   "cell_type": "code",
   "execution_count": 509,
   "metadata": {},
   "outputs": [
    {
     "data": {
      "text/plain": [
       "([\"results.vtu\"],)"
      ]
     },
     "metadata": {},
     "output_type": "display_data"
    }
   ],
   "source": [
    "writevtk(Ω,\"results\",cellfields=[\"uh\"=>uh])"
   ]
  },
  {
   "cell_type": "code",
   "execution_count": null,
   "metadata": {},
   "outputs": [],
   "source": []
  }
 ],
 "metadata": {
  "kernelspec": {
   "display_name": "Julia 1.9.3",
   "language": "julia",
   "name": "julia-1.9"
  },
  "language_info": {
   "file_extension": ".jl",
   "mimetype": "application/julia",
   "name": "julia",
   "version": "1.9.3"
  }
 },
 "nbformat": 4,
 "nbformat_minor": 2
}
