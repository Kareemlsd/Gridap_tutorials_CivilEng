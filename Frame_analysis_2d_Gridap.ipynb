{
 "cells": [
  {
   "cell_type": "markdown",
   "metadata": {},
   "source": [
    "## Frame"
   ]
  },
  {
   "cell_type": "code",
   "execution_count": 1,
   "metadata": {},
   "outputs": [],
   "source": [
    "using Gridap\n",
    "using Plots\n",
    "using GridapMakie\n",
    "using CairoMakie \n",
    "using GLMakie\n",
    "using Gridap.Geometry\n",
    "using GridapGmsh\n",
    "using Gmsh: Gmsh, gmsh"
   ]
  },
  {
   "cell_type": "code",
   "execution_count": 2,
   "metadata": {},
   "outputs": [
    {
     "name": "stdout",
     "output_type": "stream",
     "text": [
      "Info    : Reading './msh_files/OFFSHORE_NASAL_JACKET.geo'...\n",
      "Info    : Done reading './msh_files/OFFSHORE_NASAL_JACKET.geo'\n"
     ]
    }
   ],
   "source": [
    "# Initialize the Gmsh API\n",
    "gmsh.initialize()\n",
    "\n",
    "# Open the .geo file\n",
    "geo_file = \"./msh_files/OFFSHORE_NASAL_JACKET.geo\"\n",
    "gmsh.open(geo_file)\n",
    "\n",
    "# Set options to ensure lines are not subdivided\n",
    "gmsh.option.set_number(\"Mesh.ElementOrder\", 1)\n",
    "\n",
    "# println(\"Mesh saved as $msh_file\")"
   ]
  },
  {
   "cell_type": "code",
   "execution_count": 3,
   "metadata": {},
   "outputs": [
    {
     "name": "stdout",
     "output_type": "stream",
     "text": [
      "Info    : Meshing 1D...\n",
      "Info    : [  0%] Meshing curve 1 (Line)\n",
      "Info    : [ 10%] Meshing curve 2 (Line)\n",
      "Info    : [ 10%] Meshing curve 3 (Line)\n",
      "Info    : [ 20%] Meshing curve 4 (Line)\n",
      "Info    : [ 20%] Meshing curve 5 (Line)\n",
      "Info    : [ 20%] Meshing curve 6 (Line)\n",
      "Info    : [ 30%] Meshing curve 7 (Line)\n",
      "Info    : [ 30%] Meshing curve 8 (Line)\n",
      "Info    : [ 30%] Meshing curve 9 (Line)\n",
      "Info    : [ 40%] Meshing curve 10 (Line)\n",
      "Info    : [ 40%] Meshing curve 11 (Line)\n",
      "Info    : [ 50%] Meshing curve 12 (Line)\n",
      "Info    : [ 50%] Meshing curve 13 (Line)\n",
      "Info    : [ 50%] Meshing curve 14 (Line)\n",
      "Info    : [ 60%] Meshing curve 15 (Line)\n",
      "Info    : [ 60%] Meshing curve 16 (Line)\n",
      "Info    : [ 60%] Meshing curve 17 (Line)\n",
      "Info    : [ 70%] Meshing curve 18 (Line)\n",
      "Info    : [ 70%] Meshing curve 19 (Line)\n",
      "Info    : [ 80%] Meshing curve 20 (Line)\n",
      "Info    : [ 80%] Meshing curve 21 (Line)\n",
      "Info    : [ 80%] Meshing curve 22 (Line)\n",
      "Info    : [ 90%] Meshing curve 23 (Line)\n",
      "Info    : [ 90%] Meshing curve 24 (Line)\n",
      "Info    : [ 90%] Meshing curve 25 (Line)\n",
      "Info    : [100%] Meshing curve 26 (Line)\n",
      "Info    : [100%] Meshing curve 27 (Line)\n",
      "Info    : Done meshing 1D (Wall 0.00615883s, CPU 0s)\n",
      "Info    : 21 nodes 48 elements\n",
      "Info    : Writing './msh_files/OFFSHORE_NASAL_JACKET.msh'...\n",
      "Info    : Done writing './msh_files/OFFSHORE_NASAL_JACKET.msh'\n"
     ]
    }
   ],
   "source": [
    "gmsh.option.set_number(\"Mesh.CharacteristicLengthMax\", 1e3)\n",
    "gmsh.option.set_number(\"Mesh.CharacteristicLengthMin\", 1e2)\n",
    "\n",
    "# Generate the mesh\n",
    "gmsh.model.mesh.generate(1)  # Generate a 1D mesh (the physical elements are 1D (!))\n",
    "\n",
    "# Save as .msh file\n",
    "msh_file = \"./msh_files/OFFSHORE_NASAL_JACKET.msh\"\n",
    "gmsh.write(msh_file)\n",
    "\n",
    "# Finalize Gmsh\n",
    "gmsh.finalize()"
   ]
  },
  {
   "cell_type": "code",
   "execution_count": 4,
   "metadata": {},
   "outputs": [
    {
     "name": "stdout",
     "output_type": "stream",
     "text": [
      "Info    : Reading 'msh_files/OFFSHORE_NASAL_JACKET.msh'...\n",
      "Info    : 48 entities\n",
      "Info    : 21 nodes\n",
      "Info    : 31 elements\n",
      "Info    : Done reading 'msh_files/OFFSHORE_NASAL_JACKET.msh'\n"
     ]
    },
    {
     "data": {
      "text/plain": [
       "UnstructuredDiscreteModel()"
      ]
     },
     "metadata": {},
     "output_type": "display_data"
    }
   ],
   "source": [
    "# Define known parameters/functions for the rod equation\n",
    "\n",
    "# Nacelle\n",
    "F_Nacelle = 5000*9.81 # inwards tension N\n",
    "\n",
    "# Pile \n",
    "m_Pile(x) = (1000*9.81) # N/m\n",
    "EA_Pile = 1e8 # Nm2\n",
    "\n",
    "# Jacket \n",
    "m_Jacket(x) = (100*9.81) # N/m \n",
    "EA_Jacket = 1e6 # Nm2\n",
    "\n",
    "# E = 200e9 # Young's modulus (Pa)\n",
    "# h = 0.10\n",
    "# t = 0.10\n",
    "# A = h*t # Cross-sectional area (m²)\n",
    "# EA = E*A\n",
    "\n",
    "# f(x) = 1000.0 # N/m\n",
    "# T = 500e6 # N (tensile force acting on the middle and top element)\n",
    "\n",
    "model = GmshDiscreteModel(\"msh_files/OFFSHORE_NASAL_JACKET.msh\")"
   ]
  },
  {
   "cell_type": "code",
   "execution_count": 5,
   "metadata": {},
   "outputs": [
    {
     "data": {
      "text/plain": [
       "Dict{String, Int64} with 5 entries:\n",
       "  \"Jacket Members\" => 4\n",
       "  \"Pile Members\"   => 5\n",
       "  \"Supports\"       => 1\n",
       "  \"Bottom Pile\"    => 3\n",
       "  \"Nacelle\"        => 2"
      ]
     },
     "metadata": {},
     "output_type": "display_data"
    }
   ],
   "source": [
    "# Set up the figure and axis \n",
    "labels = get_face_labeling(model)\n",
    "initial_tags = get_tag_entities(labels)[end]\n",
    "tag_from_names = get_tag_from_name(labels)"
   ]
  },
  {
   "cell_type": "code",
   "execution_count": 6,
   "metadata": {},
   "outputs": [],
   "source": [
    "# Set up the figure and axis \n",
    "fig = Figure(resolution=(800, 600))\n",
    "ax = Axis(fig[1, 1], title=\"Domain with Boundary Tags\", xlabel=\"x\", ylabel=\"y\")\n",
    "\n",
    "for intgr in length(tag_from_names)\n",
    "    CairoMakie.wireframe!(ax, Triangulation(model))\n",
    "end\n",
    "\n",
    "CairoMakie.scatter!(ax, Boundary(Triangulation(model), tags=\"Supports\"))\n",
    "CairoMakie.scatter!(ax, Boundary(Triangulation(model), tags=\"Nacelle\"))\n",
    "CairoMakie.scatter!(ax, Boundary(Triangulation(model), tags=\"Jacket Members\"))\n",
    "CairoMakie.scatter!(ax, Boundary(Triangulation(model), tags=\"Pile Members\"))\n",
    "\n",
    "fig"
   ]
  },
  {
   "cell_type": "code",
   "execution_count": 7,
   "metadata": {},
   "outputs": [],
   "source": [
    "# add_tag_from_tags!(labels, \"Dirichlet\", [1]) # Our Dirichlet is the base (fixed displacement) (tag = 1)\n",
    "# add_tag_from_tags!(labels, \"Neumann\", [2]); # Our Neumann BC is at the Nacelle (tag = 2)"
   ]
  },
  {
   "cell_type": "code",
   "execution_count": 8,
   "metadata": {},
   "outputs": [
    {
     "data": {
      "text/plain": [
       "CompositeTriangulation()"
      ]
     },
     "metadata": {},
     "output_type": "display_data"
    }
   ],
   "source": [
    "Ω_pile = Triangulation(model, tags=\"Pile Members\")\n",
    "Ω_jacket = Triangulation(model, tags=\"Jacket Members\")\n",
    "Γ_D = Boundary(Ω_jacket,tags=\"Supports\")\n",
    "Γ_N = Boundary(Ω_pile,tags=\"Nacelle\")"
   ]
  },
  {
   "cell_type": "code",
   "execution_count": 9,
   "metadata": {},
   "outputs": [
    {
     "data": {
      "text/plain": [
       "TrialFESpace()"
      ]
     },
     "metadata": {},
     "output_type": "display_data"
    }
   ],
   "source": [
    "order = 1\n",
    "reffe_u = ReferenceFE(lagrangian, Float64, order) # We create a Reference Finite Element (it serves as a basis function on one single triangulation element (puzzle piece of the entire puzzle))\n",
    "\n",
    "V = TestFESpace(Ω_jacket, reffe_u, dirichlet_tags=\"Supports\") # The TestFESpace for the rod equation\n",
    "U = TrialFESpace(V, 0.0) # The TrialFESpace for the rod equation"
   ]
  },
  {
   "cell_type": "code",
   "execution_count": 10,
   "metadata": {},
   "outputs": [
    {
     "data": {
      "text/plain": [
       "GenericCellField():\n",
       " num_cells: 1\n",
       " DomainStyle: ReferenceDomain()\n",
       " Triangulation: CompositeTriangulation()\n",
       " Triangulation id: 2876907366653897562"
      ]
     },
     "metadata": {},
     "output_type": "display_data"
    }
   ],
   "source": [
    "degree = 2*order \n",
    "dΩ_Pile = Measure(Ω_pile, degree) # Numerical integration within the domain Ω using second-order Gaussian quadrature rule\n",
    "dΩ_Jacket = Measure(Ω_jacket, degree) # Numerical integration within the domain Ω using second-order Gaussian quadrature rule\n",
    "dΓ_N = Measure(Γ_N,degree) # Numerical integration along the Neumann boundary Γ_D using second-order Gaussian quadrature rule\n",
    "nΓ_N = get_normal_vector(Γ_N) # Normal vector to the Neumann boundary Γ_N"
   ]
  },
  {
   "cell_type": "code",
   "execution_count": 11,
   "metadata": {},
   "outputs": [
    {
     "data": {
      "text/plain": [
       "AffineFEOperator()"
      ]
     },
     "metadata": {},
     "output_type": "display_data"
    }
   ],
   "source": [
    "# Weak form\n",
    "a(u, v) = ∫(EA_Jacket * ∇(u) ⋅ ∇(v))dΩ_Jacket + ∫(EA_Pile * ∇(u) ⋅ ∇(v))dΩ_Pile\n",
    "l(v) = ∫(m_Jacket * v)dΩ_Jacket + ∫(m_Pile * v)dΩ_Pile + ∫(F_Nacelle * v)dΓ_N\n",
    "\n",
    "op = AffineFEOperator(a,l,U,V)"
   ]
  },
  {
   "cell_type": "code",
   "execution_count": 55,
   "metadata": {},
   "outputs": [
    {
     "data": {
      "text/plain": [
       "([\"2d_frame.vtu\"],)"
      ]
     },
     "metadata": {},
     "output_type": "display_data"
    }
   ],
   "source": [
    "Ω = Triangulation(model) # The domain Ω is the entire mesh (jacket + pile)\n",
    "\n",
    "uh = solve(op)\n",
    "writevtk(Ω,\"2d_frame\",cellfields=[\"u\"=>uh])"
   ]
  },
  {
   "cell_type": "code",
   "execution_count": 59,
   "metadata": {},
   "outputs": [
    {
     "data": {
      "text/plain": [
       "9×9 SparseArrays.SparseMatrixCSC{Float64, Int64} with 37 stored entries:\n",
       "      1.51157e5  -37446.2        …    ⋅               ⋅ \n",
       " -37446.2             2.13902e5       ⋅               ⋅ \n",
       " -56855.2        -32819.9             ⋅               ⋅ \n",
       "       ⋅         -56855.2             ⋅               ⋅ \n",
       "       ⋅               ⋅              ⋅               ⋅ \n",
       "       ⋅               ⋅         …    ⋅         -56855.2\n",
       "       ⋅               ⋅            -1.23993e5        ⋅ \n",
       "       ⋅               ⋅             2.47985e5      -1.23993e5\n",
       "       ⋅               ⋅            -1.23993e5       1.80848e5"
      ]
     },
     "metadata": {},
     "output_type": "display_data"
    }
   ],
   "source": [
    "l(v) = ∫(0.0*v)dΩ_Jacket + ∫(0.0*v)dΩ_Pile + ∫(0.0*v)dΓ_N\n",
    "\n",
    "get_matrix(AffineFEOperator(a, l, U, V ))"
   ]
  },
  {
   "cell_type": "code",
   "execution_count": null,
   "metadata": {},
   "outputs": [],
   "source": []
  }
 ],
 "metadata": {
  "kernelspec": {
   "display_name": "Julia 1.9.3",
   "language": "julia",
   "name": "julia-1.9"
  },
  "language_info": {
   "file_extension": ".jl",
   "mimetype": "application/julia",
   "name": "julia",
   "version": "1.9.3"
  }
 },
 "nbformat": 4,
 "nbformat_minor": 2
}
