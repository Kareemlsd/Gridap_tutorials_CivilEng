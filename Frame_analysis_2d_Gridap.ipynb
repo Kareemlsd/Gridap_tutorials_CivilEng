{
 "cells": [
  {
   "cell_type": "markdown",
   "metadata": {},
   "source": [
    "## Frame"
   ]
  },
  {
   "cell_type": "code",
   "execution_count": 162,
   "metadata": {},
   "outputs": [],
   "source": [
    "using Gridap\n",
    "using Plots\n",
    "using GridapMakie\n",
    "using CairoMakie \n",
    "using GLMakie\n",
    "using Gridap.Geometry\n",
    "using GridapGmsh"
   ]
  },
  {
   "cell_type": "code",
   "execution_count": 163,
   "metadata": {},
   "outputs": [
    {
     "name": "stdout",
     "output_type": "stream",
     "text": [
      "Info    : Reading 'msh_files/OFFSHORE_JACKET.msh'...\n",
      "Info    : 19 entities\n",
      "Info    : 955 nodes\n",
      "Info    : 960 elements\n",
      "Info    : Done reading 'msh_files/OFFSHORE_JACKET.msh'\n"
     ]
    },
    {
     "data": {
      "text/plain": [
       "UnstructuredDiscreteModel()"
      ]
     },
     "metadata": {},
     "output_type": "display_data"
    }
   ],
   "source": [
    "# Define known parameters/functions\n",
    "E = 200e9 # Young's modulus (Pa)\n",
    "A = 0.01 # Cross-sectional area (m²)\n",
    "EA = E*A\n",
    "\n",
    "f(x) = 1000.0 # N/m\n",
    "T = 5000.0 # tensile force acting on the middle and top element\n",
    "\n",
    "model = GmshDiscreteModel(\"msh_files/OFFSHORE_JACKET.msh\")"
   ]
  },
  {
   "cell_type": "code",
   "execution_count": 164,
   "metadata": {},
   "outputs": [],
   "source": [
    "# Set up the figure and axis \n",
    "initial_tags = get_tag_entities(labels)[end]\n",
    "labels = get_face_labeling(model)\n",
    "tag_from_names = get_tag_from_name(labels)\n",
    "\n",
    "# Set up the figure and axis (3D if model is 3D)\n",
    "fig = Figure(resolution=(800, 600))\n",
    "ax = Axis(fig[1, 1], title=\"Domain with Boundary Tags\", xlabel=\"x\", ylabel=\"y\")\n",
    "\n",
    "for intgr in length(tag_from_names)\n",
    "    CairoMakie.wireframe!(ax, Triangulation(model))\n",
    "end\n",
    "\n",
    "fig"
   ]
  },
  {
   "cell_type": "code",
   "execution_count": 165,
   "metadata": {},
   "outputs": [
    {
     "data": {
      "text/plain": [
       "Dict{String, Int64} with 4 entries:\n",
       "  \"Base\"      => 1\n",
       "  \"Middle\"    => 2\n",
       "  \"Diagonals\" => 4\n",
       "  \"Top\"       => 3"
      ]
     },
     "metadata": {},
     "output_type": "display_data"
    }
   ],
   "source": [
    "tag_from_names"
   ]
  },
  {
   "cell_type": "code",
   "execution_count": 166,
   "metadata": {},
   "outputs": [],
   "source": [
    "add_tag_from_tags!(labels, \"Dirichlet\", [1]) # Our Dirichlet is the base (fixed displacement)\n",
    "add_tag_from_tags!(labels, \"Neumann\", [2, 3]); # Our Neumann BC is the middle and top (assigned force acting on the middle and top element)"
   ]
  },
  {
   "cell_type": "code",
   "execution_count": 167,
   "metadata": {},
   "outputs": [
    {
     "data": {
      "text/plain": [
       "CompositeTriangulation()"
      ]
     },
     "metadata": {},
     "output_type": "display_data"
    }
   ],
   "source": [
    "Ω = Triangulation(model)\n",
    "Γ_D = Boundary(Ω,tags=\"Dirichlet\")\n",
    "Γ_N = Boundary(Ω,tags=\"Neumann\")"
   ]
  },
  {
   "cell_type": "code",
   "execution_count": 172,
   "metadata": {},
   "outputs": [
    {
     "data": {
      "text/plain": [
       "TrialFESpace()"
      ]
     },
     "metadata": {},
     "output_type": "display_data"
    }
   ],
   "source": [
    "order = 1\n",
    "reffe = ReferenceFE(lagrangian, Float64, order) # We create a Reference Finite Element (it serves as a basis function on one single triangulation element (puzzle piece of the entire puzzle))\n",
    "V = TestFESpace(Ω, reffe; conformity=:H1, dirichlet_tags=\"Dirichlet\")\n",
    "U = TrialFESpace(V, 0.0)"
   ]
  },
  {
   "cell_type": "code",
   "execution_count": 173,
   "metadata": {},
   "outputs": [
    {
     "data": {
      "text/plain": [
       "GenericMeasure()"
      ]
     },
     "metadata": {},
     "output_type": "display_data"
    }
   ],
   "source": [
    "degree = 2*order \n",
    "dΩ = Measure(Ω,degree) # Numerical integration within the domain Ω using second-order Gaussian quadrature rule\n",
    "dΓ_N = Measure(Γ_N,degree) # Numerical integration along the Neumann boundary Γ_D using second-order Gaussian quadrature rule"
   ]
  },
  {
   "cell_type": "markdown",
   "metadata": {},
   "source": []
  },
  {
   "cell_type": "code",
   "execution_count": 174,
   "metadata": {},
   "outputs": [
    {
     "data": {
      "text/plain": [
       "l (generic function with 1 method)"
      ]
     },
     "metadata": {},
     "output_type": "display_data"
    }
   ],
   "source": [
    "# Weak form\n",
    "a(u, v) = ∫(EA * ∇(u) ⋅ ∇(v))dΩ\n",
    "l(v) = ∫(f * v)dΩ + ∫(T * v)dΓ_N"
   ]
  },
  {
   "cell_type": "code",
   "execution_count": 171,
   "metadata": {},
   "outputs": [
    {
     "data": {
      "text/plain": [
       "([\"rod_solution.vtu\"],)"
      ]
     },
     "metadata": {},
     "output_type": "display_data"
    }
   ],
   "source": [
    "# Solve the problem\n",
    "op = AffineFEOperator(a, l, U, V)\n",
    "uh = solve(op)\n",
    "\n",
    "writevtk(Ω,\"rod_solution\",cellfields=[\"uh\"=>uh])"
   ]
  },
  {
   "cell_type": "code",
   "execution_count": null,
   "metadata": {},
   "outputs": [],
   "source": []
  }
 ],
 "metadata": {
  "kernelspec": {
   "display_name": "Julia 1.9.3",
   "language": "julia",
   "name": "julia-1.9"
  },
  "language_info": {
   "file_extension": ".jl",
   "mimetype": "application/julia",
   "name": "julia",
   "version": "1.9.3"
  }
 },
 "nbformat": 4,
 "nbformat_minor": 2
}
