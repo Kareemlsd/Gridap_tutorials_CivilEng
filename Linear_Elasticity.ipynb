{
 "cells": [
  {
   "cell_type": "markdown",
   "metadata": {},
   "source": [
    "# Linear Elasticity"
   ]
  },
  {
   "cell_type": "code",
   "execution_count": 1,
   "metadata": {},
   "outputs": [],
   "source": [
    "using Gridap\n",
    "using Plots\n",
    "using GridapMakie\n",
    "using CairoMakie \n",
    "using GLMakie\n",
    "using Gridap.Geometry\n",
    "using GridapGmsh\n",
    "using Gmsh: Gmsh, gmsh"
   ]
  },
  {
   "cell_type": "markdown",
   "metadata": {},
   "source": [
    "In this tutorial we will go through the modeling of a linear elasticity problem on a 3D domain. We will do this by considering a structural element called a **link plate**. A link plate is often used to connect two structural elements using bolts, where through each hole there goes a bolt. "
   ]
  },
  {
   "cell_type": "markdown",
   "metadata": {},
   "source": [
    "<div style=\"text-align: center;\">\n",
    "  <img src=\"./images/link_plate.png\" alt=\"Link plate\" width=\"450\"/>\n",
    "</div>"
   ]
  },
  {
   "cell_type": "markdown",
   "metadata": {},
   "source": [
    "We want to find the **displacement vector** $\\mathbf{u}(\\mathbf{x}) = [u_{1}(\\mathbf{x}), u_{2}(\\mathbf{x}), u_{3}(\\mathbf{x})]$ where the subnotations $1, 2 \\: \\& \\: 3$ are for the 3 Cartesian directions. Therefore, we can already see that our unknown quantity is a vector-valued unknown, which we previously discussed in the first tutorial as the second kind of quantities we may deal with (scalar-valued quantites were the first type we discussed and often the easiest to deal with). \n",
    "\n",
    "Let us recall our approach for solving problems using FEM. We first need to formulate the problem by describing the PDEs. Simultaneously, we define the regions of the domain where we apply the boundary conditions. \n",
    "\n",
    "<div style=\"text-align: center;\">\n",
    "  <img src=\"./images/link_plate_BCs.png\" alt=\"Link plate\" width=\"450\"/>\n",
    "</div>"
   ]
  },
  {
   "cell_type": "markdown",
   "metadata": {},
   "source": [
    "We impose the following boundary conditions:\n",
    "\n",
    "- All components of the displacement vector are constrained to **zero** on the surface $\\Gamma_G$ (marked in green in the figure).\n",
    "- On the surface $\\Gamma_B$ (marked in blue), the **first component** of the displacement vector is prescribed to the value $\\delta = 5\\,\\text{mm}$.\n",
    "- No body or surface forces are included in this example.\n",
    "\n",
    "Formally, the Partial Differential Equation (PDE) to solve is:\n",
    "\n",
    "$$\n",
    "\\begin{aligned}\n",
    "-\\nabla \\cdot \\sigma(\\mathbf{u}) &= 0 && \\text{in } \\Omega, \\\\\n",
    "\\mathbf{u} &= 0 && \\text{on } \\Gamma_G, \\\\\n",
    "u_1 &= \\delta && \\text{on } \\Gamma_B, \\\\\n",
    "\\sigma(\\mathbf{u}) \\cdot \\mathbf{n} &= 0 && \\text{on } \\Gamma_N.\n",
    "\\end{aligned}\n",
    "$$\n",
    "\n",
    "## Definitions\n",
    "\n",
    "- **Displacement vector ($\\mathbf{u}$)**: The unknown displacement vector.\n",
    "\n",
    "- **Unit outward normal ($\\mathbf{n}$)**: The unit outward normal to the Neumann boundary $\\Gamma_N$, where:\n",
    "\n",
    "$$\n",
    "\\Gamma_N = \\partial \\Omega \\setminus (\\Gamma_B \\cup \\Gamma_G).\n",
    "$$\n",
    "\n",
    "- **Stress tensor ($\\sigma(\\mathbf{u})$)**: Defined as:\n",
    "\n",
    "$$\n",
    "\\sigma(\\mathbf{u}) = \\lambda \\, \\text{tr}(\\varepsilon(\\mathbf{u})) \\mathbf{I} + 2 \\mu \\varepsilon(\\mathbf{u}),\n",
    "$$\n",
    "\n",
    "where:\n",
    "  - $\\mathbf{I}$: The identity tensor (2nd order),\n",
    "  - $\\lambda$ and $\\mu$: The Lamé parameters,\n",
    "  - **Strain tensor ($\\varepsilon(\\mathbf{u})$)**, defined as:\n",
    "\n",
    "$$\n",
    "\\varepsilon(\\mathbf{u}) = \\frac{1}{2} \\left( \\nabla \\mathbf{u} + (\\nabla \\mathbf{u})^T \\right).\n",
    "$$\n",
    "\n",
    "### Material Parameters\n",
    "\n",
    "For this example, we consider aluminum with the following material properties:\n",
    "\n",
    "- **Young's modulus**: $E = 70 \\cdot 10^9 \\, \\text{Pa}$,\n",
    "- **Poisson's ratio**: $\\nu = 0.33$.\n",
    "\n",
    "From these values, the Lamé parameters are calculated as:\n",
    "\n",
    "$$\n",
    "\\lambda = \\frac{E \\nu}{(1 + \\nu)(1 - 2 \\nu)}, \\quad\n",
    "\\mu = \\frac{E}{2(1 + \\nu)}.\n",
    "$$\n"
   ]
  },
  {
   "cell_type": "code",
   "execution_count": 2,
   "metadata": {},
   "outputs": [
    {
     "name": "stdout",
     "output_type": "stream",
     "text": [
      "Info    : Reading 'msh_files/solid.msh'...\n",
      "Info    : 188 entities\n",
      "Info    : 10257 nodes\n",
      "Info    : 41802 elements\n",
      "Info    : Done reading 'msh_files/solid.msh'\n"
     ]
    },
    {
     "data": {
      "text/plain": [
       "UnstructuredDiscreteModel()"
      ]
     },
     "metadata": {},
     "output_type": "display_data"
    }
   ],
   "source": [
    "model = GmshDiscreteModel(\"msh_files/solid.msh\")"
   ]
  },
  {
   "cell_type": "code",
   "execution_count": 8,
   "metadata": {},
   "outputs": [
    {
     "data": {
      "text/plain": [
       "σ (generic function with 1 method)"
      ]
     },
     "metadata": {},
     "output_type": "display_data"
    }
   ],
   "source": [
    "const E = 70.0e9\n",
    "const ν = 0.33\n",
    "const λ = (E*ν)/((1+ν)*(1-2*ν))\n",
    "const μ = E/(2*(1+ν))\n",
    "σ(ε) = λ*tr(ε)*one(ε) + 2*μ*ε"
   ]
  },
  {
   "cell_type": "code",
   "execution_count": 3,
   "metadata": {},
   "outputs": [
    {
     "data": {
      "text/plain": [
       "Dict{String, Int64} with 6 entries:\n",
       "  \"surface_1\"   => 4\n",
       "  \"surface_1_c\" => 1\n",
       "  \"surface_2_c\" => 3\n",
       "  \"material_1\"  => 5\n",
       "  \"surface_2\"   => 2\n",
       "  \"material_2\"  => 6"
      ]
     },
     "metadata": {},
     "output_type": "display_data"
    }
   ],
   "source": [
    "# Get the labels of the entities\n",
    "labels = get_face_labeling(model)\n",
    "initial_tags = get_tag_entities(labels)[end]\n",
    "tag_from_names = get_tag_from_name(labels)"
   ]
  },
  {
   "cell_type": "code",
   "execution_count": 4,
   "metadata": {},
   "outputs": [
    {
     "data": {
      "text/plain": [
       "UnconstrainedFESpace()"
      ]
     },
     "metadata": {},
     "output_type": "display_data"
    }
   ],
   "source": [
    "order = 1\n",
    "reffe = ReferenceFE(lagrangian, VectorValue{3, Float64}, order)\n",
    "\n",
    "V0 = TestFESpace(model, reffe; conformity=:H1, dirichlet_tags=[\"surface_1\",\"surface_2\"])"
   ]
  },
  {
   "cell_type": "code",
   "execution_count": 5,
   "metadata": {},
   "outputs": [
    {
     "data": {
      "text/plain": [
       "g2 (generic function with 1 method)"
      ]
     },
     "metadata": {},
     "output_type": "display_data"
    }
   ],
   "source": [
    "g1(x) = VectorValue(0.005,0.0,0.0)\n",
    "g2(x) = VectorValue(0.0,0.0,0.0)"
   ]
  },
  {
   "cell_type": "code",
   "execution_count": 7,
   "metadata": {},
   "outputs": [
    {
     "data": {
      "text/plain": [
       "TrialFESpace()"
      ]
     },
     "metadata": {},
     "output_type": "display_data"
    }
   ],
   "source": [
    "U = TrialFESpace(V0, [g1,g2])"
   ]
  },
  {
   "cell_type": "code",
   "execution_count": 9,
   "metadata": {},
   "outputs": [
    {
     "data": {
      "text/plain": [
       "GenericMeasure()"
      ]
     },
     "metadata": {},
     "output_type": "display_data"
    }
   ],
   "source": [
    "degree = 2*order\n",
    "Ω = Triangulation(model)\n",
    "dΩ = Measure(Ω,degree)"
   ]
  },
  {
   "cell_type": "code",
   "execution_count": 11,
   "metadata": {},
   "outputs": [
    {
     "data": {
      "text/plain": [
       "SingleFieldFEFunction():\n",
       " num_cells: 40144\n",
       " DomainStyle: ReferenceDomain()\n",
       " Triangulation: BodyFittedTriangulation()\n",
       " Triangulation id: 10569126572797562389"
      ]
     },
     "metadata": {},
     "output_type": "display_data"
    }
   ],
   "source": [
    "a(u,v) = ∫( ε(v) ⊙ (σ∘ε(u)) )*dΩ\n",
    "l(v) = 0\n",
    "\n",
    "op = AffineFEOperator(a,l,U,V0)\n",
    "uh = solve(op)"
   ]
  },
  {
   "cell_type": "code",
   "execution_count": 12,
   "metadata": {},
   "outputs": [
    {
     "data": {
      "text/plain": [
       "([\"linear_elasticity.vtu\"],)"
      ]
     },
     "metadata": {},
     "output_type": "display_data"
    }
   ],
   "source": [
    "writevtk(Ω,\"linear_elasticity\",cellfields=[\"uh\"=>uh,\"epsi\"=>ε(uh),\"sigma\"=>σ∘ε(uh)])"
   ]
  },
  {
   "cell_type": "markdown",
   "metadata": {},
   "source": [
    "<div style=\"text-align: center;\">\n",
    "  <img src=\"./images/link_plate_solution.png\" alt=\"Link plate\" width=\"450\"/>\n",
    "</div>"
   ]
  }
 ],
 "metadata": {
  "kernelspec": {
   "display_name": "Julia 1.9.3",
   "language": "julia",
   "name": "julia-1.9"
  },
  "language_info": {
   "file_extension": ".jl",
   "mimetype": "application/julia",
   "name": "julia",
   "version": "1.9.3"
  }
 },
 "nbformat": 4,
 "nbformat_minor": 2
}
