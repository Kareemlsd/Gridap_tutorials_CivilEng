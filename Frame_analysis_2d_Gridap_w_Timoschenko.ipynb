{
 "cells": [
  {
   "cell_type": "markdown",
   "metadata": {},
   "source": [
    "## Frame"
   ]
  },
  {
   "cell_type": "code",
   "execution_count": 2,
   "metadata": {},
   "outputs": [],
   "source": [
    "using Gridap\n",
    "using Plots\n",
    "using GridapMakie\n",
    "using CairoMakie \n",
    "using GLMakie\n",
    "using Gridap.Geometry\n",
    "using GridapGmsh\n",
    "using WriteVTK\n",
    "using Gmsh: Gmsh, gmsh"
   ]
  },
  {
   "cell_type": "code",
   "execution_count": 3,
   "metadata": {},
   "outputs": [
    {
     "name": "stdout",
     "output_type": "stream",
     "text": [
      "Info    : Reading './msh_files/OFFSHORE_NASAL_JACKET.geo'...\n",
      "Info    : Done reading './msh_files/OFFSHORE_NASAL_JACKET.geo'\n"
     ]
    }
   ],
   "source": [
    "# Initialize the Gmsh API\n",
    "gmsh.initialize()\n",
    "\n",
    "# Open the .geo file\n",
    "geo_file = \"./msh_files/OFFSHORE_NASAL_JACKET.geo\"\n",
    "gmsh.open(geo_file)\n",
    "\n",
    "# Set options to ensure lines are not subdivided\n",
    "gmsh.option.set_number(\"Mesh.ElementOrder\", 1)\n",
    "\n",
    "# println(\"Mesh saved as $msh_file\")"
   ]
  },
  {
   "cell_type": "code",
   "execution_count": 4,
   "metadata": {},
   "outputs": [
    {
     "name": "stdout",
     "output_type": "stream",
     "text": [
      "Info    : Meshing 1D...\n",
      "Info    : [  0%] Meshing curve 1 (Line)\n",
      "Info    : [ 10%] Meshing curve 2 (Line)\n",
      "Info    : [ 10%] Meshing curve 3 (Line)\n",
      "Info    : [ 20%] Meshing curve 4 (Line)\n",
      "Info    : [ 20%] Meshing curve 5 (Line)\n",
      "Info    : [ 20%] Meshing curve 6 (Line)\n",
      "Info    : [ 30%] Meshing curve 7 (Line)\n",
      "Info    : [ 30%] Meshing curve 8 (Line)\n",
      "Info    : [ 30%] Meshing curve 9 (Line)\n",
      "Info    : [ 40%] Meshing curve 10 (Line)\n",
      "Info    : [ 40%] Meshing curve 11 (Line)\n",
      "Info    : [ 50%] Meshing curve 12 (Line)\n",
      "Info    : [ 50%] Meshing curve 13 (Line)\n",
      "Info    : [ 50%] Meshing curve 14 (Line)\n",
      "Info    : [ 60%] Meshing curve 15 (Line)\n",
      "Info    : [ 60%] Meshing curve 16 (Line)\n",
      "Info    : [ 60%] Meshing curve 17 (Line)\n",
      "Info    : [ 70%] Meshing curve 18 (Line)\n",
      "Info    : [ 70%] Meshing curve 19 (Line)\n",
      "Info    : [ 80%] Meshing curve 20 (Line)\n",
      "Info    : [ 80%] Meshing curve 21 (Line)\n",
      "Info    : [ 80%] Meshing curve 22 (Line)\n",
      "Info    : [ 90%] Meshing curve 23 (Line)\n",
      "Info    : [ 90%] Meshing curve 24 (Line)\n",
      "Info    : [ 90%] Meshing curve 25 (Line)\n",
      "Info    : [100%] Meshing curve 26 (Line)\n",
      "Info    : [100%] Meshing curve 27 (Line)\n",
      "Info    : Done meshing 1D (Wall 0.00153089s, CPU 0s)\n",
      "Info    : 21 nodes 48 elements\n",
      "Info    : Writing './msh_files/OFFSHORE_NASAL_JACKET.msh'...\n",
      "Info    : Done writing './msh_files/OFFSHORE_NASAL_JACKET.msh'\n"
     ]
    }
   ],
   "source": [
    "gmsh.option.set_number(\"Mesh.CharacteristicLengthMax\", 1e3)\n",
    "gmsh.option.set_number(\"Mesh.CharacteristicLengthMin\", 1e3)\n",
    "\n",
    "# Generate the mesh\n",
    "gmsh.model.mesh.generate(1)  # Generate a 1D mesh (the physical elements are 1D (!))\n",
    "\n",
    "# Save as .msh file\n",
    "msh_file = \"./msh_files/OFFSHORE_NASAL_JACKET.msh\"\n",
    "gmsh.write(msh_file)\n",
    "\n",
    "# Finalize Gmsh\n",
    "gmsh.finalize()"
   ]
  },
  {
   "cell_type": "code",
   "execution_count": 5,
   "metadata": {},
   "outputs": [
    {
     "name": "stdout",
     "output_type": "stream",
     "text": [
      "Info    : Reading 'msh_files/OFFSHORE_NASAL_JACKET.msh'...\n",
      "Info    : 48 entities\n",
      "Info    : 21 nodes\n",
      "Info    : 31 elements\n",
      "Info    : Done reading 'msh_files/OFFSHORE_NASAL_JACKET.msh'\n"
     ]
    },
    {
     "data": {
      "text/plain": [
       "UnstructuredDiscreteModel()"
      ]
     },
     "metadata": {},
     "output_type": "display_data"
    }
   ],
   "source": [
    "# Define known parameters/functions for the rod equation\n",
    "E = 200e9 # Young's modulus of steel (Pa)\n",
    "ρ = 7850 # Density of steel (kg/m3)\n",
    "\n",
    "# Nacelle\n",
    "F_Nacelle = 5000*9.81 # inwards tension N\n",
    "\n",
    "# Pile \n",
    "m_Pile(x) = (1000*9.81) # N/m\n",
    "EA_Pile = 1e8 # Nm2\n",
    "\n",
    "# Jacket \n",
    "m_Jacket(x) = (100*9.81) # N/m \n",
    "EA_Jacket = 1e6 # Nm2\n",
    "\n",
    "# Define the known parameters/functions for the Timoschenko beam equation\n",
    "ν = 0.2 # Poisson's ratio\n",
    "EI_Pile = 10e9 # Nm2\n",
    "EI_Jacket = 10e6 # Nm2\n",
    "\n",
    "G = E/(2*(1+ν)) # Shear modulus (Pa)\n",
    "GA_Jacket = G*(EA_Jacket/E) # Shear stiffness of jacket elements (N)\n",
    "GA_Pile = G*(EA_Pile/E) # Shear stiffness of pile elements (N)\n",
    "\n",
    "ρI_Jacket = ρ*(EI_Jacket/E)\n",
    "ρI_Pile = ρ*(EI_Pile/E)\n",
    "\n",
    "# Define load parameters\n",
    "f0 = 0.02                          # [Hz]\n",
    "A0 = 0.1                        # [m]\n",
    "T0 = 20                         # [s]\n",
    "\n",
    "# Define the load function\n",
    "f_ext(t) = A0*sin(2*π*f0*t)     # [m]\n",
    "\n",
    "model = GmshDiscreteModel(\"msh_files/OFFSHORE_NASAL_JACKET.msh\")"
   ]
  },
  {
   "cell_type": "code",
   "execution_count": 6,
   "metadata": {},
   "outputs": [
    {
     "data": {
      "text/plain": [
       "Dict{String, Int64} with 5 entries:\n",
       "  \"Jacket Members\" => 4\n",
       "  \"Pile Members\"   => 5\n",
       "  \"Supports\"       => 1\n",
       "  \"Bottom Pile\"    => 3\n",
       "  \"Nacelle\"        => 2"
      ]
     },
     "metadata": {},
     "output_type": "display_data"
    }
   ],
   "source": [
    "# Set up the figure and axis \n",
    "labels = get_face_labeling(model)\n",
    "initial_tags = get_tag_entities(labels)[end]\n",
    "tag_from_names = get_tag_from_name(labels)"
   ]
  },
  {
   "cell_type": "code",
   "execution_count": 7,
   "metadata": {},
   "outputs": [],
   "source": [
    "# Set up the figure and axis \n",
    "fig = Figure(resolution=(800, 600))\n",
    "ax = Axis(fig[1, 1], title=\"Domain with Boundary Tags\", xlabel=\"x\", ylabel=\"y\")\n",
    "\n",
    "for intgr in length(tag_from_names)\n",
    "    CairoMakie.wireframe!(ax, Triangulation(model))\n",
    "end\n",
    "\n",
    "CairoMakie.scatter!(ax, Boundary(Triangulation(model), tags=\"Supports\"))\n",
    "CairoMakie.scatter!(ax, Boundary(Triangulation(model), tags=\"Nacelle\"))\n",
    "CairoMakie.scatter!(ax, Boundary(Triangulation(model), tags=\"Jacket Members\"))\n",
    "CairoMakie.scatter!(ax, Boundary(Triangulation(model), tags=\"Pile Members\"))\n",
    "\n",
    "fig"
   ]
  },
  {
   "cell_type": "code",
   "execution_count": 1,
   "metadata": {},
   "outputs": [],
   "source": [
    "# add_tag_from_tags!(labels, \"Dirichlet\", [1]) # Our Dirichlet is the base (fixed displacement) (tag = 1)\n",
    "# add_tag_from_tags!(labels, \"Neumann\", [2]); # Our Neumann BC is at the point of application for force (tag = 2)"
   ]
  },
  {
   "cell_type": "code",
   "execution_count": 47,
   "metadata": {},
   "outputs": [
    {
     "data": {
      "text/plain": [
       "CompositeTriangulation()"
      ]
     },
     "metadata": {},
     "output_type": "display_data"
    }
   ],
   "source": [
    "Ω_pile = Triangulation(model, tags=\"Pile Members\")\n",
    "Ω_jacket = Triangulation(model, tags=\"Jacket Members\")\n",
    "Γ_D = Boundary(Ω_jacket,tags=\"Supports\")\n",
    "Γ_N = Boundary(Ω_pile,tags=\"Nacelle\")"
   ]
  },
  {
   "cell_type": "code",
   "execution_count": 48,
   "metadata": {},
   "outputs": [
    {
     "data": {
      "text/plain": [
       "MultiFieldFESpace()"
      ]
     },
     "metadata": {},
     "output_type": "display_data"
    }
   ],
   "source": [
    "# Transient problem\n",
    "order = 2\n",
    "reffe_u = ReferenceFE(lagrangian, Float64, order) # We create a Reference Finite Element (it serves as a basis function on one single triangulation element (puzzle piece of the entire puzzle))\n",
    "reffe_v = ReferenceFE(lagrangian, Float64, order) \n",
    "reffe_θ = ReferenceFE(lagrangian, Float64,order)\n",
    "\n",
    "u_Y = TestFESpace(Ω_jacket, reffe_u, dirichlet_tags=\"Supports\") # The TestFESpace for the rod equation\n",
    "u_X = TransientTrialFESpace(u_Y) # The TrialFESpace for the rod equation\n",
    "\n",
    "v_Y = TestFESpace(Ω_jacket, reffe_v, dirichlet_tags=\"Supports\") # The TestFESpace for the displacement in Timoschenko equation\n",
    "θ_Y = TestFESpace(Ω_jacket, reffe_θ, dirichlet_tags=\"Supports\") # The TestFESpace for the rotation in Timoschenko equation \n",
    "\n",
    "v_X = TransientTrialFESpace(v_Y) # The TestFESpace for the displacement in Timoschenko equation\n",
    "θ_X = TransientTrialFESpace(θ_Y) # The TestFESpace for the rotation in Timoschenko equation \n",
    "\n",
    "X = TransientMultiFieldFESpace([u_X,v_X,θ_X])\n",
    "Y = MultiFieldFESpace([u_Y,v_Y,θ_Y])"
   ]
  },
  {
   "cell_type": "code",
   "execution_count": 49,
   "metadata": {},
   "outputs": [
    {
     "data": {
      "text/plain": [
       "GenericCellField():\n",
       " num_cells: 1\n",
       " DomainStyle: ReferenceDomain()\n",
       " Triangulation: CompositeTriangulation()\n",
       " Triangulation id: 10958101289626014509"
      ]
     },
     "metadata": {},
     "output_type": "display_data"
    }
   ],
   "source": [
    "degree = 2 # Degree of the quadrature rule to prevent shear locking\n",
    "dΩ_Pile = Measure(Ω_pile, degree) # Numerical integration within the domain Ω using second-order Gaussian quadrature rule\n",
    "dΩ_Jacket = Measure(Ω_jacket, degree) # Numerical integration within the domain Ω using second-order Gaussian quadrature rule\n",
    "dΓ_N = Measure(Γ_N,degree) # Numerical integration along the Neumann boundary Γ_D using second-order Gaussian quadrature rule\n",
    "nΓ_N = get_normal_vector(Γ_N) # Normal vector to the Neumann boundary Γ_N"
   ]
  },
  {
   "cell_type": "code",
   "execution_count": 50,
   "metadata": {},
   "outputs": [
    {
     "data": {
      "text/plain": [
       "TransientFEOperatorFromWeakForm()"
      ]
     },
     "metadata": {},
     "output_type": "display_data"
    }
   ],
   "source": [
    "# Updated bilinear form including time-dependent mass terms\n",
    "m(t, (dttu, dttv, dttθ), (h,w,ψ)) = ∫(m_Jacket * dttu * w)dΩ_Jacket +\n",
    "                                     ∫(m_Pile * dttu * w)dΩ_Pile + \n",
    "                                     ∫(ρI_Jacket * dttθ * ψ)dΩ_Jacket +\n",
    "                                     ∫(ρI_Pile * dttθ * ψ)dΩ_Pile\n",
    "\n",
    "a(t, (u,v,θ), (h,w,ψ)) = ∫(EA_Jacket * ∇(u) ⋅ ∇(h))dΩ_Jacket + \n",
    "                      ∫( EI_Jacket*(∇(θ)⊙∇(ψ)) + GA_Jacket*((∇(v)-θ)⋅(∇(w)-ψ)) )dΩ_Jacket +\n",
    "                      ∫(EA_Pile * ∇(u) ⋅ ∇(h))dΩ_Pile +\n",
    "                      ∫(EI_Pile*(∇(θ)⊙∇(ψ)) + GA_Pile*((∇(v)-θ)⋅(∇(w)-ψ)))dΩ_Pile\n",
    "\n",
    "# Updated linear form for transient external forces\n",
    "l(t, (h,w,ψ)) = ∫(m_Jacket * h)dΩ_Jacket + \n",
    "             ∫(m_Pile * h)dΩ_Pile + \n",
    "             ∫(F_Nacelle * h)dΓ_N + \n",
    "             ∫(f_ext(t) * w)dΓ_N\n",
    "\n",
    "op = TransientAffineFEOperator(m,a,l,X,Y)"
   ]
  },
  {
   "cell_type": "code",
   "execution_count": 54,
   "metadata": {},
   "outputs": [
    {
     "data": {
      "text/plain": [
       "Gridap.ODEs.TransientFETools.TransientFESolution(GenericODESolution(), MultiFieldFESpace())"
      ]
     },
     "metadata": {},
     "output_type": "display_data"
    }
   ],
   "source": [
    "# # Solution\n",
    "# γₜ = 0.5\n",
    "# βₜ = 0.25\n",
    "# ls = LUSolver()\n",
    "# Δt = 0.001\n",
    "# ode_solver = Newmark(ls,Δt,γₜ,βₜ)\n",
    "\n",
    "# # Time interval\n",
    "# t0, tF = 0.0, 10.0\n",
    "\n",
    "# # Initial solution\n",
    "# x0 = interpolate_everywhere([0.0,0.0,0.0],X(0.0))\n",
    "# v0 = interpolate_everywhere([0.0,0.0,0.0],X(0.0))\n",
    "# a0 = interpolate_everywhere([0.0,0.0,0.0],X(0.0))\n",
    "\n",
    "# xt = solve(ode_solver,op,(x0,v0,a0),t0,tF)"
   ]
  },
  {
   "cell_type": "code",
   "execution_count": 1,
   "metadata": {},
   "outputs": [
    {
     "ename": "UndefVarError",
     "evalue": "UndefVarError: `LUSolver` not defined",
     "output_type": "error",
     "traceback": [
      "UndefVarError: `LUSolver` not defined\n",
      "\n",
      "Stacktrace:\n",
      " [1] top-level scope\n",
      "   @ c:\\Users\\Kelsa\\OneDrive\\Bureaublad\\Projects_Private\\Gridap_tutorials_TUDelft\\jl_notebook_cell_df34fa98e69747e1a8f8a730347b8e2f_X16sZmlsZQ==.jl:1"
     ]
    }
   ],
   "source": [
    "ls = LUSolver()\n",
    "Δt = 0.05\n",
    "θ = 0.5\n",
    "solver = ThetaMethod(ls, Δt, θ)\n",
    "\n",
    "# Time interval\n",
    "t0, tF = 0.0, 10.0\n",
    "\n",
    "# Initial solution\n",
    "x0 = interpolate_everywhere([0.0,0.0,0.0],X(0.0))\n",
    "\n",
    "xt = solve(solver,op,x0,t0,tF)"
   ]
  },
  {
   "cell_type": "code",
   "execution_count": 53,
   "metadata": {},
   "outputs": [],
   "source": [
    "Ω = Triangulation(model) # The domain Ω is the entire mesh (jacket + pile)\n",
    "\n",
    "output_dir = \"results/\"\n",
    "vtk_output = true\n",
    "\n",
    "if vtk_output == true\n",
    "    pvd_u = paraview_collection(output_dir * \"_u_solution\", append=false)\n",
    "    pvd_v = paraview_collection(output_dir * \"_v_solution\", append=false)\n",
    "    pvd_theta = paraview_collection(output_dir * \"_theta_solution\", append=false)\n",
    "  end\n",
    "\n",
    "# Time stepping for visualization\n",
    "times = t0:Δt:tF\n",
    "for ((u,v,θ), t) in xt\n",
    "    # Write to VTK\n",
    "    if vtk_output == true\n",
    "        pvd_u[t] = createvtk(Ω,output_dir * \"_u_solution\" * \"_$t.vtu\",cellfields = [\"u\" => u])#,nsubcells=10)\n",
    "        pvd_v[t] = createvtk(Ω,output_dir * \"_v_solution\" * \"_$t.vtu\",cellfields = [\"v\" => v],nsubcells=10)\n",
    "        pvd_theta[t] = createvtk(Ω,output_dir * \"_theta_solution\" * \"_$t.vtu\",cellfields = [\"theta\" => θ],nsubcells=10)\n",
    "      end\n",
    "end"
   ]
  },
  {
   "cell_type": "markdown",
   "metadata": {},
   "source": [
    "## Eigenmodes analysis"
   ]
  },
  {
   "cell_type": "code",
   "execution_count": 37,
   "metadata": {},
   "outputs": [
    {
     "data": {
      "text/plain": [
       "27×27 SparseMatrixCSC{Float64, Int64} with 185 stored entries:\n",
       "⎡⢿⣷⢤⠀⠀⠀⠀⠀⠀⠀⠀⠀⠀⠀⎤\n",
       "⎢⠀⠓⠿⣧⡂⠀⠀⠀⠀⠀⠀⠀⠀⠀⎥\n",
       "⎢⠀⠀⠈⠈⢱⣶⣄⡀⠀⣶⣦⣀⠀⠀⎥\n",
       "⎢⠀⠀⠀⠀⠀⠹⢵⣷⡠⠈⠯⣾⣆⠄⎥\n",
       "⎢⠀⠀⠀⠀⢠⣤⡀⠊⠛⣤⣄⠐⠙⠃⎥\n",
       "⎢⠀⠀⠀⠀⠈⢻⣫⣧⢀⠙⣟⣽⡄⡀⎥\n",
       "⎣⠀⠀⠀⠀⠀⠀⠈⠝⠷⠀⠀⠩⠻⠆⎦"
      ]
     },
     "metadata": {},
     "output_type": "display_data"
    }
   ],
   "source": [
    "# Weak form\n",
    "a((u,v,θ), (h,w,ψ)) = ∫(EA_Jacket * ∇(u) ⋅ ∇(h))dΩ_Jacket + ∫( EI_Jacket*(∇(θ)⊙∇(ψ)) + GA*((∇(v)-θ)⋅(∇(w)-ψ)) )dΩ_Jacket  + ∫(EA_Pile * ∇(u) ⋅ ∇(h))dΩ_Pile + ∫( EI_Pile*(∇(θ)⊙∇(ψ)) + GA*((∇(v)-θ)⋅(∇(w)-ψ)) )dΩ_Pile\n",
    "\n",
    "l((h,w,ψ)) = ∫(m_Jacket * h)dΩ_Jacket + ∫(m_Pile * h)dΩ_Pile + ∫(F_Nacelle * h)dΓ_N + ∫((F_Nacelle⋅(∇(w)-ψ)⋅nΓ_N))dΓ_N\n",
    "\n",
    "op = AffineFEOperator(a,l,X,Y)\n",
    "\n",
    "l((h,w,ψ)) = ∫(0.0*h)dΩ_Jacket + ∫(0.0*h)dΩ_Pile + ∫(0.0*w)dΓ_N\n",
    "\n",
    "matrix_of_sys = get_matrix(AffineFEOperator(a, l, X, Y ))"
   ]
  },
  {
   "cell_type": "code",
   "execution_count": 40,
   "metadata": {},
   "outputs": [],
   "source": [
    "using LinearAlgebra, SparseArrays, Arpack"
   ]
  },
  {
   "cell_type": "code",
   "execution_count": 43,
   "metadata": {},
   "outputs": [
    {
     "data": {
      "text/plain": [
       "([8.129138942699124e10, 6.671749422231313e10, 5.361642160505554e10, 3.3567172348623577e10, 3.2364744020012268e10, 2.913722489771512e10], [-1.0139340933264313e-16 1.6835705259791312e-17 … 1.2788716474302897e-16 -2.242473889406867e-16; 1.648300351033481e-17 -8.004338020742087e-18 … -2.357134569644194e-17 5.4603040653209694e-17; … ; -0.002264403794857761 -0.008012440908929067 … -0.03390491928295151 0.02534166231878565; -0.02282381237761666 -0.06327081232182952 … 0.04895720763699857 -0.06273962324810721])"
      ]
     },
     "metadata": {},
     "output_type": "display_data"
    }
   ],
   "source": [
    "# Compute eigenvalues and eigenvectors\n",
    "eigenvalues, eigenvectors = eigs(matrix_of_sys)[1], eigs(matrix_of_sys)[2]"
   ]
  },
  {
   "cell_type": "code",
   "execution_count": 55,
   "metadata": {},
   "outputs": [
    {
     "data": {
      "text/plain": [
       "([\"eigenmodes_frame/eigenmodes.vtu\"],)"
      ]
     },
     "metadata": {},
     "output_type": "display_data"
    }
   ],
   "source": [
    "# Interpolation into FESpace\n",
    "u_interp = FEFunction(v_X, eigenvectors[10:18,2])\n",
    "\n",
    "# Export to VTK\n",
    "writevtk(\n",
    "    Ω,\n",
    "    \"eigenmodes_frame/eigenmodes\",  # Output filename\n",
    "    cellfields = [\"Eigenmode1\" => u_interp]\n",
    ")"
   ]
  },
  {
   "cell_type": "code",
   "execution_count": null,
   "metadata": {},
   "outputs": [],
   "source": []
  }
 ],
 "metadata": {
  "kernelspec": {
   "display_name": "Julia 1.9.3",
   "language": "julia",
   "name": "julia-1.9"
  },
  "language_info": {
   "file_extension": ".jl",
   "mimetype": "application/julia",
   "name": "julia",
   "version": "1.9.3"
  }
 },
 "nbformat": 4,
 "nbformat_minor": 2
}
