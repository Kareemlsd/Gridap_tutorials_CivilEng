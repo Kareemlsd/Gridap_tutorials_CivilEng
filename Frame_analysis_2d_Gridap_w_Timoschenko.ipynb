{
 "cells": [
  {
   "cell_type": "markdown",
   "metadata": {},
   "source": [
    "# ***Modeling a Jacket Structure with a Wind Turbine Under Earthquake Forcing***\n",
    "\n",
    "## **Introduction**\n",
    "\n",
    "In this tutorial, we model a **jacket structure** supporting a wind turbine, subjected to earthquake forcing. Jacket structures are widely used in offshore wind engineering for their ability to withstand environmental loads such as waves, wind, and seismic activity. This analysis focuses on the **time-dependent dynamic behavior** of the structure using **Timoshenko beam theory**, which is particularly suited for capturing both bending and shear deformation.\n",
    "\n",
    "### Objectives\n",
    "\n",
    "This tutorial will guide you through:\n",
    "1. Defining the physical problem and applying boundary conditions (BCs).\n",
    "2. Setting up constant parameters such as material properties and damping factors.\n",
    "3. Importing the pre-defined mesh and identifying labels for structural components.\n",
    "4. Defining triangulations and boundary sets to model the geometry effectively.\n",
    "5. Building finite element spaces (FESpaces) for the unknown quantities of interest.\n",
    "6. Writing the weak form of the governing equations in a transient formulation.\n",
    "7. Solving the problem numerically and postprocessing the results.\n",
    "\n",
    "### Structure of the Tutorial\n",
    "\n",
    "The tutorial follows these steps:\n",
    "1. **Define the Physical Problem and BCs:** Establish the governing equations, BCs, and dynamic loading.\n",
    "2. **Set Constant Parameters:** Specify material and geometric properties, such as $E$, $\\rho$, $A$, and $I$.\n",
    "3. **Import the Mesh:** Load a pre-defined mesh representing the jacket structure.\n",
    "4. **Define Triangulations and Boundaries:** Organize the mesh for applying BCs and loads.\n",
    "5. **Build FESpaces:** Define spaces for $v$ (displacement) and $\\theta$ (rotation).\n",
    "6. **Write the Weak Form:** Implement the transient weak form in Gridap.\n",
    "7. **Solve and Postprocess:** Solve the transient problem numerically and visualize displacements and rotations.\n",
    "\n",
    "We highly recommend the reader to visit https://oriolcg.github.io/GridapOffshore.jl/Theory/tutorial_Timoshenko/Timoshenko/ before starting with this tutorial.\n"
   ]
  },
  {
   "cell_type": "code",
   "execution_count": 139,
   "metadata": {},
   "outputs": [],
   "source": [
    "using Gridap\n",
    "using Plots\n",
    "using GridapMakie\n",
    "using CairoMakie \n",
    "using GLMakie\n",
    "using Gridap.Geometry\n",
    "using GridapGmsh\n",
    "using WriteVTK\n",
    "using Gmsh: Gmsh, gmsh"
   ]
  },
  {
   "cell_type": "markdown",
   "metadata": {},
   "source": [
    "### Mesh Generation for the Jacket Structure\n",
    "\n",
    "This cell generates a 1D mesh for the jacket structure using the Gmsh API. The specifics of mesh generation, such as setting characteristic lengths and exporting the mesh, are handled automatically and do not require the student’s detailed understanding at this stage.\n"
   ]
  },
  {
   "cell_type": "code",
   "execution_count": null,
   "metadata": {},
   "outputs": [
    {
     "name": "stdout",
     "output_type": "stream",
     "text": [
      "Info    : Meshing 1D...\n",
      "Info    : [  0%] Meshing curve 1 (Line)\n",
      "Info    : [ 10%] Meshing curve 2 (Line)\n",
      "Info    : [ 10%] Meshing curve 3 (Line)\n",
      "Info    : [ 20%] Meshing curve 4 (Line)\n",
      "Info    : [ 20%] Meshing curve 5 (Line)\n",
      "Info    : [ 20%] Meshing curve 6 (Line)\n",
      "Info    : [ 30%] Meshing curve 7 (Line)\n",
      "Info    : [ 30%] Meshing curve 8 (Line)\n",
      "Info    : [ 30%] Meshing curve 9 (Line)\n",
      "Info    : [ 40%] Meshing curve 10 (Line)\n",
      "Info    : [ 40%] Meshing curve 11 (Line)\n",
      "Info    : [ 50%] Meshing curve 12 (Line)\n",
      "Info    : [ 50%] Meshing curve 13 (Line)\n",
      "Info    : [ 50%] Meshing curve 14 (Line)\n",
      "Info    : [ 60%] Meshing curve 15 (Line)\n",
      "Info    : [ 60%] Meshing curve 16 (Line)\n",
      "Info    : [ 60%] Meshing curve 17 (Line)\n",
      "Info    : [ 70%] Meshing curve 18 (Line)\n",
      "Info    : [ 70%] Meshing curve 19 (Line)\n",
      "Info    : [ 80%] Meshing curve 20 (Line)\n",
      "Info    : [ 80%] Meshing curve 21 (Line)\n",
      "Info    : [ 80%] Meshing curve 22 (Line)\n",
      "Info    : [ 90%] Meshing curve 23 (Line)\n",
      "Info    : [ 90%] Meshing curve 24 (Line)\n",
      "Info    : [ 90%] Meshing curve 25 (Line)\n",
      "Info    : [100%] Meshing curve 26 (Line)\n",
      "Info    : [100%] Meshing curve 27 (Line)\n",
      "Info    : Done meshing 1D (Wall 0.00360417s, CPU 0s)\n",
      "Info    : 4429 nodes 4456 elements\n",
      "Info    : Writing './msh_files/OFFSHORE_NASAL_JACKET.msh'...\n",
      "Info    : Done writing './msh_files/OFFSHORE_NASAL_JACKET.msh'\n"
     ]
    }
   ],
   "source": [
    "# Initialize the Gmsh API\n",
    "gmsh.initialize()\n",
    "\n",
    "# Open the .geo file\n",
    "geo_file = \"./msh_files/OFFSHORE_NASAL_JACKET.geo\"\n",
    "gmsh.open(geo_file)\n",
    "\n",
    "# Set options to ensure lines are not subdivided\n",
    "gmsh.option.set_number(\"Mesh.ElementOrder\", 1)\n",
    "\n",
    "gmsh.option.set_number(\"Mesh.CharacteristicLengthMax\", 0.1)\n",
    "gmsh.option.set_number(\"Mesh.CharacteristicLengthMin\", 0.1)\n",
    "\n",
    "# Generate the mesh\n",
    "gmsh.model.mesh.generate(1)  # Generate a 1D mesh (the physical elements are 1D (!))\n",
    "\n",
    "# Save as .msh file\n",
    "msh_file = \"./msh_files/OFFSHORE_NASAL_JACKET.msh\"\n",
    "gmsh.write(msh_file)\n",
    "\n",
    "# Finalize Gmsh\n",
    "gmsh.finalize()"
   ]
  },
  {
   "cell_type": "markdown",
   "metadata": {},
   "source": [
    "### **Physical Problem for the Jacket Structure Under Earthquake Forcing**\n",
    "\n",
    "We model the jacket structure supporting a wind turbine using **Timoshenko beam theory**, which accounts for both bending and shear deformations. The structure is subjected to earthquake-induced displacements at its supports, with a point mass representing the nacelle at the top. Although the mesh we consider is in 2D space, the elements of the jacket are considered as **1D elements**. Therefore, our governing equations will be formulated in 1D space. We will later see that Gridap is inherently able to map the problem according to the layout of the elements found in the mesh. Therefore, the definition of the mesh sufficies to deal with the mapping. \n",
    "\n",
    "#### **Governing Equations**\n",
    "\n",
    "The dynamic behavior of the beam is described by the following equations:\n",
    "\n",
    "1. **Transverse Displacement Equation:**\n",
    "   $$\n",
    "   \\rho A \\frac{\\partial^2 v}{\\partial t^2} - \\frac{\\partial}{\\partial x} \\left( G A \\left( \\frac{\\partial v}{\\partial x} - \\theta \\right) \\right) = f_v\n",
    "   $$\n",
    "   where:\n",
    "   - $v(x, t)$: Transverse displacement\n",
    "   - $\\rho$: Material density\n",
    "   - $A$: Cross-sectional area\n",
    "   - $G$: Shear modulus\n",
    "   - $\\theta(x, t)$: Rotation of the cross-section\n",
    "   - $f_v$: External transverse load per unit length\n",
    "\n",
    "2. **Rotation Equation:**\n",
    "   $$\n",
    "   I \\frac{\\partial^2 \\theta}{\\partial t^2} - \\frac{\\partial}{\\partial x} \\left( E I \\frac{\\partial \\theta}{\\partial x} \\right) + G A \\left( \\frac{\\partial v}{\\partial x} - \\theta \\right) = f_\\theta\n",
    "   $$\n",
    "   where:\n",
    "   - $I$: Second moment of area\n",
    "   - $E$: Young's modulus\n",
    "   - $f_\\theta$: External moment per unit length\n",
    "\n",
    "#### Boundary Conditions\n",
    "\n",
    "1. **Displacement at Supports:**\n",
    "   At the supports, the transverse displacement is prescribed to match the earthquake-induced displacement:\n",
    "   $$\n",
    "   v(x_{\\text{support}}, t) = v_{\\text{ext}}(t)\n",
    "   $$\n",
    "\n",
    "2. **Zero Rotation at Supports:**\n",
    "   The rotation at the supports is constrained to zero:\n",
    "   $$\n",
    "   \\theta(x_{\\text{support}}, t) = 0\n",
    "   $$\n",
    "\n",
    "3. **Point Mass at Nacelle:**\n",
    "   A point mass $m_{\\text{nacelle}}$ is attached at the top of the wind turbine, introducing additional inertia. This modifies the boundary conditions at the free end:\n",
    "   $$\n",
    "   \\left. \\rho A \\frac{\\partial^2 v}{\\partial t^2} \\right|_{x=L} = m_{\\text{nacelle}} \\frac{\\partial^2 v}{\\partial t^2}\n",
    "   $$\n",
    "\n",
    "These equations and boundary conditions define the dynamic response of the jacket structure under earthquake loading, considering both bending and shear effects as per Timoshenko beam theory.\n"
   ]
  },
  {
   "cell_type": "code",
   "execution_count": 141,
   "metadata": {},
   "outputs": [
    {
     "name": "stdout",
     "output_type": "stream",
     "text": [
      "Info    : Reading 'msh_files/OFFSHORE_NASAL_JACKET.msh'...\n",
      "Info    : 48 entities\n",
      "Info    : 4429 nodes\n",
      "Info    : 4439 elements\n",
      "Info    : Done reading 'msh_files/OFFSHORE_NASAL_JACKET.msh'\n"
     ]
    },
    {
     "data": {
      "text/plain": [
       "UnstructuredDiscreteModel()"
      ]
     },
     "metadata": {},
     "output_type": "display_data"
    }
   ],
   "source": [
    "# Define known parameters/functions for the rod equation\n",
    "E = 2e9 # Young's modulus (Pa)\n",
    "ρ = 7850 # Density of steel (kg/m3)\n",
    "\n",
    "# Nacelle\n",
    "M_Nacelle = 5000 # kg\n",
    "\n",
    "# Pile \n",
    "m_Pile(x) = 1000 # kg/m\n",
    "\n",
    "# Jacket \n",
    "m_Jacket(x) = 100 # N/m \n",
    "\n",
    "# Define the known parameters/functions for the Timoschenko beam equation\n",
    "ν = 0.2 # Poisson's ratio\n",
    "EI_Pile = 1e9 # Nm2\n",
    "EI_Jacket = 1e7 # Nm2\n",
    "\n",
    "G = E/(2*(1+ν)) # Shear modulus (Pa)\n",
    "GA_Jacket = G*(EA_Jacket/E) # Shear stiffness of jacket elements (N)\n",
    "GA_Pile = G*(EA_Pile/E) # Shear stiffness of pile elements (N)\n",
    "\n",
    "ρI_Jacket = ρ*(EI_Jacket/E)\n",
    "ρI_Pile = ρ*(EI_Pile/E)\n",
    "\n",
    "ρA_Jacket = ρ*(EA_Jacket/E)\n",
    "ρA_Pile = ρ*(EA_Pile/E)\n",
    "\n",
    "# Define load parameters\n",
    "f0 = 2                          # [Hz]\n",
    "A0 = 0.1                        # [m]\n",
    "T0 = 20                         # [s]\n",
    "\n",
    "# Define the support earthquake function\n",
    "v_ext(t) = A0*sin(2*π*f0*t)   # [m]\n",
    "\n",
    "# Load the mesh\n",
    "model = GmshDiscreteModel(\"msh_files/OFFSHORE_NASAL_JACKET.msh\")"
   ]
  },
  {
   "cell_type": "code",
   "execution_count": 143,
   "metadata": {},
   "outputs": [
    {
     "data": {
      "text/plain": [
       "Dict{String, Int64} with 5 entries:\n",
       "  \"Jacket Members\" => 4\n",
       "  \"Pile Members\"   => 5\n",
       "  \"Supports\"       => 1\n",
       "  \"Bottom Pile\"    => 3\n",
       "  \"Nacelle\"        => 2"
      ]
     },
     "metadata": {},
     "output_type": "display_data"
    }
   ],
   "source": [
    "# Get the labels of the entities in the model (this was already taken care of and pre-defined in the mesh file)\n",
    "labels = get_face_labeling(model)\n",
    "initial_tags = get_tag_entities(labels)[end]\n",
    "tag_from_names = get_tag_from_name(labels)"
   ]
  },
  {
   "cell_type": "code",
   "execution_count": 144,
   "metadata": {},
   "outputs": [],
   "source": [
    "# Set up the figure and axis \n",
    "fig = Figure(resolution=(800, 600))\n",
    "ax = Axis(fig[1, 1], title=\"Domain with Boundary Tags\", xlabel=\"x\", ylabel=\"y\")\n",
    "\n",
    "for intgr in length(tag_from_names)\n",
    "    CairoMakie.wireframe!(ax, Triangulation(model))\n",
    "end\n",
    "\n",
    "CairoMakie.scatter!(ax, Boundary(Triangulation(model), tags=\"Supports\"))\n",
    "CairoMakie.scatter!(ax, Boundary(Triangulation(model), tags=\"Nacelle\"))\n",
    "CairoMakie.scatter!(ax, Boundary(Triangulation(model), tags=\"Jacket Members\"))\n",
    "CairoMakie.scatter!(ax, Boundary(Triangulation(model), tags=\"Pile Members\"))\n",
    "\n",
    "fig"
   ]
  },
  {
   "cell_type": "markdown",
   "metadata": {},
   "source": [
    "### **Defining Domain and Boundary Triangulations**\n",
    "\n",
    "In this cell, we define the computational domain and its subdivisions to facilitate the application of boundary conditions and material properties:\n",
    "\n",
    "- `Ω`: Represents the entire computational domain as a triangulation of the model.\n",
    "- `Ω_pile`: Defines the subdomain corresponding to the pile members, identified by the tag `\"Pile Members\"`.\n",
    "- `Ω_jacket`: Defines the subdomain corresponding to the jacket members, identified by the tag `\"Jacket Members\"`.\n",
    "- `Γ_S`: Represents the boundary of the jacket subdomain where supports are located, identified by the tag `\"Supports\"`.\n",
    "- `Γ_N`: Represents the boundary of the pile subdomain at the nacelle location, identified by the tag `\"Nacelle\"`.\n"
   ]
  },
  {
   "cell_type": "code",
   "execution_count": 129,
   "metadata": {},
   "outputs": [
    {
     "data": {
      "text/plain": [
       "CompositeTriangulation()"
      ]
     },
     "metadata": {},
     "output_type": "display_data"
    }
   ],
   "source": [
    "Ω = Triangulation(model)\n",
    "Ω_pile = Triangulation(model, tags=\"Pile Members\")\n",
    "Ω_jacket = Triangulation(model, tags=\"Jacket Members\")\n",
    "Γ_S = Boundary(Ω_jacket,tags=\"Supports\")\n",
    "Γ_N = Boundary(Ω_pile,tags=\"Nacelle\")"
   ]
  },
  {
   "cell_type": "markdown",
   "metadata": {},
   "source": [
    "### **Defining Finite Element Spaces for the Transient Timoshenko Beam Problem**\n",
    "\n",
    "In this step, we define the finite element spaces necessary for solving the transient Timoshenko beam equations:\n",
    "\n",
    "1. **Reference Finite Elements:**  \n",
    "   We use Lagrangian reference finite elements of order 1 to represent the displacement ($v$) and rotation ($\\theta$) fields.\n",
    "\n",
    "2. **Test Function Spaces:**  \n",
    "   The test spaces for displacement and rotation are defined over the domain $\\Omega$, with Dirichlet boundary conditions applied to enforce constraints at the supports.\n",
    "\n",
    "3. **Trial Function Spaces:**  \n",
    "   For displacement, we define a transient trial space to incorporate the time-dependent boundary condition $v_{\\text{ext}}(t)$ representing earthquake excitation. The rotation space is similarly defined but does not include external forcing.\n",
    "\n",
    "4. **Multi-Field Spaces:**  \n",
    "   The coupled displacement and rotation fields are combined into multi-field finite element spaces, enabling the simultaneous solution of the governing equations. This is due to the coupled-nature of the Timoschenko beam theory.\n",
    "\n",
    "These spaces form the foundation for discretizing the Timoshenko beam equations in the transient analysis."
   ]
  },
  {
   "cell_type": "code",
   "execution_count": 146,
   "metadata": {},
   "outputs": [
    {
     "data": {
      "text/plain": [
       "MultiFieldFESpace()"
      ]
     },
     "metadata": {},
     "output_type": "display_data"
    }
   ],
   "source": [
    "# Transient problem\n",
    "order = 1\n",
    "\n",
    "reffe_v = ReferenceFE(lagrangian, Float64, order) \n",
    "reffe_θ = ReferenceFE(lagrangian, Float64,order)\n",
    "\n",
    "v_Y = TestFESpace(Ω, reffe_v; dirichlet_tags=\"Supports\") # The TestFESpace for the displacement in Timoschenko equation\n",
    "θ_Y = TestFESpace(Ω, reffe_θ; dirichlet_tags=\"Supports\") # The TestFESpace for the rotation in Timoschenko equation \n",
    "\n",
    "v_X = TransientTrialFESpace(v_Y, v_ext) # The TransientTrialFESpace for the displacement in Timoschenko equation\n",
    "θ_X = TransientTrialFESpace(θ_Y) # The TransientTrialFESpace for the rotation in Timoschenko equation \n",
    "\n",
    "X = TransientMultiFieldFESpace([v_X,θ_X])\n",
    "Y = MultiFieldFESpace([v_Y,θ_Y])"
   ]
  },
  {
   "cell_type": "markdown",
   "metadata": {},
   "source": [
    "### **Defining Numerical Integration Measures**\n",
    "\n",
    "This cell defines the integration measures required for performing numerical integration over the different parts of the domain and boundaries:\n",
    "\n",
    "- **Quadrature Degree:**  \n",
    "  A first-order Gaussian quadrature rule ($\\text{degree} = 1$) is used to prevent shear locking, which can occur in Timoshenko beam formulations when higher-degree quadrature is unnecessarily applied to shear terms.\n",
    "\n",
    "- **Domain Integration Measures:**\n",
    "  - `dΩ_Pile`: Integration measure for the pile members domain ($\\Omega_{\\text{Pile}}$).\n",
    "  - `dΩ_Jacket`: Integration measure for the jacket members domain ($\\Omega_{\\text{Jacket}}$).\n",
    "\n",
    "- **Boundary Integration Measures:**\n",
    "  - `dΓ_N`: Integration measure along the nacelle boundary ($\\Gamma_{\\text{Nacelle}}$).\n",
    "  - `dΓ_S`: Integration measure along the supports boundary ($\\Gamma_{\\text{Supports}}$).\n",
    "\n",
    "These measures ensure accurate numerical evaluation of integrals over both the domain and boundaries, facilitating the application of the weak form for the Timoshenko beam equations.\n"
   ]
  },
  {
   "cell_type": "code",
   "execution_count": 147,
   "metadata": {},
   "outputs": [
    {
     "data": {
      "text/plain": [
       "GenericMeasure()"
      ]
     },
     "metadata": {},
     "output_type": "display_data"
    }
   ],
   "source": [
    "degree = 1 # Degree of the quadrature rule == 1 to prevent shear locking\n",
    "\n",
    "dΩ_Pile = Measure(Ω_pile, degree) # Numerical integration within the domain Ω using first-order Gaussian quadrature rule\n",
    "dΩ_Jacket = Measure(Ω_jacket, degree) # Numerical integration within the domain Ω_jacket using first-order Gaussian quadrature rule\n",
    "\n",
    "dΓ_N = Measure(Γ_N,degree) # Numerical integration along the Nacelle boundary Γ_N using first-order Gaussian quadrature rule\n",
    "dΓ_S = Measure(Γ_S,degree) # Numerical integration along the supports Γ_S using first-order Gaussian quadrature rule"
   ]
  },
  {
   "cell_type": "markdown",
   "metadata": {},
   "source": [
    "### **Deriving the Weak Form for the Timoshenko Beam**\n",
    "\n",
    "The weak form of the Timoshenko beam equations is derived by multiplying the governing equations by test functions and integrating over the domain. The process incorporates contributions from the mass, stiffness, and external forces, resulting in the bilinear and linear forms necessary for finite element discretization.\n",
    "\n",
    "#### Weak Form Components\n",
    "\n",
    "1. **Mass Terms ($m_{\\text{timo}}$):**\n",
    "   The mass terms account for inertia effects and are derived from the dynamic equilibrium equations:\n",
    "   $$\n",
    "   m_{\\text{timo}}(t, (\\ddot{v}, \\ddot{\\theta}), (w, \\psi)) =\n",
    "   \\int_{\\Omega_{\\text{Jacket}}} \\rho A \\, \\ddot{v} \\cdot w \\, d\\Omega +\n",
    "   \\int_{\\Omega_{\\text{Jacket}}} \\rho I \\, \\ddot{\\theta} \\cdot \\psi \\, d\\Omega +\n",
    "   \\int_{\\Omega_{\\text{Pile}}} \\rho A \\, \\ddot{v} \\cdot w \\, d\\Omega +\n",
    "   \\int_{\\Omega_{\\text{Pile}}} \\rho I \\, \\ddot{\\theta} \\cdot \\psi \\, d\\Omega +\n",
    "   \\int_{\\Gamma_{\\text{Nacelle}}} M_{\\text{Nacelle}} \\ddot{v} \\cdot w \\, d\\Gamma\n",
    "   $$\n",
    "\n",
    "2. **Damping Terms ($c_{\\text{timo}}$):**\n",
    "   The damping terms, representing velocity-dependent effects, are included as:\n",
    "   $$\n",
    "   c_{\\text{timo}}(t, (\\dot{v}, \\dot{\\theta}), (w, \\psi)) = 0\n",
    "   $$\n",
    "\n",
    "3. **Stiffness Terms ($a_{\\text{timo}}$):**\n",
    "   The stiffness terms capture the elastic behavior of the beam, incorporating bending and shear deformation:\n",
    "   $$\n",
    "   a_{\\text{timo}}(t, (v, \\theta), (w, \\psi)) =\n",
    "   \\int_{\\Omega_{\\text{Jacket}}} EI \\, (\\nabla \\theta \\cdot \\nabla \\psi) + GA \\, ((\\nabla v - \\theta) \\cdot (\\nabla w - \\psi)) \\, d\\Omega +\n",
    "   \\int_{\\Omega_{\\text{Pile}}} EI \\, (\\nabla \\theta \\cdot \\nabla \\psi) + GA \\, ((\\nabla v - \\theta) \\cdot (\\nabla w - \\psi)) \\, d\\Omega\n",
    "   $$\n",
    "\n",
    "4. **External Force Terms ($l_{\\text{timo}}$):**\n",
    "   The external forces are represented as:\n",
    "   $$\n",
    "   l_{\\text{timo}}(t, (w, \\psi)) = \\int_{\\Gamma_{\\text{Nacelle}}} f_{\\text{ext}} \\cdot w \\, d\\Gamma\n",
    "   $$\n",
    "   Here, no external force is applied in this setup, so $f_{\\text{ext}} = 0$.\n",
    "\n",
    "#### Transient Operator Assembly\n",
    "\n",
    "The components are combined into a transient finite element operator:\n",
    "- **Mass Term ($m_{\\text{timo}}$):** Accounts for inertia effects.\n",
    "- **Damping Term ($c_{\\text{timo}}$):** Includes any velocity-dependent effects (zero in this case).\n",
    "- **Stiffness Term ($a_{\\text{timo}}$):** Represents elastic and shear stiffness contributions.\n",
    "- **External Forces ($l_{\\text{timo}}$):** Includes transient forces applied to the beam.\n",
    "\n",
    "This operator is defined as:\n",
    "```julia\n",
    "op_timo = TransientAffineFEOperator(m_timo, c_timo, a_timo, l_timo, X, Y)"
   ]
  },
  {
   "cell_type": "code",
   "execution_count": 148,
   "metadata": {},
   "outputs": [
    {
     "data": {
      "text/plain": [
       "TransientFEOperatorFromWeakForm()"
      ]
     },
     "metadata": {},
     "output_type": "display_data"
    }
   ],
   "source": [
    "# Bilinear form including time-dependent mass terms\n",
    "m_timo(t, (dttv, dttθ), (w,ψ)) = ∫(ρI_Jacket * dttθ ⋅ ψ)dΩ_Jacket + ∫(ρI_Pile * dttθ ⋅ ψ)dΩ_Pile + \n",
    "                                ∫(ρA_Jacket * dttv ⋅ w)dΩ_Jacket  + ∫(ρA_Pile * dttv ⋅ w)dΩ_Pile +\n",
    "                                ∫(M_Nacelle*dttv⋅w)dΓ_N\n",
    "\n",
    "# Bilinear form including time-dependent damping terms (no damping in this model)                             \n",
    "c_timo(t, (dtv, dtθ),  (w,ψ)) = ∫(0*dtv⋅w)dΩ_Jacket + ∫(0*dtv⋅w)dΩ_Pile\n",
    "\n",
    "# Bilinear form including time-dependent stiffness terms\n",
    "a_timo(t, (v,θ), (w,ψ)) = ∫(EI_Jacket*(∇(θ)⊙∇(ψ)) + GA_Jacket* ((∇(v)-θ)⋅(∇(w)-ψ)) )dΩ_Jacket +\n",
    "                      ∫(EI_Pile*(∇(θ)⊙∇(ψ)) + GA_Pile*((∇(v)-θ)⋅(∇(w)-ψ)) )dΩ_Pile\n",
    "\n",
    "# Linear form for transient external forces\n",
    "l_timo(t, (w,ψ)) = ∫(0 * w)dΓ_N\n",
    "\n",
    "op_timo = TransientAffineFEOperator(m_timo, c_timo, a_timo, l_timo,X,Y)"
   ]
  },
  {
   "cell_type": "markdown",
   "metadata": {},
   "source": [
    "### **Solving the Transient Timoshenko Beam Problem**\n",
    "\n",
    "We solve the transient problem using the **Newmark-beta method**, a time integration scheme for dynamic structural analysis. \n",
    "\n",
    "- **Time Interval:** The simulation runs from $t_0 = 0.0$ to $t_F = 10.0$, with a time step of $\\Delta t = 0.05$.\n",
    "- **Initial Conditions:** The structure starts at rest, with zero initial displacement, velocity, and acceleration.\n",
    "\n",
    "Using the assembled transient operator `op_timo` and the initial conditions, the solver computes the time-dependent response of the jacket structure. The solution provides the displacement and rotation fields over the specified time interval."
   ]
  },
  {
   "cell_type": "code",
   "execution_count": 150,
   "metadata": {},
   "outputs": [
    {
     "data": {
      "text/plain": [
       "Gridap.ODEs.TransientFETools.TransientFESolution(GenericODESolution(), TransientMultiFieldTrialFESpace{Gridap.MultiField.ConsecutiveMultiFieldStyle, Gridap.FESpaces.UnConstrained, Vector{Float64}}(Vector{Float64}, Any[TransientTrialFESpace{Gridap.FESpaces.UnconstrainedFESpace{Vector{Float64}, Gridap.FESpaces.NodeToDofGlue{Int32}}, TrialFESpace{Gridap.FESpaces.UnconstrainedFESpace{Vector{Float64}, Gridap.FESpaces.NodeToDofGlue{Int32}}}}(UnconstrainedFESpace(), v_ext, TrialFESpace()), TrialFESpace()], Gridap.MultiField.ConsecutiveMultiFieldStyle(), Gridap.FESpaces.UnConstrained()))"
      ]
     },
     "metadata": {},
     "output_type": "display_data"
    }
   ],
   "source": [
    "# Solution\n",
    "γₜ = 0.5\n",
    "βₜ = 0.25\n",
    "ls = LUSolver()\n",
    "Δt = 0.05\n",
    "ode_solver = Newmark(ls,Δt,γₜ,βₜ)\n",
    "\n",
    "# Time interval\n",
    "t0, tF = 0.0, 10.0\n",
    "\n",
    "# Initial solution\n",
    "x0_timo = interpolate_everywhere([0.0,0.0],X(0.0))\n",
    "v0_timo = interpolate_everywhere([0.0,0.0],X(0.0))\n",
    "a0_timo = interpolate_everywhere([0.0,0.0],X(0.0))\n",
    "\n",
    "xt_timo = solve(ode_solver,op_timo,(x0_timo,v0_timo,a0_timo),t0,tF)"
   ]
  },
  {
   "cell_type": "markdown",
   "metadata": {},
   "source": [
    "### **Post-processing**"
   ]
  },
  {
   "cell_type": "code",
   "execution_count": 151,
   "metadata": {},
   "outputs": [],
   "source": [
    "output_dir = \"results/\"\n",
    "vtk_output = true\n",
    "\n",
    "if vtk_output == true\n",
    "    pvd_v = paraview_collection(output_dir * \"_v_solution\", append=false)\n",
    "    pvd_theta = paraview_collection(output_dir * \"_theta_solution\", append=false)\n",
    "  end\n",
    "\n",
    "# Time stepping for visualization\n",
    "times = t0:Δt:tF\n",
    "\n",
    "Nacelle_v = []\n",
    "Nacelle_theta = []\n",
    "\n",
    "for ((v,θ), t) in xt_timo\n",
    "    # Write to VTK\n",
    "    push!(Nacelle_v, evaluate(v, Gridap.Point(0.0, 100.0)))\n",
    "    push!(Nacelle_theta, evaluate(θ, Gridap.Point(0.0, 100.0)))\n",
    "\n",
    "    push!(Nacelle_v_pile, evaluate(v, Gridap.Point(0.0, 0.1)))\n",
    "    push!(Nacelle_v_jacket, evaluate(v, Gridap.Point(0.01, 0.0)))\n",
    "    if vtk_output == true\n",
    "        pvd_v[t] = createvtk(Ω,output_dir * \"_v_solution\" * \"_$t.vtu\",cellfields = [\"v\" => v],nsubcells=10)\n",
    "        pvd_theta[t] = createvtk(Ω,output_dir * \"_theta_solution\" * \"_$t.vtu\",cellfields = [\"theta\" => θ],nsubcells=10)\n",
    "      end\n",
    "end"
   ]
  },
  {
   "cell_type": "code",
   "execution_count": 154,
   "metadata": {},
   "outputs": [
    {
     "data": {
      "image/png": "[encoded data removed]",
      "image/svg+xml": [
       "<?xml version=\"1.0\" encoding=\"utf-8\"?>\n",
       "<svg xmlns=\"http://www.w3.org/2000/svg\" xmlns:xlink=\"http://www.w3.org/1999/xlink\" width=\"600\" height=\"400\" viewBox=\"0 0 2400 1600\">\n",
       "<defs>\n",
       "  <clipPath id=\"clip200\">\n",
       "    <rect x=\"0\" y=\"0\" width=\"2400\" height=\"1600\"/>\n",
       "  </clipPath>\n",
       "</defs>\n",
       "<path clip-path=\"url(#clip200)\" d=\"M0 1600 L2400 1600 L2400 0 L0 0  Z\" fill=\"#ffffff\" fill-rule=\"evenodd\" fill-opacity=\"1\"/>\n",
       "<defs>\n",
       "  <clipPath id=\"clip201\">\n",
       "    <rect x=\"480\" y=\"0\" width=\"1681\" height=\"1600\"/>\n",
       "  </clipPath>\n",
       "</defs>\n",
       "<path clip-path=\"url(#clip200)\" d=\"M224.098 1486.45 L2352.76 1486.45 L2352.76 47.2441 L224.098 47.2441  Z\" fill=\"#ffffff\" fill-rule=\"evenodd\" fill-opacity=\"1\"/>\n",
       "<defs>\n",
       "  <clipPath id=\"clip202\">\n",
       "    <rect x=\"224\" y=\"47\" width=\"2130\" height=\"1440\"/>\n",
       "  </clipPath>\n",
       "</defs>\n",
       "<polyline clip-path=\"url(#clip202)\" style=\"stroke:#000000; stroke-linecap:round; stroke-linejoin:round; stroke-width:2; stroke-opacity:0.1; fill:none\" points=\"274.252,1486.45 274.252,47.2441 \"/>\n",
       "<polyline clip-path=\"url(#clip202)\" style=\"stroke:#000000; stroke-linecap:round; stroke-linejoin:round; stroke-width:2; stroke-opacity:0.1; fill:none\" points=\"778.816,1486.45 778.816,47.2441 \"/>\n",
       "<polyline clip-path=\"url(#clip202)\" style=\"stroke:#000000; stroke-linecap:round; stroke-linejoin:round; stroke-width:2; stroke-opacity:0.1; fill:none\" points=\"1283.38,1486.45 1283.38,47.2441 \"/>\n",
       "<polyline clip-path=\"url(#clip202)\" style=\"stroke:#000000; stroke-linecap:round; stroke-linejoin:round; stroke-width:2; stroke-opacity:0.1; fill:none\" points=\"1787.95,1486.45 1787.95,47.2441 \"/>\n",
       "<polyline clip-path=\"url(#clip202)\" style=\"stroke:#000000; stroke-linecap:round; stroke-linejoin:round; stroke-width:2; stroke-opacity:0.1; fill:none\" points=\"2292.51,1486.45 2292.51,47.2441 \"/>\n",
       "<polyline clip-path=\"url(#clip200)\" style=\"stroke:#000000; stroke-linecap:round; stroke-linejoin:round; stroke-width:4; stroke-opacity:1; fill:none\" points=\"224.098,1486.45 2352.76,1486.45 \"/>\n",
       "<polyline clip-path=\"url(#clip200)\" style=\"stroke:#000000; stroke-linecap:round; stroke-linejoin:round; stroke-width:4; stroke-opacity:1; fill:none\" points=\"274.252,1486.45 274.252,1467.55 \"/>\n",
       "<polyline clip-path=\"url(#clip200)\" style=\"stroke:#000000; stroke-linecap:round; stroke-linejoin:round; stroke-width:4; stroke-opacity:1; fill:none\" points=\"778.816,1486.45 778.816,1467.55 \"/>\n",
       "<polyline clip-path=\"url(#clip200)\" style=\"stroke:#000000; stroke-linecap:round; stroke-linejoin:round; stroke-width:4; stroke-opacity:1; fill:none\" points=\"1283.38,1486.45 1283.38,1467.55 \"/>\n",
       "<polyline clip-path=\"url(#clip200)\" style=\"stroke:#000000; stroke-linecap:round; stroke-linejoin:round; stroke-width:4; stroke-opacity:1; fill:none\" points=\"1787.95,1486.45 1787.95,1467.55 \"/>\n",
       "<polyline clip-path=\"url(#clip200)\" style=\"stroke:#000000; stroke-linecap:round; stroke-linejoin:round; stroke-width:4; stroke-opacity:1; fill:none\" points=\"2292.51,1486.45 2292.51,1467.55 \"/>\n",
       "<path clip-path=\"url(#clip200)\" d=\"M251.636 1517.37 Q248.025 1517.37 246.196 1520.93 Q244.391 1524.47 244.391 1531.6 Q244.391 1538.71 246.196 1542.27 Q248.025 1545.82 251.636 1545.82 Q255.27 1545.82 257.076 1542.27 Q258.904 1538.71 258.904 1531.6 Q258.904 1524.47 257.076 1520.93 Q255.27 1517.37 251.636 1517.37 M251.636 1513.66 Q257.446 1513.66 260.502 1518.27 Q263.58 1522.85 263.58 1531.6 Q263.58 1540.33 260.502 1544.94 Q257.446 1549.52 251.636 1549.52 Q245.826 1549.52 242.747 1544.94 Q239.692 1540.33 239.692 1531.6 Q239.692 1522.85 242.747 1518.27 Q245.826 1513.66 251.636 1513.66 Z\" fill=\"#000000\" fill-rule=\"nonzero\" fill-opacity=\"1\" /><path clip-path=\"url(#clip200)\" d=\"M271.798 1542.97 L276.682 1542.97 L276.682 1548.85 L271.798 1548.85 L271.798 1542.97 Z\" fill=\"#000000\" fill-rule=\"nonzero\" fill-opacity=\"1\" /><path clip-path=\"url(#clip200)\" d=\"M296.867 1517.37 Q293.256 1517.37 291.427 1520.93 Q289.622 1524.47 289.622 1531.6 Q289.622 1538.71 291.427 1542.27 Q293.256 1545.82 296.867 1545.82 Q300.501 1545.82 302.307 1542.27 Q304.136 1538.71 304.136 1531.6 Q304.136 1524.47 302.307 1520.93 Q300.501 1517.37 296.867 1517.37 M296.867 1513.66 Q302.677 1513.66 305.733 1518.27 Q308.812 1522.85 308.812 1531.6 Q308.812 1540.33 305.733 1544.94 Q302.677 1549.52 296.867 1549.52 Q291.057 1549.52 287.978 1544.94 Q284.923 1540.33 284.923 1531.6 Q284.923 1522.85 287.978 1518.27 Q291.057 1513.66 296.867 1513.66 Z\" fill=\"#000000\" fill-rule=\"nonzero\" fill-opacity=\"1\" /><path clip-path=\"url(#clip200)\" d=\"M750.553 1544.91 L766.872 1544.91 L766.872 1548.85 L744.928 1548.85 L744.928 1544.91 Q747.59 1542.16 752.173 1537.53 Q756.78 1532.88 757.96 1531.53 Q760.205 1529.01 761.085 1527.27 Q761.988 1525.51 761.988 1523.82 Q761.988 1521.07 760.043 1519.33 Q758.122 1517.6 755.02 1517.6 Q752.821 1517.6 750.368 1518.36 Q747.937 1519.13 745.159 1520.68 L745.159 1515.95 Q747.983 1514.82 750.437 1514.24 Q752.891 1513.66 754.928 1513.66 Q760.298 1513.66 763.492 1516.35 Q766.687 1519.03 766.687 1523.52 Q766.687 1525.65 765.877 1527.57 Q765.09 1529.47 762.983 1532.07 Q762.404 1532.74 759.303 1535.95 Q756.201 1539.15 750.553 1544.91 Z\" fill=\"#000000\" fill-rule=\"nonzero\" fill-opacity=\"1\" /><path clip-path=\"url(#clip200)\" d=\"M776.687 1542.97 L781.571 1542.97 L781.571 1548.85 L776.687 1548.85 L776.687 1542.97 Z\" fill=\"#000000\" fill-rule=\"nonzero\" fill-opacity=\"1\" /><path clip-path=\"url(#clip200)\" d=\"M791.802 1514.29 L810.159 1514.29 L810.159 1518.22 L796.085 1518.22 L796.085 1526.7 Q797.103 1526.35 798.122 1526.19 Q799.14 1526 800.159 1526 Q805.946 1526 809.326 1529.17 Q812.705 1532.34 812.705 1537.76 Q812.705 1543.34 809.233 1546.44 Q805.761 1549.52 799.441 1549.52 Q797.265 1549.52 794.997 1549.15 Q792.752 1548.78 790.344 1548.04 L790.344 1543.34 Q792.427 1544.47 794.65 1545.03 Q796.872 1545.58 799.349 1545.58 Q803.353 1545.58 805.691 1543.48 Q808.029 1541.37 808.029 1537.76 Q808.029 1534.15 805.691 1532.04 Q803.353 1529.94 799.349 1529.94 Q797.474 1529.94 795.599 1530.35 Q793.747 1530.77 791.802 1531.65 L791.802 1514.29 Z\" fill=\"#000000\" fill-rule=\"nonzero\" fill-opacity=\"1\" /><path clip-path=\"url(#clip200)\" d=\"M1250.55 1514.29 L1268.9 1514.29 L1268.9 1518.22 L1254.83 1518.22 L1254.83 1526.7 Q1255.85 1526.35 1256.87 1526.19 Q1257.88 1526 1258.9 1526 Q1264.69 1526 1268.07 1529.17 Q1271.45 1532.34 1271.45 1537.76 Q1271.45 1543.34 1267.98 1546.44 Q1264.5 1549.52 1258.18 1549.52 Q1256.01 1549.52 1253.74 1549.15 Q1251.49 1548.78 1249.09 1548.04 L1249.09 1543.34 Q1251.17 1544.47 1253.39 1545.03 Q1255.62 1545.58 1258.09 1545.58 Q1262.1 1545.58 1264.43 1543.48 Q1266.77 1541.37 1266.77 1537.76 Q1266.77 1534.15 1264.43 1532.04 Q1262.1 1529.94 1258.09 1529.94 Q1256.22 1529.94 1254.34 1530.35 Q1252.49 1530.77 1250.55 1531.65 L1250.55 1514.29 Z\" fill=\"#000000\" fill-rule=\"nonzero\" fill-opacity=\"1\" /><path clip-path=\"url(#clip200)\" d=\"M1280.66 1542.97 L1285.55 1542.97 L1285.55 1548.85 L1280.66 1548.85 L1280.66 1542.97 Z\" fill=\"#000000\" fill-rule=\"nonzero\" fill-opacity=\"1\" /><path clip-path=\"url(#clip200)\" d=\"M1305.73 1517.37 Q1302.12 1517.37 1300.29 1520.93 Q1298.49 1524.47 1298.49 1531.6 Q1298.49 1538.71 1300.29 1542.27 Q1302.12 1545.82 1305.73 1545.82 Q1309.36 1545.82 1311.17 1542.27 Q1313 1538.71 1313 1531.6 Q1313 1524.47 1311.17 1520.93 Q1309.36 1517.37 1305.73 1517.37 M1305.73 1513.66 Q1311.54 1513.66 1314.6 1518.27 Q1317.68 1522.85 1317.68 1531.6 Q1317.68 1540.33 1314.6 1544.94 Q1311.54 1549.52 1305.73 1549.52 Q1299.92 1549.52 1296.84 1544.94 Q1293.79 1540.33 1293.79 1531.6 Q1293.79 1522.85 1296.84 1518.27 Q1299.92 1513.66 1305.73 1513.66 Z\" fill=\"#000000\" fill-rule=\"nonzero\" fill-opacity=\"1\" /><path clip-path=\"url(#clip200)\" d=\"M1754.27 1514.29 L1776.49 1514.29 L1776.49 1516.28 L1763.94 1548.85 L1759.06 1548.85 L1770.86 1518.22 L1754.27 1518.22 L1754.27 1514.29 Z\" fill=\"#000000\" fill-rule=\"nonzero\" fill-opacity=\"1\" /><path clip-path=\"url(#clip200)\" d=\"M1785.61 1542.97 L1790.49 1542.97 L1790.49 1548.85 L1785.61 1548.85 L1785.61 1542.97 Z\" fill=\"#000000\" fill-rule=\"nonzero\" fill-opacity=\"1\" /><path clip-path=\"url(#clip200)\" d=\"M1800.72 1514.29 L1819.08 1514.29 L1819.08 1518.22 L1805.01 1518.22 L1805.01 1526.7 Q1806.02 1526.35 1807.04 1526.19 Q1808.06 1526 1809.08 1526 Q1814.87 1526 1818.25 1529.17 Q1821.63 1532.34 1821.63 1537.76 Q1821.63 1543.34 1818.15 1546.44 Q1814.68 1549.52 1808.36 1549.52 Q1806.19 1549.52 1803.92 1549.15 Q1801.67 1548.78 1799.27 1548.04 L1799.27 1543.34 Q1801.35 1544.47 1803.57 1545.03 Q1805.79 1545.58 1808.27 1545.58 Q1812.27 1545.58 1814.61 1543.48 Q1816.95 1541.37 1816.95 1537.76 Q1816.95 1534.15 1814.61 1532.04 Q1812.27 1529.94 1808.27 1529.94 Q1806.4 1529.94 1804.52 1530.35 Q1802.67 1530.77 1800.72 1531.65 L1800.72 1514.29 Z\" fill=\"#000000\" fill-rule=\"nonzero\" fill-opacity=\"1\" /><path clip-path=\"url(#clip200)\" d=\"M2244.58 1544.91 L2252.22 1544.91 L2252.22 1518.55 L2243.91 1520.21 L2243.91 1515.95 L2252.18 1514.29 L2256.85 1514.29 L2256.85 1544.91 L2264.49 1544.91 L2264.49 1548.85 L2244.58 1548.85 L2244.58 1544.91 Z\" fill=\"#000000\" fill-rule=\"nonzero\" fill-opacity=\"1\" /><path clip-path=\"url(#clip200)\" d=\"M2283.93 1517.37 Q2280.32 1517.37 2278.49 1520.93 Q2276.69 1524.47 2276.69 1531.6 Q2276.69 1538.71 2278.49 1542.27 Q2280.32 1545.82 2283.93 1545.82 Q2287.57 1545.82 2289.37 1542.27 Q2291.2 1538.71 2291.2 1531.6 Q2291.2 1524.47 2289.37 1520.93 Q2287.57 1517.37 2283.93 1517.37 M2283.93 1513.66 Q2289.74 1513.66 2292.8 1518.27 Q2295.88 1522.85 2295.88 1531.6 Q2295.88 1540.33 2292.8 1544.94 Q2289.74 1549.52 2283.93 1549.52 Q2278.12 1549.52 2275.05 1544.94 Q2271.99 1540.33 2271.99 1531.6 Q2271.99 1522.85 2275.05 1518.27 Q2278.12 1513.66 2283.93 1513.66 Z\" fill=\"#000000\" fill-rule=\"nonzero\" fill-opacity=\"1\" /><path clip-path=\"url(#clip200)\" d=\"M2304.1 1542.97 L2308.98 1542.97 L2308.98 1548.85 L2304.1 1548.85 L2304.1 1542.97 Z\" fill=\"#000000\" fill-rule=\"nonzero\" fill-opacity=\"1\" /><path clip-path=\"url(#clip200)\" d=\"M2329.17 1517.37 Q2325.55 1517.37 2323.73 1520.93 Q2321.92 1524.47 2321.92 1531.6 Q2321.92 1538.71 2323.73 1542.27 Q2325.55 1545.82 2329.17 1545.82 Q2332.8 1545.82 2334.61 1542.27 Q2336.43 1538.71 2336.43 1531.6 Q2336.43 1524.47 2334.61 1520.93 Q2332.8 1517.37 2329.17 1517.37 M2329.17 1513.66 Q2334.98 1513.66 2338.03 1518.27 Q2341.11 1522.85 2341.11 1531.6 Q2341.11 1540.33 2338.03 1544.94 Q2334.98 1549.52 2329.17 1549.52 Q2323.36 1549.52 2320.28 1544.94 Q2317.22 1540.33 2317.22 1531.6 Q2317.22 1522.85 2320.28 1518.27 Q2323.36 1513.66 2329.17 1513.66 Z\" fill=\"#000000\" fill-rule=\"nonzero\" fill-opacity=\"1\" /><polyline clip-path=\"url(#clip202)\" style=\"stroke:#000000; stroke-linecap:round; stroke-linejoin:round; stroke-width:2; stroke-opacity:0.1; fill:none\" points=\"224.098,1425.32 2352.76,1425.32 \"/>\n",
       "<polyline clip-path=\"url(#clip202)\" style=\"stroke:#000000; stroke-linecap:round; stroke-linejoin:round; stroke-width:2; stroke-opacity:0.1; fill:none\" points=\"224.098,1085.18 2352.76,1085.18 \"/>\n",
       "<polyline clip-path=\"url(#clip202)\" style=\"stroke:#000000; stroke-linecap:round; stroke-linejoin:round; stroke-width:2; stroke-opacity:0.1; fill:none\" points=\"224.098,745.03 2352.76,745.03 \"/>\n",
       "<polyline clip-path=\"url(#clip202)\" style=\"stroke:#000000; stroke-linecap:round; stroke-linejoin:round; stroke-width:2; stroke-opacity:0.1; fill:none\" points=\"224.098,404.883 2352.76,404.883 \"/>\n",
       "<polyline clip-path=\"url(#clip202)\" style=\"stroke:#000000; stroke-linecap:round; stroke-linejoin:round; stroke-width:2; stroke-opacity:0.1; fill:none\" points=\"224.098,64.7359 2352.76,64.7359 \"/>\n",
       "<polyline clip-path=\"url(#clip200)\" style=\"stroke:#000000; stroke-linecap:round; stroke-linejoin:round; stroke-width:4; stroke-opacity:1; fill:none\" points=\"224.098,1486.45 224.098,47.2441 \"/>\n",
       "<polyline clip-path=\"url(#clip200)\" style=\"stroke:#000000; stroke-linecap:round; stroke-linejoin:round; stroke-width:4; stroke-opacity:1; fill:none\" points=\"224.098,1425.32 242.996,1425.32 \"/>\n",
       "<polyline clip-path=\"url(#clip200)\" style=\"stroke:#000000; stroke-linecap:round; stroke-linejoin:round; stroke-width:4; stroke-opacity:1; fill:none\" points=\"224.098,1085.18 242.996,1085.18 \"/>\n",
       "<polyline clip-path=\"url(#clip200)\" style=\"stroke:#000000; stroke-linecap:round; stroke-linejoin:round; stroke-width:4; stroke-opacity:1; fill:none\" points=\"224.098,745.03 242.996,745.03 \"/>\n",
       "<polyline clip-path=\"url(#clip200)\" style=\"stroke:#000000; stroke-linecap:round; stroke-linejoin:round; stroke-width:4; stroke-opacity:1; fill:none\" points=\"224.098,404.883 242.996,404.883 \"/>\n",
       "<polyline clip-path=\"url(#clip200)\" style=\"stroke:#000000; stroke-linecap:round; stroke-linejoin:round; stroke-width:4; stroke-opacity:1; fill:none\" points=\"224.098,64.7359 242.996,64.7359 \"/>\n",
       "<path clip-path=\"url(#clip200)\" d=\"M50.9921 1425.78 L80.6679 1425.78 L80.6679 1429.71 L50.9921 1429.71 L50.9921 1425.78 Z\" fill=\"#000000\" fill-rule=\"nonzero\" fill-opacity=\"1\" /><path clip-path=\"url(#clip200)\" d=\"M100.76 1411.12 Q97.1493 1411.12 95.3206 1414.69 Q93.515 1418.23 93.515 1425.36 Q93.515 1432.47 95.3206 1436.03 Q97.1493 1439.57 100.76 1439.57 Q104.395 1439.57 106.2 1436.03 Q108.029 1432.47 108.029 1425.36 Q108.029 1418.23 106.2 1414.69 Q104.395 1411.12 100.76 1411.12 M100.76 1407.42 Q106.571 1407.42 109.626 1412.03 Q112.705 1416.61 112.705 1425.36 Q112.705 1434.09 109.626 1438.69 Q106.571 1443.28 100.76 1443.28 Q94.9502 1443.28 91.8715 1438.69 Q88.816 1434.09 88.816 1425.36 Q88.816 1416.61 91.8715 1412.03 Q94.9502 1407.42 100.76 1407.42 Z\" fill=\"#000000\" fill-rule=\"nonzero\" fill-opacity=\"1\" /><path clip-path=\"url(#clip200)\" d=\"M120.922 1436.72 L125.807 1436.72 L125.807 1442.6 L120.922 1442.6 L120.922 1436.72 Z\" fill=\"#000000\" fill-rule=\"nonzero\" fill-opacity=\"1\" /><path clip-path=\"url(#clip200)\" d=\"M136.802 1438.67 L144.441 1438.67 L144.441 1412.3 L136.131 1413.97 L136.131 1409.71 L144.394 1408.04 L149.07 1408.04 L149.07 1438.67 L156.709 1438.67 L156.709 1442.6 L136.802 1442.6 L136.802 1438.67 Z\" fill=\"#000000\" fill-rule=\"nonzero\" fill-opacity=\"1\" /><path clip-path=\"url(#clip200)\" d=\"M176.153 1411.12 Q172.542 1411.12 170.714 1414.69 Q168.908 1418.23 168.908 1425.36 Q168.908 1432.47 170.714 1436.03 Q172.542 1439.57 176.153 1439.57 Q179.788 1439.57 181.593 1436.03 Q183.422 1432.47 183.422 1425.36 Q183.422 1418.23 181.593 1414.69 Q179.788 1411.12 176.153 1411.12 M176.153 1407.42 Q181.964 1407.42 185.019 1412.03 Q188.098 1416.61 188.098 1425.36 Q188.098 1434.09 185.019 1438.69 Q181.964 1443.28 176.153 1443.28 Q170.343 1443.28 167.265 1438.69 Q164.209 1434.09 164.209 1425.36 Q164.209 1416.61 167.265 1412.03 Q170.343 1407.42 176.153 1407.42 Z\" fill=\"#000000\" fill-rule=\"nonzero\" fill-opacity=\"1\" /><path clip-path=\"url(#clip200)\" d=\"M51.9875 1085.63 L81.6633 1085.63 L81.6633 1089.56 L51.9875 1089.56 L51.9875 1085.63 Z\" fill=\"#000000\" fill-rule=\"nonzero\" fill-opacity=\"1\" /><path clip-path=\"url(#clip200)\" d=\"M101.756 1070.98 Q98.1447 1070.98 96.316 1074.54 Q94.5104 1078.08 94.5104 1085.21 Q94.5104 1092.32 96.316 1095.88 Q98.1447 1099.42 101.756 1099.42 Q105.39 1099.42 107.196 1095.88 Q109.024 1092.32 109.024 1085.21 Q109.024 1078.08 107.196 1074.54 Q105.39 1070.98 101.756 1070.98 M101.756 1067.27 Q107.566 1067.27 110.621 1071.88 Q113.7 1076.46 113.7 1085.21 Q113.7 1093.94 110.621 1098.55 Q107.566 1103.13 101.756 1103.13 Q95.9456 1103.13 92.8669 1098.55 Q89.8114 1093.94 89.8114 1085.21 Q89.8114 1076.46 92.8669 1071.88 Q95.9456 1067.27 101.756 1067.27 Z\" fill=\"#000000\" fill-rule=\"nonzero\" fill-opacity=\"1\" /><path clip-path=\"url(#clip200)\" d=\"M121.918 1096.58 L126.802 1096.58 L126.802 1102.46 L121.918 1102.46 L121.918 1096.58 Z\" fill=\"#000000\" fill-rule=\"nonzero\" fill-opacity=\"1\" /><path clip-path=\"url(#clip200)\" d=\"M146.987 1070.98 Q143.376 1070.98 141.547 1074.54 Q139.742 1078.08 139.742 1085.21 Q139.742 1092.32 141.547 1095.88 Q143.376 1099.42 146.987 1099.42 Q150.621 1099.42 152.427 1095.88 Q154.255 1092.32 154.255 1085.21 Q154.255 1078.08 152.427 1074.54 Q150.621 1070.98 146.987 1070.98 M146.987 1067.27 Q152.797 1067.27 155.853 1071.88 Q158.931 1076.46 158.931 1085.21 Q158.931 1093.94 155.853 1098.55 Q152.797 1103.13 146.987 1103.13 Q141.177 1103.13 138.098 1098.55 Q135.043 1093.94 135.043 1085.21 Q135.043 1076.46 138.098 1071.88 Q141.177 1067.27 146.987 1067.27 Z\" fill=\"#000000\" fill-rule=\"nonzero\" fill-opacity=\"1\" /><path clip-path=\"url(#clip200)\" d=\"M167.195 1067.9 L185.552 1067.9 L185.552 1071.83 L171.478 1071.83 L171.478 1080.3 Q172.496 1079.96 173.515 1079.8 Q174.533 1079.61 175.552 1079.61 Q181.339 1079.61 184.718 1082.78 Q188.098 1085.95 188.098 1091.37 Q188.098 1096.95 184.626 1100.05 Q181.153 1103.13 174.834 1103.13 Q172.658 1103.13 170.39 1102.76 Q168.144 1102.39 165.737 1101.65 L165.737 1096.95 Q167.82 1098.08 170.042 1098.64 Q172.265 1099.19 174.741 1099.19 Q178.746 1099.19 181.084 1097.09 Q183.422 1094.98 183.422 1091.37 Q183.422 1087.76 181.084 1085.65 Q178.746 1083.55 174.741 1083.55 Q172.866 1083.55 170.991 1083.96 Q169.14 1084.38 167.195 1085.26 L167.195 1067.9 Z\" fill=\"#000000\" fill-rule=\"nonzero\" fill-opacity=\"1\" /><path clip-path=\"url(#clip200)\" d=\"M100.76 730.829 Q97.1493 730.829 95.3206 734.394 Q93.515 737.935 93.515 745.065 Q93.515 752.171 95.3206 755.736 Q97.1493 759.278 100.76 759.278 Q104.395 759.278 106.2 755.736 Q108.029 752.171 108.029 745.065 Q108.029 737.935 106.2 734.394 Q104.395 730.829 100.76 730.829 M100.76 727.125 Q106.571 727.125 109.626 731.731 Q112.705 736.315 112.705 745.065 Q112.705 753.792 109.626 758.398 Q106.571 762.981 100.76 762.981 Q94.9502 762.981 91.8715 758.398 Q88.816 753.792 88.816 745.065 Q88.816 736.315 91.8715 731.731 Q94.9502 727.125 100.76 727.125 Z\" fill=\"#000000\" fill-rule=\"nonzero\" fill-opacity=\"1\" /><path clip-path=\"url(#clip200)\" d=\"M120.922 756.43 L125.807 756.43 L125.807 762.31 L120.922 762.31 L120.922 756.43 Z\" fill=\"#000000\" fill-rule=\"nonzero\" fill-opacity=\"1\" /><path clip-path=\"url(#clip200)\" d=\"M145.992 730.829 Q142.381 730.829 140.552 734.394 Q138.746 737.935 138.746 745.065 Q138.746 752.171 140.552 755.736 Q142.381 759.278 145.992 759.278 Q149.626 759.278 151.431 755.736 Q153.26 752.171 153.26 745.065 Q153.26 737.935 151.431 734.394 Q149.626 730.829 145.992 730.829 M145.992 727.125 Q151.802 727.125 154.857 731.731 Q157.936 736.315 157.936 745.065 Q157.936 753.792 154.857 758.398 Q151.802 762.981 145.992 762.981 Q140.181 762.981 137.103 758.398 Q134.047 753.792 134.047 745.065 Q134.047 736.315 137.103 731.731 Q140.181 727.125 145.992 727.125 Z\" fill=\"#000000\" fill-rule=\"nonzero\" fill-opacity=\"1\" /><path clip-path=\"url(#clip200)\" d=\"M176.153 730.829 Q172.542 730.829 170.714 734.394 Q168.908 737.935 168.908 745.065 Q168.908 752.171 170.714 755.736 Q172.542 759.278 176.153 759.278 Q179.788 759.278 181.593 755.736 Q183.422 752.171 183.422 745.065 Q183.422 737.935 181.593 734.394 Q179.788 730.829 176.153 730.829 M176.153 727.125 Q181.964 727.125 185.019 731.731 Q188.098 736.315 188.098 745.065 Q188.098 753.792 185.019 758.398 Q181.964 762.981 176.153 762.981 Q170.343 762.981 167.265 758.398 Q164.209 753.792 164.209 745.065 Q164.209 736.315 167.265 731.731 Q170.343 727.125 176.153 727.125 Z\" fill=\"#000000\" fill-rule=\"nonzero\" fill-opacity=\"1\" /><path clip-path=\"url(#clip200)\" d=\"M101.756 390.682 Q98.1447 390.682 96.316 394.246 Q94.5104 397.788 94.5104 404.918 Q94.5104 412.024 96.316 415.589 Q98.1447 419.131 101.756 419.131 Q105.39 419.131 107.196 415.589 Q109.024 412.024 109.024 404.918 Q109.024 397.788 107.196 394.246 Q105.39 390.682 101.756 390.682 M101.756 386.978 Q107.566 386.978 110.621 391.584 Q113.7 396.168 113.7 404.918 Q113.7 413.644 110.621 418.251 Q107.566 422.834 101.756 422.834 Q95.9456 422.834 92.8669 418.251 Q89.8114 413.644 89.8114 404.918 Q89.8114 396.168 92.8669 391.584 Q95.9456 386.978 101.756 386.978 Z\" fill=\"#000000\" fill-rule=\"nonzero\" fill-opacity=\"1\" /><path clip-path=\"url(#clip200)\" d=\"M121.918 416.283 L126.802 416.283 L126.802 422.163 L121.918 422.163 L121.918 416.283 Z\" fill=\"#000000\" fill-rule=\"nonzero\" fill-opacity=\"1\" /><path clip-path=\"url(#clip200)\" d=\"M146.987 390.682 Q143.376 390.682 141.547 394.246 Q139.742 397.788 139.742 404.918 Q139.742 412.024 141.547 415.589 Q143.376 419.131 146.987 419.131 Q150.621 419.131 152.427 415.589 Q154.255 412.024 154.255 404.918 Q154.255 397.788 152.427 394.246 Q150.621 390.682 146.987 390.682 M146.987 386.978 Q152.797 386.978 155.853 391.584 Q158.931 396.168 158.931 404.918 Q158.931 413.644 155.853 418.251 Q152.797 422.834 146.987 422.834 Q141.177 422.834 138.098 418.251 Q135.043 413.644 135.043 404.918 Q135.043 396.168 138.098 391.584 Q141.177 386.978 146.987 386.978 Z\" fill=\"#000000\" fill-rule=\"nonzero\" fill-opacity=\"1\" /><path clip-path=\"url(#clip200)\" d=\"M167.195 387.603 L185.552 387.603 L185.552 391.538 L171.478 391.538 L171.478 400.01 Q172.496 399.663 173.515 399.501 Q174.533 399.316 175.552 399.316 Q181.339 399.316 184.718 402.487 Q188.098 405.658 188.098 411.075 Q188.098 416.654 184.626 419.756 Q181.153 422.834 174.834 422.834 Q172.658 422.834 170.39 422.464 Q168.144 422.094 165.737 421.353 L165.737 416.654 Q167.82 417.788 170.042 418.344 Q172.265 418.899 174.741 418.899 Q178.746 418.899 181.084 416.793 Q183.422 414.686 183.422 411.075 Q183.422 407.464 181.084 405.357 Q178.746 403.251 174.741 403.251 Q172.866 403.251 170.991 403.668 Q169.14 404.084 167.195 404.964 L167.195 387.603 Z\" fill=\"#000000\" fill-rule=\"nonzero\" fill-opacity=\"1\" /><path clip-path=\"url(#clip200)\" d=\"M100.76 50.5346 Q97.1493 50.5346 95.3206 54.0994 Q93.515 57.641 93.515 64.7706 Q93.515 71.877 95.3206 75.4418 Q97.1493 78.9835 100.76 78.9835 Q104.395 78.9835 106.2 75.4418 Q108.029 71.877 108.029 64.7706 Q108.029 57.641 106.2 54.0994 Q104.395 50.5346 100.76 50.5346 M100.76 46.8309 Q106.571 46.8309 109.626 51.4373 Q112.705 56.0206 112.705 64.7706 Q112.705 73.4974 109.626 78.1039 Q106.571 82.6872 100.76 82.6872 Q94.9502 82.6872 91.8715 78.1039 Q88.816 73.4974 88.816 64.7706 Q88.816 56.0206 91.8715 51.4373 Q94.9502 46.8309 100.76 46.8309 Z\" fill=\"#000000\" fill-rule=\"nonzero\" fill-opacity=\"1\" /><path clip-path=\"url(#clip200)\" d=\"M120.922 76.1363 L125.807 76.1363 L125.807 82.0159 L120.922 82.0159 L120.922 76.1363 Z\" fill=\"#000000\" fill-rule=\"nonzero\" fill-opacity=\"1\" /><path clip-path=\"url(#clip200)\" d=\"M136.802 78.0807 L144.441 78.0807 L144.441 51.7151 L136.131 53.3818 L136.131 49.1225 L144.394 47.4559 L149.07 47.4559 L149.07 78.0807 L156.709 78.0807 L156.709 82.0159 L136.802 82.0159 L136.802 78.0807 Z\" fill=\"#000000\" fill-rule=\"nonzero\" fill-opacity=\"1\" /><path clip-path=\"url(#clip200)\" d=\"M176.153 50.5346 Q172.542 50.5346 170.714 54.0994 Q168.908 57.641 168.908 64.7706 Q168.908 71.877 170.714 75.4418 Q172.542 78.9835 176.153 78.9835 Q179.788 78.9835 181.593 75.4418 Q183.422 71.877 183.422 64.7706 Q183.422 57.641 181.593 54.0994 Q179.788 50.5346 176.153 50.5346 M176.153 46.8309 Q181.964 46.8309 185.019 51.4373 Q188.098 56.0206 188.098 64.7706 Q188.098 73.4974 185.019 78.1039 Q181.964 82.6872 176.153 82.6872 Q170.343 82.6872 167.265 78.1039 Q164.209 73.4974 164.209 64.7706 Q164.209 56.0206 167.265 51.4373 Q170.343 46.8309 176.153 46.8309 Z\" fill=\"#000000\" fill-rule=\"nonzero\" fill-opacity=\"1\" /><polyline clip-path=\"url(#clip202)\" style=\"stroke:#009af9; stroke-linecap:round; stroke-linejoin:round; stroke-width:4; stroke-opacity:1; fill:none\" points=\"284.343,745.03 294.434,745.03 304.526,745.03 314.617,745.03 324.708,745.03 334.799,745.03 344.891,745.03 354.982,745.03 365.073,745.03 375.165,745.03 385.256,745.027 395.347,745.012 405.438,744.949 415.53,744.715 425.621,743.999 435.712,742.142 445.804,738.068 455.895,730.553 465.986,719.101 476.078,705.288 486.169,693.727 496.26,691.282 506.351,703.856 516.443,731.978 526.534,768.306 536.625,799.647 546.717,812.88 556.808,801.06 566.899,766.654 576.991,721.489 587.082,683.265 597.173,667.887 607.264,681.04 617.356,715.95 627.447,757.839 637.538,788.527 647.63,790.948 657.721,758.146 667.812,700.214 677.903,639.496 687.995,600.473 698.086,603.583 708.177,657.908 718.269,751.477 728.36,851.3 738.451,917.192 748.543,920.23 758.634,855.947 768.725,745.975 778.816,629.826 788.908,552.202 798.999,544.779 809.09,609.229 819.182,717.438 829.273,825.756 839.364,889.822 849.456,880.179 859.547,796.094 869.638,667.477 879.729,544.982 889.821,482.132 899.912,513.027 910.003,635.888 920.095,811.378 930.186,975.443 940.277,1060.97 950.368,1024.82 960.46,872.968 970.551,662.87 980.642,476.208 990.734,384.258 1000.82,422.173 1010.92,575.529 1021.01,783.994 1031.1,962.354 1041.19,1036.38 1051.28,977.334 1061.37,809.277 1071.46,595.158 1081.56,419.555 1091.65,359.4 1101.74,447.546 1111.83,656.969 1121.92,911.868 1132.01,1114.35 1142.1,1180.62 1152.19,1075.72 1162.29,831.175 1172.38,537.95 1182.47,311.922 1192.56,243.306 1202.65,358.818 1212.74,612.553 1222.83,904.54 1232.92,1120.74 1243.02,1176.7 1253.11,1048.99 1263.2,786.854 1273.29,495.267 1283.38,291.805 1293.47,258.026 1303.56,411.306 1313.66,700.874 1323.75,1018.55 1333.84,1235.43 1343.93,1260.34 1354.02,1079.24 1364.11,756.94 1374.2,414.243 1384.29,186.244 1394.39,167 1404.48,366.362 1414.57,704.265 1424.66,1046.16 1434.75,1260.74 1444.84,1267.72 1454.93,1064.11 1465.02,729.316 1475.12,395.046 1485.21,190.54 1495.3,195.321 1505.39,410.061 1515.48,754.272 1525.57,1096.55 1535.66,1304.65 1545.75,1295.5 1555.85,1066.81 1565.94,702.567 1576.03,345.41 1586.12,137.901 1596.21,162.115 1606.3,409.121 1616.39,784.725 1626.49,1143.28 1636.58,1342.68 1646.67,1305.16 1656.76,1049.75 1666.85,676.985 1676.94,326.183 1687.03,128.892 1697.12,162.319 1707.22,414.588 1717.31,788.022 1727.4,1141.38 1737.49,1342.99 1747.58,1316.47 1757.67,1070.97 1767.76,700.083 1777.85,346.803 1787.95,148.965 1798.04,184.387 1808.13,439.651 1818.22,815.034 1828.31,1163.81 1838.4,1351.84 1848.49,1308.14 1858.59,1047.9 1868.68,667.68 1878.77,312.074 1888.86,115.414 1898.95,147.793 1909.04,396.693 1919.13,775.495 1929.22,1146.79 1939.32,1370.15 1949.41,1361.94 1959.5,1129.85 1969.59,763.21 1979.68,397.153 1989.77,169.33 1999.86,170.018 2009.95,400.315 2020.05,767.255 2030.14,1126.7 2040.23,1343.15 2050.32,1333 2060.41,1094.9 2070.5,717.631 2080.59,344.244 2090.68,113.731 2100.78,113.055 2110.87,347.322 2120.96,734.509 2131.05,1135.35 2141.14,1405.52 2151.23,1445.72 2161.32,1238.35 2171.42,858.115 2181.51,446.327 2191.6,156.606 2201.69,95.8668 2211.78,286.946 2221.87,659.95 2231.96,1073.06 2242.05,1364.01 2252.15,1416.73 2262.24,1210.65 2272.33,822.415 2282.42,393.499 2292.51,87.9763 \"/>\n",
       "<path clip-path=\"url(#clip200)\" d=\"M295.053 198.898 L560.349 198.898 L560.349 95.2176 L295.053 95.2176  Z\" fill=\"#ffffff\" fill-rule=\"evenodd\" fill-opacity=\"1\"/>\n",
       "<polyline clip-path=\"url(#clip200)\" style=\"stroke:#000000; stroke-linecap:round; stroke-linejoin:round; stroke-width:4; stroke-opacity:1; fill:none\" points=\"295.053,198.898 560.349,198.898 560.349,95.2176 295.053,95.2176 295.053,198.898 \"/>\n",
       "<polyline clip-path=\"url(#clip200)\" style=\"stroke:#009af9; stroke-linecap:round; stroke-linejoin:round; stroke-width:4; stroke-opacity:1; fill:none\" points=\"318.705,147.058 460.615,147.058 \"/>\n",
       "<path clip-path=\"url(#clip200)\" d=\"M498.11 166.745 Q496.304 171.375 494.591 172.787 Q492.878 174.199 490.008 174.199 L486.605 174.199 L486.605 170.634 L489.105 170.634 Q490.864 170.634 491.837 169.8 Q492.809 168.967 493.989 165.865 L494.753 163.921 L484.267 138.412 L488.781 138.412 L496.883 158.689 L504.985 138.412 L509.499 138.412 L498.11 166.745 Z\" fill=\"#000000\" fill-rule=\"nonzero\" fill-opacity=\"1\" /><path clip-path=\"url(#clip200)\" d=\"M516.79 160.402 L524.429 160.402 L524.429 134.037 L516.119 135.703 L516.119 131.444 L524.383 129.778 L529.059 129.778 L529.059 160.402 L536.697 160.402 L536.697 164.338 L516.79 164.338 L516.79 160.402 Z\" fill=\"#000000\" fill-rule=\"nonzero\" fill-opacity=\"1\" /></svg>\n"
      ],
      "text/html": [
       "<?xml version=\"1.0\" encoding=\"utf-8\"?>\n",
       "<svg xmlns=\"http://www.w3.org/2000/svg\" xmlns:xlink=\"http://www.w3.org/1999/xlink\" width=\"600\" height=\"400\" viewBox=\"0 0 2400 1600\">\n",
       "<defs>\n",
       "  <clipPath id=\"clip250\">\n",
       "    <rect x=\"0\" y=\"0\" width=\"2400\" height=\"1600\"/>\n",
       "  </clipPath>\n",
       "</defs>\n",
       "<path clip-path=\"url(#clip250)\" d=\"M0 1600 L2400 1600 L2400 0 L0 0  Z\" fill=\"#ffffff\" fill-rule=\"evenodd\" fill-opacity=\"1\"/>\n",
       "<defs>\n",
       "  <clipPath id=\"clip251\">\n",
       "    <rect x=\"480\" y=\"0\" width=\"1681\" height=\"1600\"/>\n",
       "  </clipPath>\n",
       "</defs>\n",
       "<path clip-path=\"url(#clip250)\" d=\"M224.098 1486.45 L2352.76 1486.45 L2352.76 47.2441 L224.098 47.2441  Z\" fill=\"#ffffff\" fill-rule=\"evenodd\" fill-opacity=\"1\"/>\n",
       "<defs>\n",
       "  <clipPath id=\"clip252\">\n",
       "    <rect x=\"224\" y=\"47\" width=\"2130\" height=\"1440\"/>\n",
       "  </clipPath>\n",
       "</defs>\n",
       "<polyline clip-path=\"url(#clip252)\" style=\"stroke:#000000; stroke-linecap:round; stroke-linejoin:round; stroke-width:2; stroke-opacity:0.1; fill:none\" points=\"274.252,1486.45 274.252,47.2441 \"/>\n",
       "<polyline clip-path=\"url(#clip252)\" style=\"stroke:#000000; stroke-linecap:round; stroke-linejoin:round; stroke-width:2; stroke-opacity:0.1; fill:none\" points=\"778.816,1486.45 778.816,47.2441 \"/>\n",
       "<polyline clip-path=\"url(#clip252)\" style=\"stroke:#000000; stroke-linecap:round; stroke-linejoin:round; stroke-width:2; stroke-opacity:0.1; fill:none\" points=\"1283.38,1486.45 1283.38,47.2441 \"/>\n",
       "<polyline clip-path=\"url(#clip252)\" style=\"stroke:#000000; stroke-linecap:round; stroke-linejoin:round; stroke-width:2; stroke-opacity:0.1; fill:none\" points=\"1787.95,1486.45 1787.95,47.2441 \"/>\n",
       "<polyline clip-path=\"url(#clip252)\" style=\"stroke:#000000; stroke-linecap:round; stroke-linejoin:round; stroke-width:2; stroke-opacity:0.1; fill:none\" points=\"2292.51,1486.45 2292.51,47.2441 \"/>\n",
       "<polyline clip-path=\"url(#clip250)\" style=\"stroke:#000000; stroke-linecap:round; stroke-linejoin:round; stroke-width:4; stroke-opacity:1; fill:none\" points=\"224.098,1486.45 2352.76,1486.45 \"/>\n",
       "<polyline clip-path=\"url(#clip250)\" style=\"stroke:#000000; stroke-linecap:round; stroke-linejoin:round; stroke-width:4; stroke-opacity:1; fill:none\" points=\"274.252,1486.45 274.252,1467.55 \"/>\n",
       "<polyline clip-path=\"url(#clip250)\" style=\"stroke:#000000; stroke-linecap:round; stroke-linejoin:round; stroke-width:4; stroke-opacity:1; fill:none\" points=\"778.816,1486.45 778.816,1467.55 \"/>\n",
       "<polyline clip-path=\"url(#clip250)\" style=\"stroke:#000000; stroke-linecap:round; stroke-linejoin:round; stroke-width:4; stroke-opacity:1; fill:none\" points=\"1283.38,1486.45 1283.38,1467.55 \"/>\n",
       "<polyline clip-path=\"url(#clip250)\" style=\"stroke:#000000; stroke-linecap:round; stroke-linejoin:round; stroke-width:4; stroke-opacity:1; fill:none\" points=\"1787.95,1486.45 1787.95,1467.55 \"/>\n",
       "<polyline clip-path=\"url(#clip250)\" style=\"stroke:#000000; stroke-linecap:round; stroke-linejoin:round; stroke-width:4; stroke-opacity:1; fill:none\" points=\"2292.51,1486.45 2292.51,1467.55 \"/>\n",
       "<path clip-path=\"url(#clip250)\" d=\"M251.636 1517.37 Q248.025 1517.37 246.196 1520.93 Q244.391 1524.47 244.391 1531.6 Q244.391 1538.71 246.196 1542.27 Q248.025 1545.82 251.636 1545.82 Q255.27 1545.82 257.076 1542.27 Q258.904 1538.71 258.904 1531.6 Q258.904 1524.47 257.076 1520.93 Q255.27 1517.37 251.636 1517.37 M251.636 1513.66 Q257.446 1513.66 260.502 1518.27 Q263.58 1522.85 263.58 1531.6 Q263.58 1540.33 260.502 1544.94 Q257.446 1549.52 251.636 1549.52 Q245.826 1549.52 242.747 1544.94 Q239.692 1540.33 239.692 1531.6 Q239.692 1522.85 242.747 1518.27 Q245.826 1513.66 251.636 1513.66 Z\" fill=\"#000000\" fill-rule=\"nonzero\" fill-opacity=\"1\" /><path clip-path=\"url(#clip250)\" d=\"M271.798 1542.97 L276.682 1542.97 L276.682 1548.85 L271.798 1548.85 L271.798 1542.97 Z\" fill=\"#000000\" fill-rule=\"nonzero\" fill-opacity=\"1\" /><path clip-path=\"url(#clip250)\" d=\"M296.867 1517.37 Q293.256 1517.37 291.427 1520.93 Q289.622 1524.47 289.622 1531.6 Q289.622 1538.71 291.427 1542.27 Q293.256 1545.82 296.867 1545.82 Q300.501 1545.82 302.307 1542.27 Q304.136 1538.71 304.136 1531.6 Q304.136 1524.47 302.307 1520.93 Q300.501 1517.37 296.867 1517.37 M296.867 1513.66 Q302.677 1513.66 305.733 1518.27 Q308.812 1522.85 308.812 1531.6 Q308.812 1540.33 305.733 1544.94 Q302.677 1549.52 296.867 1549.52 Q291.057 1549.52 287.978 1544.94 Q284.923 1540.33 284.923 1531.6 Q284.923 1522.85 287.978 1518.27 Q291.057 1513.66 296.867 1513.66 Z\" fill=\"#000000\" fill-rule=\"nonzero\" fill-opacity=\"1\" /><path clip-path=\"url(#clip250)\" d=\"M750.553 1544.91 L766.872 1544.91 L766.872 1548.85 L744.928 1548.85 L744.928 1544.91 Q747.59 1542.16 752.173 1537.53 Q756.78 1532.88 757.96 1531.53 Q760.205 1529.01 761.085 1527.27 Q761.988 1525.51 761.988 1523.82 Q761.988 1521.07 760.043 1519.33 Q758.122 1517.6 755.02 1517.6 Q752.821 1517.6 750.368 1518.36 Q747.937 1519.13 745.159 1520.68 L745.159 1515.95 Q747.983 1514.82 750.437 1514.24 Q752.891 1513.66 754.928 1513.66 Q760.298 1513.66 763.492 1516.35 Q766.687 1519.03 766.687 1523.52 Q766.687 1525.65 765.877 1527.57 Q765.09 1529.47 762.983 1532.07 Q762.404 1532.74 759.303 1535.95 Q756.201 1539.15 750.553 1544.91 Z\" fill=\"#000000\" fill-rule=\"nonzero\" fill-opacity=\"1\" /><path clip-path=\"url(#clip250)\" d=\"M776.687 1542.97 L781.571 1542.97 L781.571 1548.85 L776.687 1548.85 L776.687 1542.97 Z\" fill=\"#000000\" fill-rule=\"nonzero\" fill-opacity=\"1\" /><path clip-path=\"url(#clip250)\" d=\"M791.802 1514.29 L810.159 1514.29 L810.159 1518.22 L796.085 1518.22 L796.085 1526.7 Q797.103 1526.35 798.122 1526.19 Q799.14 1526 800.159 1526 Q805.946 1526 809.326 1529.17 Q812.705 1532.34 812.705 1537.76 Q812.705 1543.34 809.233 1546.44 Q805.761 1549.52 799.441 1549.52 Q797.265 1549.52 794.997 1549.15 Q792.752 1548.78 790.344 1548.04 L790.344 1543.34 Q792.427 1544.47 794.65 1545.03 Q796.872 1545.58 799.349 1545.58 Q803.353 1545.58 805.691 1543.48 Q808.029 1541.37 808.029 1537.76 Q808.029 1534.15 805.691 1532.04 Q803.353 1529.94 799.349 1529.94 Q797.474 1529.94 795.599 1530.35 Q793.747 1530.77 791.802 1531.65 L791.802 1514.29 Z\" fill=\"#000000\" fill-rule=\"nonzero\" fill-opacity=\"1\" /><path clip-path=\"url(#clip250)\" d=\"M1250.55 1514.29 L1268.9 1514.29 L1268.9 1518.22 L1254.83 1518.22 L1254.83 1526.7 Q1255.85 1526.35 1256.87 1526.19 Q1257.88 1526 1258.9 1526 Q1264.69 1526 1268.07 1529.17 Q1271.45 1532.34 1271.45 1537.76 Q1271.45 1543.34 1267.98 1546.44 Q1264.5 1549.52 1258.18 1549.52 Q1256.01 1549.52 1253.74 1549.15 Q1251.49 1548.78 1249.09 1548.04 L1249.09 1543.34 Q1251.17 1544.47 1253.39 1545.03 Q1255.62 1545.58 1258.09 1545.58 Q1262.1 1545.58 1264.43 1543.48 Q1266.77 1541.37 1266.77 1537.76 Q1266.77 1534.15 1264.43 1532.04 Q1262.1 1529.94 1258.09 1529.94 Q1256.22 1529.94 1254.34 1530.35 Q1252.49 1530.77 1250.55 1531.65 L1250.55 1514.29 Z\" fill=\"#000000\" fill-rule=\"nonzero\" fill-opacity=\"1\" /><path clip-path=\"url(#clip250)\" d=\"M1280.66 1542.97 L1285.55 1542.97 L1285.55 1548.85 L1280.66 1548.85 L1280.66 1542.97 Z\" fill=\"#000000\" fill-rule=\"nonzero\" fill-opacity=\"1\" /><path clip-path=\"url(#clip250)\" d=\"M1305.73 1517.37 Q1302.12 1517.37 1300.29 1520.93 Q1298.49 1524.47 1298.49 1531.6 Q1298.49 1538.71 1300.29 1542.27 Q1302.12 1545.82 1305.73 1545.82 Q1309.36 1545.82 1311.17 1542.27 Q1313 1538.71 1313 1531.6 Q1313 1524.47 1311.17 1520.93 Q1309.36 1517.37 1305.73 1517.37 M1305.73 1513.66 Q1311.54 1513.66 1314.6 1518.27 Q1317.68 1522.85 1317.68 1531.6 Q1317.68 1540.33 1314.6 1544.94 Q1311.54 1549.52 1305.73 1549.52 Q1299.92 1549.52 1296.84 1544.94 Q1293.79 1540.33 1293.79 1531.6 Q1293.79 1522.85 1296.84 1518.27 Q1299.92 1513.66 1305.73 1513.66 Z\" fill=\"#000000\" fill-rule=\"nonzero\" fill-opacity=\"1\" /><path clip-path=\"url(#clip250)\" d=\"M1754.27 1514.29 L1776.49 1514.29 L1776.49 1516.28 L1763.94 1548.85 L1759.06 1548.85 L1770.86 1518.22 L1754.27 1518.22 L1754.27 1514.29 Z\" fill=\"#000000\" fill-rule=\"nonzero\" fill-opacity=\"1\" /><path clip-path=\"url(#clip250)\" d=\"M1785.61 1542.97 L1790.49 1542.97 L1790.49 1548.85 L1785.61 1548.85 L1785.61 1542.97 Z\" fill=\"#000000\" fill-rule=\"nonzero\" fill-opacity=\"1\" /><path clip-path=\"url(#clip250)\" d=\"M1800.72 1514.29 L1819.08 1514.29 L1819.08 1518.22 L1805.01 1518.22 L1805.01 1526.7 Q1806.02 1526.35 1807.04 1526.19 Q1808.06 1526 1809.08 1526 Q1814.87 1526 1818.25 1529.17 Q1821.63 1532.34 1821.63 1537.76 Q1821.63 1543.34 1818.15 1546.44 Q1814.68 1549.52 1808.36 1549.52 Q1806.19 1549.52 1803.92 1549.15 Q1801.67 1548.78 1799.27 1548.04 L1799.27 1543.34 Q1801.35 1544.47 1803.57 1545.03 Q1805.79 1545.58 1808.27 1545.58 Q1812.27 1545.58 1814.61 1543.48 Q1816.95 1541.37 1816.95 1537.76 Q1816.95 1534.15 1814.61 1532.04 Q1812.27 1529.94 1808.27 1529.94 Q1806.4 1529.94 1804.52 1530.35 Q1802.67 1530.77 1800.72 1531.65 L1800.72 1514.29 Z\" fill=\"#000000\" fill-rule=\"nonzero\" fill-opacity=\"1\" /><path clip-path=\"url(#clip250)\" d=\"M2244.58 1544.91 L2252.22 1544.91 L2252.22 1518.55 L2243.91 1520.21 L2243.91 1515.95 L2252.18 1514.29 L2256.85 1514.29 L2256.85 1544.91 L2264.49 1544.91 L2264.49 1548.85 L2244.58 1548.85 L2244.58 1544.91 Z\" fill=\"#000000\" fill-rule=\"nonzero\" fill-opacity=\"1\" /><path clip-path=\"url(#clip250)\" d=\"M2283.93 1517.37 Q2280.32 1517.37 2278.49 1520.93 Q2276.69 1524.47 2276.69 1531.6 Q2276.69 1538.71 2278.49 1542.27 Q2280.32 1545.82 2283.93 1545.82 Q2287.57 1545.82 2289.37 1542.27 Q2291.2 1538.71 2291.2 1531.6 Q2291.2 1524.47 2289.37 1520.93 Q2287.57 1517.37 2283.93 1517.37 M2283.93 1513.66 Q2289.74 1513.66 2292.8 1518.27 Q2295.88 1522.85 2295.88 1531.6 Q2295.88 1540.33 2292.8 1544.94 Q2289.74 1549.52 2283.93 1549.52 Q2278.12 1549.52 2275.05 1544.94 Q2271.99 1540.33 2271.99 1531.6 Q2271.99 1522.85 2275.05 1518.27 Q2278.12 1513.66 2283.93 1513.66 Z\" fill=\"#000000\" fill-rule=\"nonzero\" fill-opacity=\"1\" /><path clip-path=\"url(#clip250)\" d=\"M2304.1 1542.97 L2308.98 1542.97 L2308.98 1548.85 L2304.1 1548.85 L2304.1 1542.97 Z\" fill=\"#000000\" fill-rule=\"nonzero\" fill-opacity=\"1\" /><path clip-path=\"url(#clip250)\" d=\"M2329.17 1517.37 Q2325.55 1517.37 2323.73 1520.93 Q2321.92 1524.47 2321.92 1531.6 Q2321.92 1538.71 2323.73 1542.27 Q2325.55 1545.82 2329.17 1545.82 Q2332.8 1545.82 2334.61 1542.27 Q2336.43 1538.71 2336.43 1531.6 Q2336.43 1524.47 2334.61 1520.93 Q2332.8 1517.37 2329.17 1517.37 M2329.17 1513.66 Q2334.98 1513.66 2338.03 1518.27 Q2341.11 1522.85 2341.11 1531.6 Q2341.11 1540.33 2338.03 1544.94 Q2334.98 1549.52 2329.17 1549.52 Q2323.36 1549.52 2320.28 1544.94 Q2317.22 1540.33 2317.22 1531.6 Q2317.22 1522.85 2320.28 1518.27 Q2323.36 1513.66 2329.17 1513.66 Z\" fill=\"#000000\" fill-rule=\"nonzero\" fill-opacity=\"1\" /><polyline clip-path=\"url(#clip252)\" style=\"stroke:#000000; stroke-linecap:round; stroke-linejoin:round; stroke-width:2; stroke-opacity:0.1; fill:none\" points=\"224.098,1425.32 2352.76,1425.32 \"/>\n",
       "<polyline clip-path=\"url(#clip252)\" style=\"stroke:#000000; stroke-linecap:round; stroke-linejoin:round; stroke-width:2; stroke-opacity:0.1; fill:none\" points=\"224.098,1085.18 2352.76,1085.18 \"/>\n",
       "<polyline clip-path=\"url(#clip252)\" style=\"stroke:#000000; stroke-linecap:round; stroke-linejoin:round; stroke-width:2; stroke-opacity:0.1; fill:none\" points=\"224.098,745.03 2352.76,745.03 \"/>\n",
       "<polyline clip-path=\"url(#clip252)\" style=\"stroke:#000000; stroke-linecap:round; stroke-linejoin:round; stroke-width:2; stroke-opacity:0.1; fill:none\" points=\"224.098,404.883 2352.76,404.883 \"/>\n",
       "<polyline clip-path=\"url(#clip252)\" style=\"stroke:#000000; stroke-linecap:round; stroke-linejoin:round; stroke-width:2; stroke-opacity:0.1; fill:none\" points=\"224.098,64.7359 2352.76,64.7359 \"/>\n",
       "<polyline clip-path=\"url(#clip250)\" style=\"stroke:#000000; stroke-linecap:round; stroke-linejoin:round; stroke-width:4; stroke-opacity:1; fill:none\" points=\"224.098,1486.45 224.098,47.2441 \"/>\n",
       "<polyline clip-path=\"url(#clip250)\" style=\"stroke:#000000; stroke-linecap:round; stroke-linejoin:round; stroke-width:4; stroke-opacity:1; fill:none\" points=\"224.098,1425.32 242.996,1425.32 \"/>\n",
       "<polyline clip-path=\"url(#clip250)\" style=\"stroke:#000000; stroke-linecap:round; stroke-linejoin:round; stroke-width:4; stroke-opacity:1; fill:none\" points=\"224.098,1085.18 242.996,1085.18 \"/>\n",
       "<polyline clip-path=\"url(#clip250)\" style=\"stroke:#000000; stroke-linecap:round; stroke-linejoin:round; stroke-width:4; stroke-opacity:1; fill:none\" points=\"224.098,745.03 242.996,745.03 \"/>\n",
       "<polyline clip-path=\"url(#clip250)\" style=\"stroke:#000000; stroke-linecap:round; stroke-linejoin:round; stroke-width:4; stroke-opacity:1; fill:none\" points=\"224.098,404.883 242.996,404.883 \"/>\n",
       "<polyline clip-path=\"url(#clip250)\" style=\"stroke:#000000; stroke-linecap:round; stroke-linejoin:round; stroke-width:4; stroke-opacity:1; fill:none\" points=\"224.098,64.7359 242.996,64.7359 \"/>\n",
       "<path clip-path=\"url(#clip250)\" d=\"M50.9921 1425.78 L80.6679 1425.78 L80.6679 1429.71 L50.9921 1429.71 L50.9921 1425.78 Z\" fill=\"#000000\" fill-rule=\"nonzero\" fill-opacity=\"1\" /><path clip-path=\"url(#clip250)\" d=\"M100.76 1411.12 Q97.1493 1411.12 95.3206 1414.69 Q93.515 1418.23 93.515 1425.36 Q93.515 1432.47 95.3206 1436.03 Q97.1493 1439.57 100.76 1439.57 Q104.395 1439.57 106.2 1436.03 Q108.029 1432.47 108.029 1425.36 Q108.029 1418.23 106.2 1414.69 Q104.395 1411.12 100.76 1411.12 M100.76 1407.42 Q106.571 1407.42 109.626 1412.03 Q112.705 1416.61 112.705 1425.36 Q112.705 1434.09 109.626 1438.69 Q106.571 1443.28 100.76 1443.28 Q94.9502 1443.28 91.8715 1438.69 Q88.816 1434.09 88.816 1425.36 Q88.816 1416.61 91.8715 1412.03 Q94.9502 1407.42 100.76 1407.42 Z\" fill=\"#000000\" fill-rule=\"nonzero\" fill-opacity=\"1\" /><path clip-path=\"url(#clip250)\" d=\"M120.922 1436.72 L125.807 1436.72 L125.807 1442.6 L120.922 1442.6 L120.922 1436.72 Z\" fill=\"#000000\" fill-rule=\"nonzero\" fill-opacity=\"1\" /><path clip-path=\"url(#clip250)\" d=\"M136.802 1438.67 L144.441 1438.67 L144.441 1412.3 L136.131 1413.97 L136.131 1409.71 L144.394 1408.04 L149.07 1408.04 L149.07 1438.67 L156.709 1438.67 L156.709 1442.6 L136.802 1442.6 L136.802 1438.67 Z\" fill=\"#000000\" fill-rule=\"nonzero\" fill-opacity=\"1\" /><path clip-path=\"url(#clip250)\" d=\"M176.153 1411.12 Q172.542 1411.12 170.714 1414.69 Q168.908 1418.23 168.908 1425.36 Q168.908 1432.47 170.714 1436.03 Q172.542 1439.57 176.153 1439.57 Q179.788 1439.57 181.593 1436.03 Q183.422 1432.47 183.422 1425.36 Q183.422 1418.23 181.593 1414.69 Q179.788 1411.12 176.153 1411.12 M176.153 1407.42 Q181.964 1407.42 185.019 1412.03 Q188.098 1416.61 188.098 1425.36 Q188.098 1434.09 185.019 1438.69 Q181.964 1443.28 176.153 1443.28 Q170.343 1443.28 167.265 1438.69 Q164.209 1434.09 164.209 1425.36 Q164.209 1416.61 167.265 1412.03 Q170.343 1407.42 176.153 1407.42 Z\" fill=\"#000000\" fill-rule=\"nonzero\" fill-opacity=\"1\" /><path clip-path=\"url(#clip250)\" d=\"M51.9875 1085.63 L81.6633 1085.63 L81.6633 1089.56 L51.9875 1089.56 L51.9875 1085.63 Z\" fill=\"#000000\" fill-rule=\"nonzero\" fill-opacity=\"1\" /><path clip-path=\"url(#clip250)\" d=\"M101.756 1070.98 Q98.1447 1070.98 96.316 1074.54 Q94.5104 1078.08 94.5104 1085.21 Q94.5104 1092.32 96.316 1095.88 Q98.1447 1099.42 101.756 1099.42 Q105.39 1099.42 107.196 1095.88 Q109.024 1092.32 109.024 1085.21 Q109.024 1078.08 107.196 1074.54 Q105.39 1070.98 101.756 1070.98 M101.756 1067.27 Q107.566 1067.27 110.621 1071.88 Q113.7 1076.46 113.7 1085.21 Q113.7 1093.94 110.621 1098.55 Q107.566 1103.13 101.756 1103.13 Q95.9456 1103.13 92.8669 1098.55 Q89.8114 1093.94 89.8114 1085.21 Q89.8114 1076.46 92.8669 1071.88 Q95.9456 1067.27 101.756 1067.27 Z\" fill=\"#000000\" fill-rule=\"nonzero\" fill-opacity=\"1\" /><path clip-path=\"url(#clip250)\" d=\"M121.918 1096.58 L126.802 1096.58 L126.802 1102.46 L121.918 1102.46 L121.918 1096.58 Z\" fill=\"#000000\" fill-rule=\"nonzero\" fill-opacity=\"1\" /><path clip-path=\"url(#clip250)\" d=\"M146.987 1070.98 Q143.376 1070.98 141.547 1074.54 Q139.742 1078.08 139.742 1085.21 Q139.742 1092.32 141.547 1095.88 Q143.376 1099.42 146.987 1099.42 Q150.621 1099.42 152.427 1095.88 Q154.255 1092.32 154.255 1085.21 Q154.255 1078.08 152.427 1074.54 Q150.621 1070.98 146.987 1070.98 M146.987 1067.27 Q152.797 1067.27 155.853 1071.88 Q158.931 1076.46 158.931 1085.21 Q158.931 1093.94 155.853 1098.55 Q152.797 1103.13 146.987 1103.13 Q141.177 1103.13 138.098 1098.55 Q135.043 1093.94 135.043 1085.21 Q135.043 1076.46 138.098 1071.88 Q141.177 1067.27 146.987 1067.27 Z\" fill=\"#000000\" fill-rule=\"nonzero\" fill-opacity=\"1\" /><path clip-path=\"url(#clip250)\" d=\"M167.195 1067.9 L185.552 1067.9 L185.552 1071.83 L171.478 1071.83 L171.478 1080.3 Q172.496 1079.96 173.515 1079.8 Q174.533 1079.61 175.552 1079.61 Q181.339 1079.61 184.718 1082.78 Q188.098 1085.95 188.098 1091.37 Q188.098 1096.95 184.626 1100.05 Q181.153 1103.13 174.834 1103.13 Q172.658 1103.13 170.39 1102.76 Q168.144 1102.39 165.737 1101.65 L165.737 1096.95 Q167.82 1098.08 170.042 1098.64 Q172.265 1099.19 174.741 1099.19 Q178.746 1099.19 181.084 1097.09 Q183.422 1094.98 183.422 1091.37 Q183.422 1087.76 181.084 1085.65 Q178.746 1083.55 174.741 1083.55 Q172.866 1083.55 170.991 1083.96 Q169.14 1084.38 167.195 1085.26 L167.195 1067.9 Z\" fill=\"#000000\" fill-rule=\"nonzero\" fill-opacity=\"1\" /><path clip-path=\"url(#clip250)\" d=\"M100.76 730.829 Q97.1493 730.829 95.3206 734.394 Q93.515 737.935 93.515 745.065 Q93.515 752.171 95.3206 755.736 Q97.1493 759.278 100.76 759.278 Q104.395 759.278 106.2 755.736 Q108.029 752.171 108.029 745.065 Q108.029 737.935 106.2 734.394 Q104.395 730.829 100.76 730.829 M100.76 727.125 Q106.571 727.125 109.626 731.731 Q112.705 736.315 112.705 745.065 Q112.705 753.792 109.626 758.398 Q106.571 762.981 100.76 762.981 Q94.9502 762.981 91.8715 758.398 Q88.816 753.792 88.816 745.065 Q88.816 736.315 91.8715 731.731 Q94.9502 727.125 100.76 727.125 Z\" fill=\"#000000\" fill-rule=\"nonzero\" fill-opacity=\"1\" /><path clip-path=\"url(#clip250)\" d=\"M120.922 756.43 L125.807 756.43 L125.807 762.31 L120.922 762.31 L120.922 756.43 Z\" fill=\"#000000\" fill-rule=\"nonzero\" fill-opacity=\"1\" /><path clip-path=\"url(#clip250)\" d=\"M145.992 730.829 Q142.381 730.829 140.552 734.394 Q138.746 737.935 138.746 745.065 Q138.746 752.171 140.552 755.736 Q142.381 759.278 145.992 759.278 Q149.626 759.278 151.431 755.736 Q153.26 752.171 153.26 745.065 Q153.26 737.935 151.431 734.394 Q149.626 730.829 145.992 730.829 M145.992 727.125 Q151.802 727.125 154.857 731.731 Q157.936 736.315 157.936 745.065 Q157.936 753.792 154.857 758.398 Q151.802 762.981 145.992 762.981 Q140.181 762.981 137.103 758.398 Q134.047 753.792 134.047 745.065 Q134.047 736.315 137.103 731.731 Q140.181 727.125 145.992 727.125 Z\" fill=\"#000000\" fill-rule=\"nonzero\" fill-opacity=\"1\" /><path clip-path=\"url(#clip250)\" d=\"M176.153 730.829 Q172.542 730.829 170.714 734.394 Q168.908 737.935 168.908 745.065 Q168.908 752.171 170.714 755.736 Q172.542 759.278 176.153 759.278 Q179.788 759.278 181.593 755.736 Q183.422 752.171 183.422 745.065 Q183.422 737.935 181.593 734.394 Q179.788 730.829 176.153 730.829 M176.153 727.125 Q181.964 727.125 185.019 731.731 Q188.098 736.315 188.098 745.065 Q188.098 753.792 185.019 758.398 Q181.964 762.981 176.153 762.981 Q170.343 762.981 167.265 758.398 Q164.209 753.792 164.209 745.065 Q164.209 736.315 167.265 731.731 Q170.343 727.125 176.153 727.125 Z\" fill=\"#000000\" fill-rule=\"nonzero\" fill-opacity=\"1\" /><path clip-path=\"url(#clip250)\" d=\"M101.756 390.682 Q98.1447 390.682 96.316 394.246 Q94.5104 397.788 94.5104 404.918 Q94.5104 412.024 96.316 415.589 Q98.1447 419.131 101.756 419.131 Q105.39 419.131 107.196 415.589 Q109.024 412.024 109.024 404.918 Q109.024 397.788 107.196 394.246 Q105.39 390.682 101.756 390.682 M101.756 386.978 Q107.566 386.978 110.621 391.584 Q113.7 396.168 113.7 404.918 Q113.7 413.644 110.621 418.251 Q107.566 422.834 101.756 422.834 Q95.9456 422.834 92.8669 418.251 Q89.8114 413.644 89.8114 404.918 Q89.8114 396.168 92.8669 391.584 Q95.9456 386.978 101.756 386.978 Z\" fill=\"#000000\" fill-rule=\"nonzero\" fill-opacity=\"1\" /><path clip-path=\"url(#clip250)\" d=\"M121.918 416.283 L126.802 416.283 L126.802 422.163 L121.918 422.163 L121.918 416.283 Z\" fill=\"#000000\" fill-rule=\"nonzero\" fill-opacity=\"1\" /><path clip-path=\"url(#clip250)\" d=\"M146.987 390.682 Q143.376 390.682 141.547 394.246 Q139.742 397.788 139.742 404.918 Q139.742 412.024 141.547 415.589 Q143.376 419.131 146.987 419.131 Q150.621 419.131 152.427 415.589 Q154.255 412.024 154.255 404.918 Q154.255 397.788 152.427 394.246 Q150.621 390.682 146.987 390.682 M146.987 386.978 Q152.797 386.978 155.853 391.584 Q158.931 396.168 158.931 404.918 Q158.931 413.644 155.853 418.251 Q152.797 422.834 146.987 422.834 Q141.177 422.834 138.098 418.251 Q135.043 413.644 135.043 404.918 Q135.043 396.168 138.098 391.584 Q141.177 386.978 146.987 386.978 Z\" fill=\"#000000\" fill-rule=\"nonzero\" fill-opacity=\"1\" /><path clip-path=\"url(#clip250)\" d=\"M167.195 387.603 L185.552 387.603 L185.552 391.538 L171.478 391.538 L171.478 400.01 Q172.496 399.663 173.515 399.501 Q174.533 399.316 175.552 399.316 Q181.339 399.316 184.718 402.487 Q188.098 405.658 188.098 411.075 Q188.098 416.654 184.626 419.756 Q181.153 422.834 174.834 422.834 Q172.658 422.834 170.39 422.464 Q168.144 422.094 165.737 421.353 L165.737 416.654 Q167.82 417.788 170.042 418.344 Q172.265 418.899 174.741 418.899 Q178.746 418.899 181.084 416.793 Q183.422 414.686 183.422 411.075 Q183.422 407.464 181.084 405.357 Q178.746 403.251 174.741 403.251 Q172.866 403.251 170.991 403.668 Q169.14 404.084 167.195 404.964 L167.195 387.603 Z\" fill=\"#000000\" fill-rule=\"nonzero\" fill-opacity=\"1\" /><path clip-path=\"url(#clip250)\" d=\"M100.76 50.5346 Q97.1493 50.5346 95.3206 54.0994 Q93.515 57.641 93.515 64.7706 Q93.515 71.877 95.3206 75.4418 Q97.1493 78.9835 100.76 78.9835 Q104.395 78.9835 106.2 75.4418 Q108.029 71.877 108.029 64.7706 Q108.029 57.641 106.2 54.0994 Q104.395 50.5346 100.76 50.5346 M100.76 46.8309 Q106.571 46.8309 109.626 51.4373 Q112.705 56.0206 112.705 64.7706 Q112.705 73.4974 109.626 78.1039 Q106.571 82.6872 100.76 82.6872 Q94.9502 82.6872 91.8715 78.1039 Q88.816 73.4974 88.816 64.7706 Q88.816 56.0206 91.8715 51.4373 Q94.9502 46.8309 100.76 46.8309 Z\" fill=\"#000000\" fill-rule=\"nonzero\" fill-opacity=\"1\" /><path clip-path=\"url(#clip250)\" d=\"M120.922 76.1363 L125.807 76.1363 L125.807 82.0159 L120.922 82.0159 L120.922 76.1363 Z\" fill=\"#000000\" fill-rule=\"nonzero\" fill-opacity=\"1\" /><path clip-path=\"url(#clip250)\" d=\"M136.802 78.0807 L144.441 78.0807 L144.441 51.7151 L136.131 53.3818 L136.131 49.1225 L144.394 47.4559 L149.07 47.4559 L149.07 78.0807 L156.709 78.0807 L156.709 82.0159 L136.802 82.0159 L136.802 78.0807 Z\" fill=\"#000000\" fill-rule=\"nonzero\" fill-opacity=\"1\" /><path clip-path=\"url(#clip250)\" d=\"M176.153 50.5346 Q172.542 50.5346 170.714 54.0994 Q168.908 57.641 168.908 64.7706 Q168.908 71.877 170.714 75.4418 Q172.542 78.9835 176.153 78.9835 Q179.788 78.9835 181.593 75.4418 Q183.422 71.877 183.422 64.7706 Q183.422 57.641 181.593 54.0994 Q179.788 50.5346 176.153 50.5346 M176.153 46.8309 Q181.964 46.8309 185.019 51.4373 Q188.098 56.0206 188.098 64.7706 Q188.098 73.4974 185.019 78.1039 Q181.964 82.6872 176.153 82.6872 Q170.343 82.6872 167.265 78.1039 Q164.209 73.4974 164.209 64.7706 Q164.209 56.0206 167.265 51.4373 Q170.343 46.8309 176.153 46.8309 Z\" fill=\"#000000\" fill-rule=\"nonzero\" fill-opacity=\"1\" /><polyline clip-path=\"url(#clip252)\" style=\"stroke:#009af9; stroke-linecap:round; stroke-linejoin:round; stroke-width:4; stroke-opacity:1; fill:none\" points=\"284.343,745.03 294.434,745.03 304.526,745.03 314.617,745.03 324.708,745.03 334.799,745.03 344.891,745.03 354.982,745.03 365.073,745.03 375.165,745.03 385.256,745.027 395.347,745.012 405.438,744.949 415.53,744.715 425.621,743.999 435.712,742.142 445.804,738.068 455.895,730.553 465.986,719.101 476.078,705.288 486.169,693.727 496.26,691.282 506.351,703.856 516.443,731.978 526.534,768.306 536.625,799.647 546.717,812.88 556.808,801.06 566.899,766.654 576.991,721.489 587.082,683.265 597.173,667.887 607.264,681.04 617.356,715.95 627.447,757.839 637.538,788.527 647.63,790.948 657.721,758.146 667.812,700.214 677.903,639.496 687.995,600.473 698.086,603.583 708.177,657.908 718.269,751.477 728.36,851.3 738.451,917.192 748.543,920.23 758.634,855.947 768.725,745.975 778.816,629.826 788.908,552.202 798.999,544.779 809.09,609.229 819.182,717.438 829.273,825.756 839.364,889.822 849.456,880.179 859.547,796.094 869.638,667.477 879.729,544.982 889.821,482.132 899.912,513.027 910.003,635.888 920.095,811.378 930.186,975.443 940.277,1060.97 950.368,1024.82 960.46,872.968 970.551,662.87 980.642,476.208 990.734,384.258 1000.82,422.173 1010.92,575.529 1021.01,783.994 1031.1,962.354 1041.19,1036.38 1051.28,977.334 1061.37,809.277 1071.46,595.158 1081.56,419.555 1091.65,359.4 1101.74,447.546 1111.83,656.969 1121.92,911.868 1132.01,1114.35 1142.1,1180.62 1152.19,1075.72 1162.29,831.175 1172.38,537.95 1182.47,311.922 1192.56,243.306 1202.65,358.818 1212.74,612.553 1222.83,904.54 1232.92,1120.74 1243.02,1176.7 1253.11,1048.99 1263.2,786.854 1273.29,495.267 1283.38,291.805 1293.47,258.026 1303.56,411.306 1313.66,700.874 1323.75,1018.55 1333.84,1235.43 1343.93,1260.34 1354.02,1079.24 1364.11,756.94 1374.2,414.243 1384.29,186.244 1394.39,167 1404.48,366.362 1414.57,704.265 1424.66,1046.16 1434.75,1260.74 1444.84,1267.72 1454.93,1064.11 1465.02,729.316 1475.12,395.046 1485.21,190.54 1495.3,195.321 1505.39,410.061 1515.48,754.272 1525.57,1096.55 1535.66,1304.65 1545.75,1295.5 1555.85,1066.81 1565.94,702.567 1576.03,345.41 1586.12,137.901 1596.21,162.115 1606.3,409.121 1616.39,784.725 1626.49,1143.28 1636.58,1342.68 1646.67,1305.16 1656.76,1049.75 1666.85,676.985 1676.94,326.183 1687.03,128.892 1697.12,162.319 1707.22,414.588 1717.31,788.022 1727.4,1141.38 1737.49,1342.99 1747.58,1316.47 1757.67,1070.97 1767.76,700.083 1777.85,346.803 1787.95,148.965 1798.04,184.387 1808.13,439.651 1818.22,815.034 1828.31,1163.81 1838.4,1351.84 1848.49,1308.14 1858.59,1047.9 1868.68,667.68 1878.77,312.074 1888.86,115.414 1898.95,147.793 1909.04,396.693 1919.13,775.495 1929.22,1146.79 1939.32,1370.15 1949.41,1361.94 1959.5,1129.85 1969.59,763.21 1979.68,397.153 1989.77,169.33 1999.86,170.018 2009.95,400.315 2020.05,767.255 2030.14,1126.7 2040.23,1343.15 2050.32,1333 2060.41,1094.9 2070.5,717.631 2080.59,344.244 2090.68,113.731 2100.78,113.055 2110.87,347.322 2120.96,734.509 2131.05,1135.35 2141.14,1405.52 2151.23,1445.72 2161.32,1238.35 2171.42,858.115 2181.51,446.327 2191.6,156.606 2201.69,95.8668 2211.78,286.946 2221.87,659.95 2231.96,1073.06 2242.05,1364.01 2252.15,1416.73 2262.24,1210.65 2272.33,822.415 2282.42,393.499 2292.51,87.9763 \"/>\n",
       "<path clip-path=\"url(#clip250)\" d=\"M295.053 198.898 L560.349 198.898 L560.349 95.2176 L295.053 95.2176  Z\" fill=\"#ffffff\" fill-rule=\"evenodd\" fill-opacity=\"1\"/>\n",
       "<polyline clip-path=\"url(#clip250)\" style=\"stroke:#000000; stroke-linecap:round; stroke-linejoin:round; stroke-width:4; stroke-opacity:1; fill:none\" points=\"295.053,198.898 560.349,198.898 560.349,95.2176 295.053,95.2176 295.053,198.898 \"/>\n",
       "<polyline clip-path=\"url(#clip250)\" style=\"stroke:#009af9; stroke-linecap:round; stroke-linejoin:round; stroke-width:4; stroke-opacity:1; fill:none\" points=\"318.705,147.058 460.615,147.058 \"/>\n",
       "<path clip-path=\"url(#clip250)\" d=\"M498.11 166.745 Q496.304 171.375 494.591 172.787 Q492.878 174.199 490.008 174.199 L486.605 174.199 L486.605 170.634 L489.105 170.634 Q490.864 170.634 491.837 169.8 Q492.809 168.967 493.989 165.865 L494.753 163.921 L484.267 138.412 L488.781 138.412 L496.883 158.689 L504.985 138.412 L509.499 138.412 L498.11 166.745 Z\" fill=\"#000000\" fill-rule=\"nonzero\" fill-opacity=\"1\" /><path clip-path=\"url(#clip250)\" d=\"M516.79 160.402 L524.429 160.402 L524.429 134.037 L516.119 135.703 L516.119 131.444 L524.383 129.778 L529.059 129.778 L529.059 160.402 L536.697 160.402 L536.697 164.338 L516.79 164.338 L516.79 160.402 Z\" fill=\"#000000\" fill-rule=\"nonzero\" fill-opacity=\"1\" /></svg>\n"
      ]
     },
     "metadata": {},
     "output_type": "display_data"
    }
   ],
   "source": [
    "Plots.plot(times[2:end], Nacelle_v)"
   ]
  }
 ],
 "metadata": {
  "kernelspec": {
   "display_name": "Julia 1.9.3",
   "language": "julia",
   "name": "julia-1.9"
  },
  "language_info": {
   "file_extension": ".jl",
   "mimetype": "application/julia",
   "name": "julia",
   "version": "1.9.3"
  }
 },
 "nbformat": 4,
 "nbformat_minor": 2
}
