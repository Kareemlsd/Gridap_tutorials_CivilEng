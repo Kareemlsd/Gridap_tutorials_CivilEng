{
 "cells": [
  {
   "cell_type": "markdown",
   "metadata": {},
   "source": [
    "## Frame"
   ]
  },
  {
   "cell_type": "code",
   "execution_count": 1,
   "metadata": {},
   "outputs": [],
   "source": [
    "using Gridap\n",
    "using Plots\n",
    "using GridapMakie\n",
    "using CairoMakie \n",
    "using GLMakie\n",
    "using Gridap.Geometry\n",
    "using GridapGmsh\n",
    "using WriteVTK\n",
    "using Gmsh: Gmsh, gmsh"
   ]
  },
  {
   "cell_type": "code",
   "execution_count": 2,
   "metadata": {},
   "outputs": [
    {
     "name": "stdout",
     "output_type": "stream",
     "text": [
      "Info    : Reading './msh_files/OFFSHORE_NASAL_JACKET.geo'...\n",
      "Info    : Done reading './msh_files/OFFSHORE_NASAL_JACKET.geo'\n"
     ]
    }
   ],
   "source": [
    "# Initialize the Gmsh API\n",
    "gmsh.initialize()\n",
    "\n",
    "# Open the .geo file\n",
    "geo_file = \"./msh_files/OFFSHORE_NASAL_JACKET.geo\"\n",
    "gmsh.open(geo_file)\n",
    "\n",
    "# Set options to ensure lines are not subdivided\n",
    "gmsh.option.set_number(\"Mesh.ElementOrder\", 1)\n",
    "\n",
    "# println(\"Mesh saved as $msh_file\")"
   ]
  },
  {
   "cell_type": "code",
   "execution_count": 3,
   "metadata": {},
   "outputs": [
    {
     "name": "stdout",
     "output_type": "stream",
     "text": [
      "Info    : Meshing 1D...\n",
      "Info    : [  0%] Meshing curve 1 (Line)\n",
      "Info    : [ 10%] Meshing curve 2 (Line)\n",
      "Info    : [ 10%] Meshing curve 3 (Line)\n",
      "Info    : [ 20%] Meshing curve 4 (Line)\n",
      "Info    : [ 20%] Meshing curve 5 (Line)\n",
      "Info    : [ 20%] Meshing curve 6 (Line)\n",
      "Info    : [ 30%] Meshing curve 7 (Line)\n",
      "Info    : [ 30%] Meshing curve 8 (Line)\n",
      "Info    : [ 30%] Meshing curve 9 (Line)\n",
      "Info    : [ 40%] Meshing curve 10 (Line)\n",
      "Info    : [ 40%] Meshing curve 11 (Line)\n",
      "Info    : [ 50%] Meshing curve 12 (Line)\n",
      "Info    : [ 50%] Meshing curve 13 (Line)\n",
      "Info    : [ 50%] Meshing curve 14 (Line)\n",
      "Info    : [ 60%] Meshing curve 15 (Line)\n",
      "Info    : [ 60%] Meshing curve 16 (Line)\n",
      "Info    : [ 60%] Meshing curve 17 (Line)\n",
      "Info    : [ 70%] Meshing curve 18 (Line)\n",
      "Info    : [ 70%] Meshing curve 19 (Line)\n",
      "Info    : [ 80%] Meshing curve 20 (Line)\n",
      "Info    : [ 80%] Meshing curve 21 (Line)\n",
      "Info    : [ 80%] Meshing curve 22 (Line)\n",
      "Info    : [ 90%] Meshing curve 23 (Line)\n",
      "Info    : [ 90%] Meshing curve 24 (Line)\n",
      "Info    : [ 90%] Meshing curve 25 (Line)\n",
      "Info    : [100%] Meshing curve 26 (Line)\n",
      "Info    : [100%] Meshing curve 27 (Line)\n",
      "Info    : Done meshing 1D (Wall 0.00224018s, CPU 0s)\n",
      "Info    : 446 nodes 473 elements\n",
      "Info    : Writing './msh_files/OFFSHORE_NASAL_JACKET.msh'...\n",
      "Info    : Done writing './msh_files/OFFSHORE_NASAL_JACKET.msh'\n"
     ]
    }
   ],
   "source": [
    "gmsh.option.set_number(\"Mesh.CharacteristicLengthMax\", 1)\n",
    "gmsh.option.set_number(\"Mesh.CharacteristicLengthMin\", 1)\n",
    "\n",
    "# Generate the mesh\n",
    "gmsh.model.mesh.generate(1)  # Generate a 1D mesh (the physical elements are 1D (!))\n",
    "\n",
    "# Save as .msh file\n",
    "msh_file = \"./msh_files/OFFSHORE_NASAL_JACKET.msh\"\n",
    "gmsh.write(msh_file)\n",
    "\n",
    "# Finalize Gmsh\n",
    "gmsh.finalize()"
   ]
  },
  {
   "cell_type": "code",
   "execution_count": 69,
   "metadata": {},
   "outputs": [
    {
     "name": "stdout",
     "output_type": "stream",
     "text": [
      "Info    : Reading 'msh_files/OFFSHORE_NASAL_JACKET.msh'...\n",
      "Info    : 48 entities\n",
      "Info    : 446 nodes\n",
      "Info    : 456 elements\n",
      "Info    : Done reading 'msh_files/OFFSHORE_NASAL_JACKET.msh'\n"
     ]
    },
    {
     "data": {
      "text/plain": [
       "UnstructuredDiscreteModel()"
      ]
     },
     "metadata": {},
     "output_type": "display_data"
    }
   ],
   "source": [
    "# Define known parameters/functions for the rod equation\n",
    "E = 2e10 # Young's modulus of steel (Pa)\n",
    "ρ = 7850 # Density of steel (kg/m3)\n",
    "\n",
    "# Nacelle\n",
    "M_Nacelle = 5000 # kg\n",
    "\n",
    "# Pile \n",
    "m_Pile(x) = 1000 # kg/m\n",
    "EA_Pile = 1e8 # N \n",
    "\n",
    "# Jacket \n",
    "m_Jacket(x) = 100 # N/m \n",
    "EA_Jacket = 1e6 # N\n",
    "\n",
    "# Define the known parameters/functions for the Timoschenko beam equation\n",
    "ν = 0.2 # Poisson's ratio\n",
    "EI_Pile = 1e9 # Nm2\n",
    "EI_Jacket = 1e7 # Nm2\n",
    "\n",
    "G = E/(2*(1+ν)) # Shear modulus (Pa)\n",
    "GA_Jacket = G*(EA_Jacket/E) # Shear stiffness of jacket elements (N)\n",
    "GA_Pile = G*(EA_Pile/E) # Shear stiffness of pile elements (N)\n",
    "\n",
    "ρI_Jacket = ρ*(EI_Jacket/E)\n",
    "ρI_Pile = ρ*(EI_Pile/E)\n",
    "\n",
    "ρA_Jacket = ρ*(EA_Jacket/E)\n",
    "ρA_Pile = ρ*(EA_Pile/E)\n",
    "\n",
    "# Define load parameters\n",
    "f0 = 2                          # [Hz]\n",
    "A0 = 0.1                        # [m]\n",
    "T0 = 20                         # [s]\n",
    "\n",
    "# Define the support earthquake function\n",
    "v_ext(t) = A0*sin(2*π*f0*t)   # [m]\n",
    "\n",
    "model = GmshDiscreteModel(\"msh_files/OFFSHORE_NASAL_JACKET.msh\")"
   ]
  },
  {
   "cell_type": "code",
   "execution_count": 70,
   "metadata": {},
   "outputs": [
    {
     "data": {
      "text/plain": [
       "Dict{String, Int64} with 5 entries:\n",
       "  \"Jacket Members\" => 4\n",
       "  \"Pile Members\"   => 5\n",
       "  \"Supports\"       => 1\n",
       "  \"Bottom Pile\"    => 3\n",
       "  \"Nacelle\"        => 2"
      ]
     },
     "metadata": {},
     "output_type": "display_data"
    }
   ],
   "source": [
    "# Set up the figure and axis \n",
    "labels = get_face_labeling(model)\n",
    "initial_tags = get_tag_entities(labels)[end]\n",
    "tag_from_names = get_tag_from_name(labels)"
   ]
  },
  {
   "cell_type": "code",
   "execution_count": 36,
   "metadata": {},
   "outputs": [],
   "source": [
    "# Set up the figure and axis \n",
    "fig = Figure(resolution=(800, 600))\n",
    "ax = Axis(fig[1, 1], title=\"Domain with Boundary Tags\", xlabel=\"x\", ylabel=\"y\")\n",
    "\n",
    "for intgr in length(tag_from_names)\n",
    "    CairoMakie.wireframe!(ax, Triangulation(model))\n",
    "end\n",
    "\n",
    "CairoMakie.scatter!(ax, Boundary(Triangulation(model), tags=\"Supports\"))\n",
    "CairoMakie.scatter!(ax, Boundary(Triangulation(model), tags=\"Nacelle\"))\n",
    "CairoMakie.scatter!(ax, Boundary(Triangulation(model), tags=\"Jacket Members\"))\n",
    "CairoMakie.scatter!(ax, Boundary(Triangulation(model), tags=\"Pile Members\"))\n",
    "\n",
    "fig"
   ]
  },
  {
   "cell_type": "code",
   "execution_count": 72,
   "metadata": {},
   "outputs": [
    {
     "data": {
      "text/plain": [
       "CompositeTriangulation()"
      ]
     },
     "metadata": {},
     "output_type": "display_data"
    }
   ],
   "source": [
    "Ω = Triangulation(model)\n",
    "Ω_pile = Triangulation(model, tags=\"Pile Members\")\n",
    "Ω_jacket = Triangulation(model, tags=\"Jacket Members\")\n",
    "Γ_S = Boundary(Ω_jacket,tags=\"Supports\")\n",
    "Γ_N = Boundary(Ω_pile,tags=\"Nacelle\")"
   ]
  },
  {
   "cell_type": "code",
   "execution_count": null,
   "metadata": {},
   "outputs": [
    {
     "data": {
      "text/plain": [
       "MultiFieldFESpace()"
      ]
     },
     "metadata": {},
     "output_type": "display_data"
    }
   ],
   "source": [
    "# Transient problem\n",
    "order = 2\n",
    "reffe_u = ReferenceFE(lagrangian, Float64, order) # We create a Reference Finite Element (it serves as a basis function on one single triangulation element (puzzle piece of the entire puzzle))\n",
    "reffe_v = ReferenceFE(lagrangian, Float64, order) \n",
    "reffe_θ = ReferenceFE(lagrangian, Float64,order)\n",
    "\n",
    "u_Y = TestFESpace(Ω, reffe_u; conformity=:H1, dirichlet_tags=\"Supports\") # The TestFESpace for the rod equation\n",
    "u_X = TransientTrialFESpace(u_Y) # The TrialFESpace for the rod equation\n",
    "\n",
    "v_Y = TestFESpace(Ω, reffe_v; dirichlet_tags=\"Supports\") # The TestFESpace for the displacement in Timoschenko equation\n",
    "θ_Y = TestFESpace(Ω, reffe_θ; dirichlet_tags=\"Supports\") # The TestFESpace for the rotation in Timoschenko equation \n",
    "\n",
    "v_X = TransientTrialFESpace(v_Y, v_ext) # The TestFESpace for the displacement in Timoschenko equation\n",
    "θ_X = TransientTrialFESpace(θ_Y) # The TestFESpace for the rotation in Timoschenko equation \n",
    "\n",
    "X = TransientMultiFieldFESpace([v_X,θ_X])\n",
    "Y = MultiFieldFESpace([v_Y,θ_Y])"
   ]
  },
  {
   "cell_type": "code",
   "execution_count": 101,
   "metadata": {},
   "outputs": [
    {
     "data": {
      "text/plain": [
       "GenericCellField():\n",
       " num_cells: 2\n",
       " DomainStyle: ReferenceDomain()\n",
       " Triangulation: CompositeTriangulation()\n",
       " Triangulation id: 13686802527524347982"
      ]
     },
     "metadata": {},
     "output_type": "display_data"
    }
   ],
   "source": [
    "degree = 2*order # Degree of the quadrature rule to prevent shear locking\n",
    "dΩ_Pile = Measure(Ω_pile, degree) # Numerical integration within the domain Ω using second-order Gaussian quadrature rule\n",
    "dΩ_Jacket = Measure(Ω_jacket, degree) # Numerical integration within the domain Ω using second-order Gaussian quadrature rule\n",
    "dΓ_N = Measure(Γ_N,degree) # Numerical integration along the Neumann boundary Γ_D using second-order Gaussian quadrature rule\n",
    "nΓ_N = get_normal_vector(Γ_N) # Normal vector to the Neumann boundary Γ_N\n",
    "dΓ_S = Measure(Γ_S,degree) # Numerical integration along the supports Γ_S using second-order Gaussian quadrature rule\n",
    "nΓ_S = get_normal_vector(Γ_S) # Normal vector to the supports Γ_S"
   ]
  },
  {
   "cell_type": "code",
   "execution_count": null,
   "metadata": {},
   "outputs": [
    {
     "data": {
      "text/plain": [
       "TransientFEOperatorFromWeakForm()"
      ]
     },
     "metadata": {},
     "output_type": "display_data"
    }
   ],
   "source": [
    "m_rod(t, dttu, h) = ∫(m_Pile * dttu · h)dΩ_Pile + ∫(m_Jacket * dttu · h)dΩ_Jacket\n",
    "c_rod(t, dtu, h) = ∫(0 * dtu ⋅ h)dΩ_Pile + ∫(0 * dtu ⋅ h)dΩ_Jacket\n",
    "a_rod(t, u, h) = ∫(EA_Pile * ∇(u) ⋅ ∇(h))dΩ_Pile + ∫(EA_Jacket * ∇(u) ⋅ ∇(h))dΩ_Jacket\n",
    "l_rod(t, h) = ∫(-M_Nacelle*9.81*h)dΓ_N + ∫(0 * h)dΩ_Jacket + ∫(0 * h)dΩ_Pile\n",
    "\n",
    "# Updated bilinear form including time-dependent mass terms\n",
    "m_timo(t, (dttv, dttθ), (w,ψ)) = ∫(ρI_Jacket * dttθ ⋅ ψ)dΩ_Jacket + ∫(ρI_Pile * dttθ ⋅ ψ)dΩ_Pile + \n",
    "                                ∫(ρA_Jacket * dttv ⋅ w)dΩ_Jacket  + ∫(ρA_Pile * dttv ⋅ w)dΩ_Pile +\n",
    "                                ∫(M_Nacelle*dttv⋅w)dΓ_N\n",
    "\n",
    "c_timo(t, (dtv, dtθ),  (w,ψ)) = ∫(0*dtv⋅w)dΩ_Jacket + ∫(0*dtv⋅w)dΩ_Pile\n",
    "\n",
    "a_timo(t, (v,θ), (w,ψ)) = ∫(EI_Jacket*(∇(θ)⊙∇(ψ)) + GA_Jacket* ((∇(v)-θ)⋅(∇(w)-ψ)) )dΩ_Jacket +\n",
    "                      ∫(EI_Pile*(∇(θ)⊙∇(ψ)) + GA_Pile*((∇(v)-θ)⋅(∇(w)-ψ)) )dΩ_Pile\n",
    "\n",
    "# Updated linear form for transient external forces\n",
    "l_timo(t, (w,ψ)) = ∫(0 * w)dΓ_N\n",
    "\n",
    "op_rod = TransientAffineFEOperator(m_rod, c_rod, a_rod, l_rod, u_X,u_Y)\n",
    "op_timo = TransientAffineFEOperator(m_timo, c_timo, a_timo, l_timo,X,Y)"
   ]
  },
  {
   "cell_type": "code",
   "execution_count": 108,
   "metadata": {},
   "outputs": [
    {
     "data": {
      "text/plain": [
       "Gridap.ODEs.TransientFETools.TransientFESolution(GenericODESolution(), TransientMultiFieldTrialFESpace{Gridap.MultiField.ConsecutiveMultiFieldStyle, Gridap.FESpaces.UnConstrained, Vector{Float64}}(Vector{Float64}, Any[TransientTrialFESpace{Gridap.FESpaces.UnconstrainedFESpace{Vector{Float64}, Nothing}, TrialFESpace{Gridap.FESpaces.UnconstrainedFESpace{Vector{Float64}, Nothing}}}(UnconstrainedFESpace(), v_ext, TrialFESpace()), TrialFESpace()], Gridap.MultiField.ConsecutiveMultiFieldStyle(), Gridap.FESpaces.UnConstrained()))"
      ]
     },
     "metadata": {},
     "output_type": "display_data"
    }
   ],
   "source": [
    "# Solution\n",
    "γₜ = 0.5\n",
    "βₜ = 0.25\n",
    "ls = LUSolver()\n",
    "Δt = 0.05\n",
    "ode_solver = Newmark(ls,Δt,γₜ,βₜ)\n",
    "\n",
    "# Time interval\n",
    "t0, tF = 0.0, 10.0\n",
    "\n",
    "# Initial solution\n",
    "x0_rod = interpolate_everywhere(0.0,u_X(0.0))\n",
    "v0_rod = interpolate_everywhere(0.0,u_X(0.0))\n",
    "a0_rod = interpolate_everywhere(0.0,u_X(0.0))\n",
    "\n",
    "x0_timo = interpolate_everywhere([0.0,0.0],X(0.0))\n",
    "v0_timo = interpolate_everywhere([0.0,0.0],X(0.0))\n",
    "a0_timo = interpolate_everywhere([0.0,0.0],X(0.0))\n",
    "\n",
    "xt_rod = solve(ode_solver,op_rod,(x0_rod,v0_rod,a0_rod),t0,tF)\n",
    "xt_timo = solve(ode_solver,op_timo,(x0_timo,v0_timo,a0_timo),t0,tF)"
   ]
  },
  {
   "cell_type": "code",
   "execution_count": 109,
   "metadata": {},
   "outputs": [],
   "source": [
    "# ls = LUSolver()\n",
    "# Δt = 0.05\n",
    "# θ = 0.5\n",
    "# solver = ThetaMethod(ls, Δt, θ)\n",
    "\n",
    "# # Time interval\n",
    "# t0, tF = 0.0, 10.0\n",
    "\n",
    "# # Initial solution\n",
    "# x0 = interpolate_everywhere([0.0,0.0,0.0],X(0.0))\n",
    "\n",
    "# xt = solve(solver,op,x0,t0,tF)"
   ]
  },
  {
   "cell_type": "code",
   "execution_count": 110,
   "metadata": {},
   "outputs": [],
   "source": [
    "Ω = Triangulation(model) # The domain Ω is the entire mesh (jacket + pile)\n",
    "\n",
    "output_dir = \"results/\"\n",
    "vtk_output = true\n",
    "\n",
    "output_dir = \"results/\"\n",
    "vtk_output = true\n",
    "if vtk_output == true\n",
    "    pvd_u = paraview_collection(output_dir * \"_u_solution\", append=false)\n",
    "    pvd_v = paraview_collection(output_dir * \"_v_solution\", append=false)\n",
    "    pvd_theta = paraview_collection(output_dir * \"_theta_solution\", append=false)\n",
    "  end\n",
    "\n",
    "# Time stepping for visualization\n",
    "times = t0:Δt:tF\n",
    "\n",
    "Nacelle_u = []\n",
    "\n",
    "for (u, t) in xt_rod\n",
    "  # Write to VTK\n",
    "  push!(Nacelle_u, evaluate(u, Gridap.Point(0.0, 0.0)))\n",
    "  if vtk_output == true\n",
    "      pvd_u[t] = createvtk(Ω,output_dir * \"_u_solution\" * \"_$t.vtu\",cellfields = [\"u\" => u])#,nsubcells=10)\n",
    "    end\n",
    "end\n",
    "\n",
    "Nacelle_v = []\n",
    "Nacelle_theta = []\n",
    "\n",
    "Nacelle_v_pile = []\n",
    "Nacelle_v_jacket = []\n",
    "\n",
    "for ((v,θ), t) in xt_timo\n",
    "    # Write to VTK\n",
    "    push!(Nacelle_v, evaluate(v, Gridap.Point(0.0, 100.0)))\n",
    "    push!(Nacelle_theta, evaluate(θ, Gridap.Point(0.0, 100.0)))\n",
    "\n",
    "    push!(Nacelle_v_pile, evaluate(v, Gridap.Point(0.0, 0.1)))\n",
    "    push!(Nacelle_v_jacket, evaluate(v, Gridap.Point(0.01, 0.0)))\n",
    "    if vtk_output == true\n",
    "        pvd_v[t] = createvtk(Ω,output_dir * \"_v_solution\" * \"_$t.vtu\",cellfields = [\"v\" => v],nsubcells=10)\n",
    "        pvd_theta[t] = createvtk(Ω,output_dir * \"_theta_solution\" * \"_$t.vtu\",cellfields = [\"theta\" => θ],nsubcells=10)\n",
    "      end\n",
    "end"
   ]
  },
  {
   "cell_type": "code",
   "execution_count": 113,
   "metadata": {},
   "outputs": [
    {
     "data": {
      "image/png": "[encoded data removed]",
      "image/svg+xml": [
       "<?xml version=\"1.0\" encoding=\"utf-8\"?>\n",
       "<svg xmlns=\"http://www.w3.org/2000/svg\" xmlns:xlink=\"http://www.w3.org/1999/xlink\" width=\"600\" height=\"400\" viewBox=\"0 0 2400 1600\">\n",
       "<defs>\n",
       "  <clipPath id=\"clip750\">\n",
       "    <rect x=\"0\" y=\"0\" width=\"2400\" height=\"1600\"/>\n",
       "  </clipPath>\n",
       "</defs>\n",
       "<path clip-path=\"url(#clip750)\" d=\"M0 1600 L2400 1600 L2400 0 L0 0  Z\" fill=\"#ffffff\" fill-rule=\"evenodd\" fill-opacity=\"1\"/>\n",
       "<defs>\n",
       "  <clipPath id=\"clip751\">\n",
       "    <rect x=\"480\" y=\"0\" width=\"1681\" height=\"1600\"/>\n",
       "  </clipPath>\n",
       "</defs>\n",
       "<path clip-path=\"url(#clip750)\" d=\"M186.274 1486.45 L2352.76 1486.45 L2352.76 47.2441 L186.274 47.2441  Z\" fill=\"#ffffff\" fill-rule=\"evenodd\" fill-opacity=\"1\"/>\n",
       "<defs>\n",
       "  <clipPath id=\"clip752\">\n",
       "    <rect x=\"186\" y=\"47\" width=\"2167\" height=\"1440\"/>\n",
       "  </clipPath>\n",
       "</defs>\n",
       "<polyline clip-path=\"url(#clip752)\" style=\"stroke:#000000; stroke-linecap:round; stroke-linejoin:round; stroke-width:2; stroke-opacity:0.1; fill:none\" points=\"237.319,1486.45 237.319,47.2441 \"/>\n",
       "<polyline clip-path=\"url(#clip752)\" style=\"stroke:#000000; stroke-linecap:round; stroke-linejoin:round; stroke-width:2; stroke-opacity:0.1; fill:none\" points=\"750.849,1486.45 750.849,47.2441 \"/>\n",
       "<polyline clip-path=\"url(#clip752)\" style=\"stroke:#000000; stroke-linecap:round; stroke-linejoin:round; stroke-width:2; stroke-opacity:0.1; fill:none\" points=\"1264.38,1486.45 1264.38,47.2441 \"/>\n",
       "<polyline clip-path=\"url(#clip752)\" style=\"stroke:#000000; stroke-linecap:round; stroke-linejoin:round; stroke-width:2; stroke-opacity:0.1; fill:none\" points=\"1777.91,1486.45 1777.91,47.2441 \"/>\n",
       "<polyline clip-path=\"url(#clip752)\" style=\"stroke:#000000; stroke-linecap:round; stroke-linejoin:round; stroke-width:2; stroke-opacity:0.1; fill:none\" points=\"2291.44,1486.45 2291.44,47.2441 \"/>\n",
       "<polyline clip-path=\"url(#clip750)\" style=\"stroke:#000000; stroke-linecap:round; stroke-linejoin:round; stroke-width:4; stroke-opacity:1; fill:none\" points=\"186.274,1486.45 2352.76,1486.45 \"/>\n",
       "<polyline clip-path=\"url(#clip750)\" style=\"stroke:#000000; stroke-linecap:round; stroke-linejoin:round; stroke-width:4; stroke-opacity:1; fill:none\" points=\"237.319,1486.45 237.319,1467.55 \"/>\n",
       "<polyline clip-path=\"url(#clip750)\" style=\"stroke:#000000; stroke-linecap:round; stroke-linejoin:round; stroke-width:4; stroke-opacity:1; fill:none\" points=\"750.849,1486.45 750.849,1467.55 \"/>\n",
       "<polyline clip-path=\"url(#clip750)\" style=\"stroke:#000000; stroke-linecap:round; stroke-linejoin:round; stroke-width:4; stroke-opacity:1; fill:none\" points=\"1264.38,1486.45 1264.38,1467.55 \"/>\n",
       "<polyline clip-path=\"url(#clip750)\" style=\"stroke:#000000; stroke-linecap:round; stroke-linejoin:round; stroke-width:4; stroke-opacity:1; fill:none\" points=\"1777.91,1486.45 1777.91,1467.55 \"/>\n",
       "<polyline clip-path=\"url(#clip750)\" style=\"stroke:#000000; stroke-linecap:round; stroke-linejoin:round; stroke-width:4; stroke-opacity:1; fill:none\" points=\"2291.44,1486.45 2291.44,1467.55 \"/>\n",
       "<path clip-path=\"url(#clip750)\" d=\"M214.703 1517.37 Q211.092 1517.37 209.264 1520.93 Q207.458 1524.47 207.458 1531.6 Q207.458 1538.71 209.264 1542.27 Q211.092 1545.82 214.703 1545.82 Q218.338 1545.82 220.143 1542.27 Q221.972 1538.71 221.972 1531.6 Q221.972 1524.47 220.143 1520.93 Q218.338 1517.37 214.703 1517.37 M214.703 1513.66 Q220.513 1513.66 223.569 1518.27 Q226.648 1522.85 226.648 1531.6 Q226.648 1540.33 223.569 1544.94 Q220.513 1549.52 214.703 1549.52 Q208.893 1549.52 205.814 1544.94 Q202.759 1540.33 202.759 1531.6 Q202.759 1522.85 205.814 1518.27 Q208.893 1513.66 214.703 1513.66 Z\" fill=\"#000000\" fill-rule=\"nonzero\" fill-opacity=\"1\" /><path clip-path=\"url(#clip750)\" d=\"M234.865 1542.97 L239.749 1542.97 L239.749 1548.85 L234.865 1548.85 L234.865 1542.97 Z\" fill=\"#000000\" fill-rule=\"nonzero\" fill-opacity=\"1\" /><path clip-path=\"url(#clip750)\" d=\"M259.935 1517.37 Q256.323 1517.37 254.495 1520.93 Q252.689 1524.47 252.689 1531.6 Q252.689 1538.71 254.495 1542.27 Q256.323 1545.82 259.935 1545.82 Q263.569 1545.82 265.374 1542.27 Q267.203 1538.71 267.203 1531.6 Q267.203 1524.47 265.374 1520.93 Q263.569 1517.37 259.935 1517.37 M259.935 1513.66 Q265.745 1513.66 268.8 1518.27 Q271.879 1522.85 271.879 1531.6 Q271.879 1540.33 268.8 1544.94 Q265.745 1549.52 259.935 1549.52 Q254.124 1549.52 251.046 1544.94 Q247.99 1540.33 247.99 1531.6 Q247.99 1522.85 251.046 1518.27 Q254.124 1513.66 259.935 1513.66 Z\" fill=\"#000000\" fill-rule=\"nonzero\" fill-opacity=\"1\" /><path clip-path=\"url(#clip750)\" d=\"M722.586 1544.91 L738.905 1544.91 L738.905 1548.85 L716.961 1548.85 L716.961 1544.91 Q719.623 1542.16 724.206 1537.53 Q728.812 1532.88 729.993 1531.53 Q732.238 1529.01 733.118 1527.27 Q734.021 1525.51 734.021 1523.82 Q734.021 1521.07 732.076 1519.33 Q730.155 1517.6 727.053 1517.6 Q724.854 1517.6 722.4 1518.36 Q719.97 1519.13 717.192 1520.68 L717.192 1515.95 Q720.016 1514.82 722.47 1514.24 Q724.923 1513.66 726.961 1513.66 Q732.331 1513.66 735.525 1516.35 Q738.72 1519.03 738.72 1523.52 Q738.72 1525.65 737.91 1527.57 Q737.123 1529.47 735.016 1532.07 Q734.437 1532.74 731.336 1535.95 Q728.234 1539.15 722.586 1544.91 Z\" fill=\"#000000\" fill-rule=\"nonzero\" fill-opacity=\"1\" /><path clip-path=\"url(#clip750)\" d=\"M748.72 1542.97 L753.604 1542.97 L753.604 1548.85 L748.72 1548.85 L748.72 1542.97 Z\" fill=\"#000000\" fill-rule=\"nonzero\" fill-opacity=\"1\" /><path clip-path=\"url(#clip750)\" d=\"M763.835 1514.29 L782.192 1514.29 L782.192 1518.22 L768.118 1518.22 L768.118 1526.7 Q769.136 1526.35 770.155 1526.19 Q771.173 1526 772.192 1526 Q777.979 1526 781.358 1529.17 Q784.738 1532.34 784.738 1537.76 Q784.738 1543.34 781.266 1546.44 Q777.794 1549.52 771.474 1549.52 Q769.298 1549.52 767.03 1549.15 Q764.784 1548.78 762.377 1548.04 L762.377 1543.34 Q764.46 1544.47 766.683 1545.03 Q768.905 1545.58 771.382 1545.58 Q775.386 1545.58 777.724 1543.48 Q780.062 1541.37 780.062 1537.76 Q780.062 1534.15 777.724 1532.04 Q775.386 1529.94 771.382 1529.94 Q769.507 1529.94 767.632 1530.35 Q765.78 1530.77 763.835 1531.65 L763.835 1514.29 Z\" fill=\"#000000\" fill-rule=\"nonzero\" fill-opacity=\"1\" /><path clip-path=\"url(#clip750)\" d=\"M1231.54 1514.29 L1249.9 1514.29 L1249.9 1518.22 L1235.83 1518.22 L1235.83 1526.7 Q1236.85 1526.35 1237.86 1526.19 Q1238.88 1526 1239.9 1526 Q1245.69 1526 1249.07 1529.17 Q1252.45 1532.34 1252.45 1537.76 Q1252.45 1543.34 1248.97 1546.44 Q1245.5 1549.52 1239.18 1549.52 Q1237.01 1549.52 1234.74 1549.15 Q1232.49 1548.78 1230.09 1548.04 L1230.09 1543.34 Q1232.17 1544.47 1234.39 1545.03 Q1236.61 1545.58 1239.09 1545.58 Q1243.1 1545.58 1245.43 1543.48 Q1247.77 1541.37 1247.77 1537.76 Q1247.77 1534.15 1245.43 1532.04 Q1243.1 1529.94 1239.09 1529.94 Q1237.22 1529.94 1235.34 1530.35 Q1233.49 1530.77 1231.54 1531.65 L1231.54 1514.29 Z\" fill=\"#000000\" fill-rule=\"nonzero\" fill-opacity=\"1\" /><path clip-path=\"url(#clip750)\" d=\"M1261.66 1542.97 L1266.54 1542.97 L1266.54 1548.85 L1261.66 1548.85 L1261.66 1542.97 Z\" fill=\"#000000\" fill-rule=\"nonzero\" fill-opacity=\"1\" /><path clip-path=\"url(#clip750)\" d=\"M1286.73 1517.37 Q1283.12 1517.37 1281.29 1520.93 Q1279.48 1524.47 1279.48 1531.6 Q1279.48 1538.71 1281.29 1542.27 Q1283.12 1545.82 1286.73 1545.82 Q1290.36 1545.82 1292.17 1542.27 Q1294 1538.71 1294 1531.6 Q1294 1524.47 1292.17 1520.93 Q1290.36 1517.37 1286.73 1517.37 M1286.73 1513.66 Q1292.54 1513.66 1295.59 1518.27 Q1298.67 1522.85 1298.67 1531.6 Q1298.67 1540.33 1295.59 1544.94 Q1292.54 1549.52 1286.73 1549.52 Q1280.92 1549.52 1277.84 1544.94 Q1274.78 1540.33 1274.78 1531.6 Q1274.78 1522.85 1277.84 1518.27 Q1280.92 1513.66 1286.73 1513.66 Z\" fill=\"#000000\" fill-rule=\"nonzero\" fill-opacity=\"1\" /><path clip-path=\"url(#clip750)\" d=\"M1744.23 1514.29 L1766.45 1514.29 L1766.45 1516.28 L1753.91 1548.85 L1749.02 1548.85 L1760.83 1518.22 L1744.23 1518.22 L1744.23 1514.29 Z\" fill=\"#000000\" fill-rule=\"nonzero\" fill-opacity=\"1\" /><path clip-path=\"url(#clip750)\" d=\"M1775.57 1542.97 L1780.46 1542.97 L1780.46 1548.85 L1775.57 1548.85 L1775.57 1542.97 Z\" fill=\"#000000\" fill-rule=\"nonzero\" fill-opacity=\"1\" /><path clip-path=\"url(#clip750)\" d=\"M1790.69 1514.29 L1809.04 1514.29 L1809.04 1518.22 L1794.97 1518.22 L1794.97 1526.7 Q1795.99 1526.35 1797.01 1526.19 Q1798.03 1526 1799.04 1526 Q1804.83 1526 1808.21 1529.17 Q1811.59 1532.34 1811.59 1537.76 Q1811.59 1543.34 1808.12 1546.44 Q1804.65 1549.52 1798.33 1549.52 Q1796.15 1549.52 1793.88 1549.15 Q1791.64 1548.78 1789.23 1548.04 L1789.23 1543.34 Q1791.31 1544.47 1793.53 1545.03 Q1795.76 1545.58 1798.23 1545.58 Q1802.24 1545.58 1804.58 1543.48 Q1806.91 1541.37 1806.91 1537.76 Q1806.91 1534.15 1804.58 1532.04 Q1802.24 1529.94 1798.23 1529.94 Q1796.36 1529.94 1794.48 1530.35 Q1792.63 1530.77 1790.69 1531.65 L1790.69 1514.29 Z\" fill=\"#000000\" fill-rule=\"nonzero\" fill-opacity=\"1\" /><path clip-path=\"url(#clip750)\" d=\"M2243.51 1544.91 L2251.15 1544.91 L2251.15 1518.55 L2242.84 1520.21 L2242.84 1515.95 L2251.1 1514.29 L2255.78 1514.29 L2255.78 1544.91 L2263.42 1544.91 L2263.42 1548.85 L2243.51 1548.85 L2243.51 1544.91 Z\" fill=\"#000000\" fill-rule=\"nonzero\" fill-opacity=\"1\" /><path clip-path=\"url(#clip750)\" d=\"M2282.86 1517.37 Q2279.25 1517.37 2277.42 1520.93 Q2275.62 1524.47 2275.62 1531.6 Q2275.62 1538.71 2277.42 1542.27 Q2279.25 1545.82 2282.86 1545.82 Q2286.5 1545.82 2288.3 1542.27 Q2290.13 1538.71 2290.13 1531.6 Q2290.13 1524.47 2288.3 1520.93 Q2286.5 1517.37 2282.86 1517.37 M2282.86 1513.66 Q2288.67 1513.66 2291.73 1518.27 Q2294.81 1522.85 2294.81 1531.6 Q2294.81 1540.33 2291.73 1544.94 Q2288.67 1549.52 2282.86 1549.52 Q2277.05 1549.52 2273.98 1544.94 Q2270.92 1540.33 2270.92 1531.6 Q2270.92 1522.85 2273.98 1518.27 Q2277.05 1513.66 2282.86 1513.66 Z\" fill=\"#000000\" fill-rule=\"nonzero\" fill-opacity=\"1\" /><path clip-path=\"url(#clip750)\" d=\"M2303.03 1542.97 L2307.91 1542.97 L2307.91 1548.85 L2303.03 1548.85 L2303.03 1542.97 Z\" fill=\"#000000\" fill-rule=\"nonzero\" fill-opacity=\"1\" /><path clip-path=\"url(#clip750)\" d=\"M2328.1 1517.37 Q2324.48 1517.37 2322.66 1520.93 Q2320.85 1524.47 2320.85 1531.6 Q2320.85 1538.71 2322.66 1542.27 Q2324.48 1545.82 2328.1 1545.82 Q2331.73 1545.82 2333.54 1542.27 Q2335.36 1538.71 2335.36 1531.6 Q2335.36 1524.47 2333.54 1520.93 Q2331.73 1517.37 2328.1 1517.37 M2328.1 1513.66 Q2333.91 1513.66 2336.96 1518.27 Q2340.04 1522.85 2340.04 1531.6 Q2340.04 1540.33 2336.96 1544.94 Q2333.91 1549.52 2328.1 1549.52 Q2322.29 1549.52 2319.21 1544.94 Q2316.15 1540.33 2316.15 1531.6 Q2316.15 1522.85 2319.21 1518.27 Q2322.29 1513.66 2328.1 1513.66 Z\" fill=\"#000000\" fill-rule=\"nonzero\" fill-opacity=\"1\" /><polyline clip-path=\"url(#clip752)\" style=\"stroke:#000000; stroke-linecap:round; stroke-linejoin:round; stroke-width:2; stroke-opacity:0.1; fill:none\" points=\"186.274,1445.72 2352.76,1445.72 \"/>\n",
       "<polyline clip-path=\"url(#clip752)\" style=\"stroke:#000000; stroke-linecap:round; stroke-linejoin:round; stroke-width:2; stroke-opacity:0.1; fill:none\" points=\"186.274,1106.28 2352.76,1106.28 \"/>\n",
       "<polyline clip-path=\"url(#clip752)\" style=\"stroke:#000000; stroke-linecap:round; stroke-linejoin:round; stroke-width:2; stroke-opacity:0.1; fill:none\" points=\"186.274,766.846 2352.76,766.846 \"/>\n",
       "<polyline clip-path=\"url(#clip752)\" style=\"stroke:#000000; stroke-linecap:round; stroke-linejoin:round; stroke-width:2; stroke-opacity:0.1; fill:none\" points=\"186.274,427.411 2352.76,427.411 \"/>\n",
       "<polyline clip-path=\"url(#clip752)\" style=\"stroke:#000000; stroke-linecap:round; stroke-linejoin:round; stroke-width:2; stroke-opacity:0.1; fill:none\" points=\"186.274,87.9763 2352.76,87.9763 \"/>\n",
       "<polyline clip-path=\"url(#clip750)\" style=\"stroke:#000000; stroke-linecap:round; stroke-linejoin:round; stroke-width:4; stroke-opacity:1; fill:none\" points=\"186.274,1486.45 186.274,47.2441 \"/>\n",
       "<polyline clip-path=\"url(#clip750)\" style=\"stroke:#000000; stroke-linecap:round; stroke-linejoin:round; stroke-width:4; stroke-opacity:1; fill:none\" points=\"186.274,1445.72 205.172,1445.72 \"/>\n",
       "<polyline clip-path=\"url(#clip750)\" style=\"stroke:#000000; stroke-linecap:round; stroke-linejoin:round; stroke-width:4; stroke-opacity:1; fill:none\" points=\"186.274,1106.28 205.172,1106.28 \"/>\n",
       "<polyline clip-path=\"url(#clip750)\" style=\"stroke:#000000; stroke-linecap:round; stroke-linejoin:round; stroke-width:4; stroke-opacity:1; fill:none\" points=\"186.274,766.846 205.172,766.846 \"/>\n",
       "<polyline clip-path=\"url(#clip750)\" style=\"stroke:#000000; stroke-linecap:round; stroke-linejoin:round; stroke-width:4; stroke-opacity:1; fill:none\" points=\"186.274,427.411 205.172,427.411 \"/>\n",
       "<polyline clip-path=\"url(#clip750)\" style=\"stroke:#000000; stroke-linecap:round; stroke-linejoin:round; stroke-width:4; stroke-opacity:1; fill:none\" points=\"186.274,87.9763 205.172,87.9763 \"/>\n",
       "<path clip-path=\"url(#clip750)\" d=\"M62.9365 1431.51 Q59.3254 1431.51 57.4967 1435.08 Q55.6912 1438.62 55.6912 1445.75 Q55.6912 1452.86 57.4967 1456.42 Q59.3254 1459.96 62.9365 1459.96 Q66.5707 1459.96 68.3763 1456.42 Q70.205 1452.86 70.205 1445.75 Q70.205 1438.62 68.3763 1435.08 Q66.5707 1431.51 62.9365 1431.51 M62.9365 1427.81 Q68.7467 1427.81 71.8022 1432.42 Q74.8809 1437 74.8809 1445.75 Q74.8809 1454.48 71.8022 1459.08 Q68.7467 1463.67 62.9365 1463.67 Q57.1264 1463.67 54.0477 1459.08 Q50.9921 1454.48 50.9921 1445.75 Q50.9921 1437 54.0477 1432.42 Q57.1264 1427.81 62.9365 1427.81 Z\" fill=\"#000000\" fill-rule=\"nonzero\" fill-opacity=\"1\" /><path clip-path=\"url(#clip750)\" d=\"M83.0984 1457.12 L87.9827 1457.12 L87.9827 1463 L83.0984 1463 L83.0984 1457.12 Z\" fill=\"#000000\" fill-rule=\"nonzero\" fill-opacity=\"1\" /><path clip-path=\"url(#clip750)\" d=\"M108.168 1431.51 Q104.557 1431.51 102.728 1435.08 Q100.922 1438.62 100.922 1445.75 Q100.922 1452.86 102.728 1456.42 Q104.557 1459.96 108.168 1459.96 Q111.802 1459.96 113.608 1456.42 Q115.436 1452.86 115.436 1445.75 Q115.436 1438.62 113.608 1435.08 Q111.802 1431.51 108.168 1431.51 M108.168 1427.81 Q113.978 1427.81 117.033 1432.42 Q120.112 1437 120.112 1445.75 Q120.112 1454.48 117.033 1459.08 Q113.978 1463.67 108.168 1463.67 Q102.358 1463.67 99.2789 1459.08 Q96.2234 1454.48 96.2234 1445.75 Q96.2234 1437 99.2789 1432.42 Q102.358 1427.81 108.168 1427.81 Z\" fill=\"#000000\" fill-rule=\"nonzero\" fill-opacity=\"1\" /><path clip-path=\"url(#clip750)\" d=\"M138.33 1431.51 Q134.719 1431.51 132.89 1435.08 Q131.084 1438.62 131.084 1445.75 Q131.084 1452.86 132.89 1456.42 Q134.719 1459.96 138.33 1459.96 Q141.964 1459.96 143.769 1456.42 Q145.598 1452.86 145.598 1445.75 Q145.598 1438.62 143.769 1435.08 Q141.964 1431.51 138.33 1431.51 M138.33 1427.81 Q144.14 1427.81 147.195 1432.42 Q150.274 1437 150.274 1445.75 Q150.274 1454.48 147.195 1459.08 Q144.14 1463.67 138.33 1463.67 Q132.519 1463.67 129.441 1459.08 Q126.385 1454.48 126.385 1445.75 Q126.385 1437 129.441 1432.42 Q132.519 1427.81 138.33 1427.81 Z\" fill=\"#000000\" fill-rule=\"nonzero\" fill-opacity=\"1\" /><path clip-path=\"url(#clip750)\" d=\"M63.9319 1092.08 Q60.3208 1092.08 58.4921 1095.64 Q56.6865 1099.19 56.6865 1106.32 Q56.6865 1113.42 58.4921 1116.99 Q60.3208 1120.53 63.9319 1120.53 Q67.5661 1120.53 69.3717 1116.99 Q71.2004 1113.42 71.2004 1106.32 Q71.2004 1099.19 69.3717 1095.64 Q67.5661 1092.08 63.9319 1092.08 M63.9319 1088.38 Q69.742 1088.38 72.7976 1092.98 Q75.8763 1097.57 75.8763 1106.32 Q75.8763 1115.04 72.7976 1119.65 Q69.742 1124.23 63.9319 1124.23 Q58.1217 1124.23 55.043 1119.65 Q51.9875 1115.04 51.9875 1106.32 Q51.9875 1097.57 55.043 1092.98 Q58.1217 1088.38 63.9319 1088.38 Z\" fill=\"#000000\" fill-rule=\"nonzero\" fill-opacity=\"1\" /><path clip-path=\"url(#clip750)\" d=\"M84.0938 1117.68 L88.978 1117.68 L88.978 1123.56 L84.0938 1123.56 L84.0938 1117.68 Z\" fill=\"#000000\" fill-rule=\"nonzero\" fill-opacity=\"1\" /><path clip-path=\"url(#clip750)\" d=\"M103.191 1119.63 L119.51 1119.63 L119.51 1123.56 L97.566 1123.56 L97.566 1119.63 Q100.228 1116.87 104.811 1112.24 Q109.418 1107.59 110.598 1106.25 Q112.844 1103.72 113.723 1101.99 Q114.626 1100.23 114.626 1098.54 Q114.626 1095.78 112.682 1094.05 Q110.76 1092.31 107.658 1092.31 Q105.459 1092.31 103.006 1093.07 Q100.575 1093.84 97.7974 1095.39 L97.7974 1090.67 Q100.621 1089.53 103.075 1088.95 Q105.529 1088.38 107.566 1088.38 Q112.936 1088.38 116.131 1091.06 Q119.325 1093.75 119.325 1098.24 Q119.325 1100.37 118.515 1102.29 Q117.728 1104.19 115.621 1106.78 Q115.043 1107.45 111.941 1110.67 Q108.839 1113.86 103.191 1119.63 Z\" fill=\"#000000\" fill-rule=\"nonzero\" fill-opacity=\"1\" /><path clip-path=\"url(#clip750)\" d=\"M129.371 1089 L147.728 1089 L147.728 1092.94 L133.654 1092.94 L133.654 1101.41 Q134.672 1101.06 135.691 1100.9 Q136.709 1100.71 137.728 1100.71 Q143.515 1100.71 146.894 1103.89 Q150.274 1107.06 150.274 1112.47 Q150.274 1118.05 146.802 1121.15 Q143.33 1124.23 137.01 1124.23 Q134.834 1124.23 132.566 1123.86 Q130.32 1123.49 127.913 1122.75 L127.913 1118.05 Q129.996 1119.19 132.219 1119.74 Q134.441 1120.3 136.918 1120.3 Q140.922 1120.3 143.26 1118.19 Q145.598 1116.08 145.598 1112.47 Q145.598 1108.86 143.26 1106.76 Q140.922 1104.65 136.918 1104.65 Q135.043 1104.65 133.168 1105.07 Q131.316 1105.48 129.371 1106.36 L129.371 1089 Z\" fill=\"#000000\" fill-rule=\"nonzero\" fill-opacity=\"1\" /><path clip-path=\"url(#clip750)\" d=\"M62.9365 752.645 Q59.3254 752.645 57.4967 756.209 Q55.6912 759.751 55.6912 766.881 Q55.6912 773.987 57.4967 777.552 Q59.3254 781.094 62.9365 781.094 Q66.5707 781.094 68.3763 777.552 Q70.205 773.987 70.205 766.881 Q70.205 759.751 68.3763 756.209 Q66.5707 752.645 62.9365 752.645 M62.9365 748.941 Q68.7467 748.941 71.8022 753.547 Q74.8809 758.131 74.8809 766.881 Q74.8809 775.608 71.8022 780.214 Q68.7467 784.797 62.9365 784.797 Q57.1264 784.797 54.0477 780.214 Q50.9921 775.608 50.9921 766.881 Q50.9921 758.131 54.0477 753.547 Q57.1264 748.941 62.9365 748.941 Z\" fill=\"#000000\" fill-rule=\"nonzero\" fill-opacity=\"1\" /><path clip-path=\"url(#clip750)\" d=\"M83.0984 778.246 L87.9827 778.246 L87.9827 784.126 L83.0984 784.126 L83.0984 778.246 Z\" fill=\"#000000\" fill-rule=\"nonzero\" fill-opacity=\"1\" /><path clip-path=\"url(#clip750)\" d=\"M98.2141 749.566 L116.57 749.566 L116.57 753.501 L102.496 753.501 L102.496 761.973 Q103.515 761.626 104.534 761.464 Q105.552 761.279 106.571 761.279 Q112.358 761.279 115.737 764.45 Q119.117 767.621 119.117 773.038 Q119.117 778.617 115.645 781.719 Q112.172 784.797 105.853 784.797 Q103.677 784.797 101.409 784.427 Q99.1632 784.057 96.7558 783.316 L96.7558 778.617 Q98.8391 779.751 101.061 780.307 Q103.284 780.862 105.76 780.862 Q109.765 780.862 112.103 778.756 Q114.441 776.649 114.441 773.038 Q114.441 769.427 112.103 767.321 Q109.765 765.214 105.76 765.214 Q103.885 765.214 102.01 765.631 Q100.159 766.047 98.2141 766.927 L98.2141 749.566 Z\" fill=\"#000000\" fill-rule=\"nonzero\" fill-opacity=\"1\" /><path clip-path=\"url(#clip750)\" d=\"M138.33 752.645 Q134.719 752.645 132.89 756.209 Q131.084 759.751 131.084 766.881 Q131.084 773.987 132.89 777.552 Q134.719 781.094 138.33 781.094 Q141.964 781.094 143.769 777.552 Q145.598 773.987 145.598 766.881 Q145.598 759.751 143.769 756.209 Q141.964 752.645 138.33 752.645 M138.33 748.941 Q144.14 748.941 147.195 753.547 Q150.274 758.131 150.274 766.881 Q150.274 775.608 147.195 780.214 Q144.14 784.797 138.33 784.797 Q132.519 784.797 129.441 780.214 Q126.385 775.608 126.385 766.881 Q126.385 758.131 129.441 753.547 Q132.519 748.941 138.33 748.941 Z\" fill=\"#000000\" fill-rule=\"nonzero\" fill-opacity=\"1\" /><path clip-path=\"url(#clip750)\" d=\"M63.9319 413.21 Q60.3208 413.21 58.4921 416.775 Q56.6865 420.316 56.6865 427.446 Q56.6865 434.552 58.4921 438.117 Q60.3208 441.659 63.9319 441.659 Q67.5661 441.659 69.3717 438.117 Q71.2004 434.552 71.2004 427.446 Q71.2004 420.316 69.3717 416.775 Q67.5661 413.21 63.9319 413.21 M63.9319 409.506 Q69.742 409.506 72.7976 414.113 Q75.8763 418.696 75.8763 427.446 Q75.8763 436.173 72.7976 440.779 Q69.742 445.362 63.9319 445.362 Q58.1217 445.362 55.043 440.779 Q51.9875 436.173 51.9875 427.446 Q51.9875 418.696 55.043 414.113 Q58.1217 409.506 63.9319 409.506 Z\" fill=\"#000000\" fill-rule=\"nonzero\" fill-opacity=\"1\" /><path clip-path=\"url(#clip750)\" d=\"M84.0938 438.812 L88.978 438.812 L88.978 444.691 L84.0938 444.691 L84.0938 438.812 Z\" fill=\"#000000\" fill-rule=\"nonzero\" fill-opacity=\"1\" /><path clip-path=\"url(#clip750)\" d=\"M97.9826 410.131 L120.205 410.131 L120.205 412.122 L107.658 444.691 L102.774 444.691 L114.58 414.066 L97.9826 414.066 L97.9826 410.131 Z\" fill=\"#000000\" fill-rule=\"nonzero\" fill-opacity=\"1\" /><path clip-path=\"url(#clip750)\" d=\"M129.371 410.131 L147.728 410.131 L147.728 414.066 L133.654 414.066 L133.654 422.538 Q134.672 422.191 135.691 422.029 Q136.709 421.844 137.728 421.844 Q143.515 421.844 146.894 425.015 Q150.274 428.187 150.274 433.603 Q150.274 439.182 146.802 442.284 Q143.33 445.362 137.01 445.362 Q134.834 445.362 132.566 444.992 Q130.32 444.622 127.913 443.881 L127.913 439.182 Q129.996 440.316 132.219 440.872 Q134.441 441.427 136.918 441.427 Q140.922 441.427 143.26 439.321 Q145.598 437.214 145.598 433.603 Q145.598 429.992 143.26 427.886 Q140.922 425.779 136.918 425.779 Q135.043 425.779 133.168 426.196 Q131.316 426.613 129.371 427.492 L129.371 410.131 Z\" fill=\"#000000\" fill-rule=\"nonzero\" fill-opacity=\"1\" /><path clip-path=\"url(#clip750)\" d=\"M53.7467 101.321 L61.3856 101.321 L61.3856 74.9555 L53.0754 76.6222 L53.0754 72.3629 L61.3393 70.6963 L66.0152 70.6963 L66.0152 101.321 L73.654 101.321 L73.654 105.256 L53.7467 105.256 L53.7467 101.321 Z\" fill=\"#000000\" fill-rule=\"nonzero\" fill-opacity=\"1\" /><path clip-path=\"url(#clip750)\" d=\"M83.0984 99.3767 L87.9827 99.3767 L87.9827 105.256 L83.0984 105.256 L83.0984 99.3767 Z\" fill=\"#000000\" fill-rule=\"nonzero\" fill-opacity=\"1\" /><path clip-path=\"url(#clip750)\" d=\"M108.168 73.775 Q104.557 73.775 102.728 77.3398 Q100.922 80.8814 100.922 88.011 Q100.922 95.1174 102.728 98.6822 Q104.557 102.224 108.168 102.224 Q111.802 102.224 113.608 98.6822 Q115.436 95.1174 115.436 88.011 Q115.436 80.8814 113.608 77.3398 Q111.802 73.775 108.168 73.775 M108.168 70.0713 Q113.978 70.0713 117.033 74.6777 Q120.112 79.261 120.112 88.011 Q120.112 96.7378 117.033 101.344 Q113.978 105.928 108.168 105.928 Q102.358 105.928 99.2789 101.344 Q96.2234 96.7378 96.2234 88.011 Q96.2234 79.261 99.2789 74.6777 Q102.358 70.0713 108.168 70.0713 Z\" fill=\"#000000\" fill-rule=\"nonzero\" fill-opacity=\"1\" /><path clip-path=\"url(#clip750)\" d=\"M138.33 73.775 Q134.719 73.775 132.89 77.3398 Q131.084 80.8814 131.084 88.011 Q131.084 95.1174 132.89 98.6822 Q134.719 102.224 138.33 102.224 Q141.964 102.224 143.769 98.6822 Q145.598 95.1174 145.598 88.011 Q145.598 80.8814 143.769 77.3398 Q141.964 73.775 138.33 73.775 M138.33 70.0713 Q144.14 70.0713 147.195 74.6777 Q150.274 79.261 150.274 88.011 Q150.274 96.7378 147.195 101.344 Q144.14 105.928 138.33 105.928 Q132.519 105.928 129.441 101.344 Q126.385 96.7378 126.385 88.011 Q126.385 79.261 129.441 74.6777 Q132.519 70.0713 138.33 70.0713 Z\" fill=\"#000000\" fill-rule=\"nonzero\" fill-opacity=\"1\" /><polyline clip-path=\"url(#clip752)\" style=\"stroke:#009af9; stroke-linecap:round; stroke-linejoin:round; stroke-width:4; stroke-opacity:1; fill:none\" points=\"247.59,1445.72 257.86,1445.72 268.131,1445.72 278.401,1445.72 288.672,1445.72 298.943,1445.72 309.213,1445.72 319.484,1445.72 329.754,1445.72 340.025,1445.72 350.296,1445.72 360.566,1445.72 370.837,1445.72 381.107,1445.72 391.378,1445.72 401.649,1445.72 411.919,1445.72 422.19,1445.72 432.46,1445.72 442.731,1445.72 453.002,1445.72 463.272,1445.72 473.543,1445.72 483.813,1445.72 494.084,1445.72 504.355,1445.72 514.625,1445.72 524.896,1445.72 535.167,1445.72 545.437,1445.72 555.708,1445.72 565.978,1445.72 576.249,1445.72 586.52,1445.72 596.79,1445.72 607.061,1445.72 617.331,1445.72 627.602,1445.72 637.873,1445.72 648.143,1445.72 658.414,1445.72 668.684,1445.72 678.955,1445.72 689.226,1445.72 699.496,1445.72 709.767,1445.72 720.037,1445.72 730.308,1445.72 740.579,1445.72 750.849,1445.72 761.12,1445.72 771.39,1445.72 781.661,1445.72 791.932,1445.72 802.202,1445.72 812.473,1445.72 822.744,1445.72 833.014,1445.72 843.285,1445.72 853.555,1445.72 863.826,1445.72 874.097,1445.72 884.367,1445.72 894.638,1445.72 904.908,1445.72 915.179,1445.72 925.45,1445.72 935.72,1445.72 945.991,1445.72 956.261,1445.72 966.532,1445.72 976.803,1445.72 987.073,1445.72 997.344,1445.72 1007.61,1445.72 1017.89,1445.72 1028.16,1445.72 1038.43,1445.72 1048.7,1445.72 1058.97,1445.72 1069.24,1445.72 1079.51,1445.72 1089.78,1445.72 1100.05,1445.72 1110.32,1445.72 1120.59,1445.72 1130.86,1445.72 1141.13,1445.72 1151.4,1445.72 1161.67,1445.72 1171.94,1445.72 1182.21,1445.72 1192.49,1445.72 1202.76,1445.72 1213.03,1445.72 1223.3,1445.72 1233.57,1445.72 1243.84,1445.72 1254.11,1445.72 1264.38,1445.72 1274.65,1445.72 1284.92,1445.72 1295.19,1445.72 1305.46,1445.72 1315.73,1445.72 1326,1445.72 1336.27,1445.72 1346.54,1445.72 1356.82,1445.72 1367.09,1445.72 1377.36,1445.72 1387.63,1445.72 1397.9,1445.72 1408.17,1445.72 1418.44,1445.72 1428.71,1445.72 1438.98,1445.72 1449.25,1445.72 1459.52,1445.72 1469.79,1445.72 1480.06,1445.72 1490.33,1445.72 1500.6,1445.72 1510.87,1445.72 1521.14,1445.72 1531.42,1445.72 1541.69,1445.72 1551.96,1445.72 1562.23,1445.72 1572.5,1445.72 1582.77,1445.72 1593.04,1445.72 1603.31,1445.72 1613.58,1445.72 1623.85,1445.72 1634.12,1445.72 1644.39,1445.72 1654.66,1445.72 1664.93,1445.72 1675.2,1445.72 1685.47,1445.72 1695.75,1445.72 1706.02,1445.72 1716.29,1445.72 1726.56,1445.72 1736.83,1445.72 1747.1,1445.72 1757.37,1445.72 1767.64,1445.72 1777.91,1445.72 1788.18,1445.72 1798.45,1445.72 1808.72,1445.72 1818.99,1445.72 1829.26,1445.72 1839.53,1445.72 1849.8,1445.72 1860.07,1445.72 1870.35,1445.72 1880.62,1445.72 1890.89,1445.72 1901.16,1445.72 1911.43,1445.72 1921.7,1445.72 1931.97,1445.72 1942.24,1445.72 1952.51,1445.72 1962.78,1445.72 1973.05,1445.72 1983.32,1445.72 1993.59,1445.72 2003.86,1445.72 2014.13,1445.72 2024.4,1445.72 2034.68,1445.72 2044.95,1445.72 2055.22,1445.72 2065.49,1445.72 2075.76,1445.72 2086.03,1445.72 2096.3,1445.72 2106.57,1445.72 2116.84,1445.72 2127.11,1445.72 2137.38,1445.72 2147.65,1445.72 2157.92,1445.72 2168.19,1445.72 2178.46,1445.72 2188.73,1445.72 2199,1445.72 2209.28,1445.72 2219.55,1445.72 2229.82,1445.72 2240.09,1445.72 2250.36,1445.72 2260.63,1445.72 2270.9,1445.72 2281.17,1445.72 2291.44,1445.72 \"/>\n",
       "<path clip-path=\"url(#clip750)\" d=\"M2011.46 198.898 L2280.54 198.898 L2280.54 95.2176 L2011.46 95.2176  Z\" fill=\"#ffffff\" fill-rule=\"evenodd\" fill-opacity=\"1\"/>\n",
       "<polyline clip-path=\"url(#clip750)\" style=\"stroke:#000000; stroke-linecap:round; stroke-linejoin:round; stroke-width:4; stroke-opacity:1; fill:none\" points=\"2011.46,198.898 2280.54,198.898 2280.54,95.2176 2011.46,95.2176 2011.46,198.898 \"/>\n",
       "<polyline clip-path=\"url(#clip750)\" style=\"stroke:#009af9; stroke-linecap:round; stroke-linejoin:round; stroke-width:4; stroke-opacity:1; fill:none\" points=\"2035.53,147.058 2179.97,147.058 \"/>\n",
       "<path clip-path=\"url(#clip750)\" d=\"M2217.88 166.745 Q2216.07 171.375 2214.36 172.787 Q2212.65 174.199 2209.78 174.199 L2206.38 174.199 L2206.38 170.634 L2208.88 170.634 Q2210.63 170.634 2211.61 169.8 Q2212.58 168.967 2213.76 165.865 L2214.52 163.921 L2204.04 138.412 L2208.55 138.412 L2216.65 158.689 L2224.76 138.412 L2229.27 138.412 L2217.88 166.745 Z\" fill=\"#000000\" fill-rule=\"nonzero\" fill-opacity=\"1\" /><path clip-path=\"url(#clip750)\" d=\"M2236.56 160.402 L2244.2 160.402 L2244.2 134.037 L2235.89 135.703 L2235.89 131.444 L2244.15 129.778 L2248.83 129.778 L2248.83 160.402 L2256.47 160.402 L2256.47 164.338 L2236.56 164.338 L2236.56 160.402 Z\" fill=\"#000000\" fill-rule=\"nonzero\" fill-opacity=\"1\" /></svg>\n"
      ],
      "text/html": [
       "<?xml version=\"1.0\" encoding=\"utf-8\"?>\n",
       "<svg xmlns=\"http://www.w3.org/2000/svg\" xmlns:xlink=\"http://www.w3.org/1999/xlink\" width=\"600\" height=\"400\" viewBox=\"0 0 2400 1600\">\n",
       "<defs>\n",
       "  <clipPath id=\"clip800\">\n",
       "    <rect x=\"0\" y=\"0\" width=\"2400\" height=\"1600\"/>\n",
       "  </clipPath>\n",
       "</defs>\n",
       "<path clip-path=\"url(#clip800)\" d=\"M0 1600 L2400 1600 L2400 0 L0 0  Z\" fill=\"#ffffff\" fill-rule=\"evenodd\" fill-opacity=\"1\"/>\n",
       "<defs>\n",
       "  <clipPath id=\"clip801\">\n",
       "    <rect x=\"480\" y=\"0\" width=\"1681\" height=\"1600\"/>\n",
       "  </clipPath>\n",
       "</defs>\n",
       "<path clip-path=\"url(#clip800)\" d=\"M186.274 1486.45 L2352.76 1486.45 L2352.76 47.2441 L186.274 47.2441  Z\" fill=\"#ffffff\" fill-rule=\"evenodd\" fill-opacity=\"1\"/>\n",
       "<defs>\n",
       "  <clipPath id=\"clip802\">\n",
       "    <rect x=\"186\" y=\"47\" width=\"2167\" height=\"1440\"/>\n",
       "  </clipPath>\n",
       "</defs>\n",
       "<polyline clip-path=\"url(#clip802)\" style=\"stroke:#000000; stroke-linecap:round; stroke-linejoin:round; stroke-width:2; stroke-opacity:0.1; fill:none\" points=\"237.319,1486.45 237.319,47.2441 \"/>\n",
       "<polyline clip-path=\"url(#clip802)\" style=\"stroke:#000000; stroke-linecap:round; stroke-linejoin:round; stroke-width:2; stroke-opacity:0.1; fill:none\" points=\"750.849,1486.45 750.849,47.2441 \"/>\n",
       "<polyline clip-path=\"url(#clip802)\" style=\"stroke:#000000; stroke-linecap:round; stroke-linejoin:round; stroke-width:2; stroke-opacity:0.1; fill:none\" points=\"1264.38,1486.45 1264.38,47.2441 \"/>\n",
       "<polyline clip-path=\"url(#clip802)\" style=\"stroke:#000000; stroke-linecap:round; stroke-linejoin:round; stroke-width:2; stroke-opacity:0.1; fill:none\" points=\"1777.91,1486.45 1777.91,47.2441 \"/>\n",
       "<polyline clip-path=\"url(#clip802)\" style=\"stroke:#000000; stroke-linecap:round; stroke-linejoin:round; stroke-width:2; stroke-opacity:0.1; fill:none\" points=\"2291.44,1486.45 2291.44,47.2441 \"/>\n",
       "<polyline clip-path=\"url(#clip800)\" style=\"stroke:#000000; stroke-linecap:round; stroke-linejoin:round; stroke-width:4; stroke-opacity:1; fill:none\" points=\"186.274,1486.45 2352.76,1486.45 \"/>\n",
       "<polyline clip-path=\"url(#clip800)\" style=\"stroke:#000000; stroke-linecap:round; stroke-linejoin:round; stroke-width:4; stroke-opacity:1; fill:none\" points=\"237.319,1486.45 237.319,1467.55 \"/>\n",
       "<polyline clip-path=\"url(#clip800)\" style=\"stroke:#000000; stroke-linecap:round; stroke-linejoin:round; stroke-width:4; stroke-opacity:1; fill:none\" points=\"750.849,1486.45 750.849,1467.55 \"/>\n",
       "<polyline clip-path=\"url(#clip800)\" style=\"stroke:#000000; stroke-linecap:round; stroke-linejoin:round; stroke-width:4; stroke-opacity:1; fill:none\" points=\"1264.38,1486.45 1264.38,1467.55 \"/>\n",
       "<polyline clip-path=\"url(#clip800)\" style=\"stroke:#000000; stroke-linecap:round; stroke-linejoin:round; stroke-width:4; stroke-opacity:1; fill:none\" points=\"1777.91,1486.45 1777.91,1467.55 \"/>\n",
       "<polyline clip-path=\"url(#clip800)\" style=\"stroke:#000000; stroke-linecap:round; stroke-linejoin:round; stroke-width:4; stroke-opacity:1; fill:none\" points=\"2291.44,1486.45 2291.44,1467.55 \"/>\n",
       "<path clip-path=\"url(#clip800)\" d=\"M214.703 1517.37 Q211.092 1517.37 209.264 1520.93 Q207.458 1524.47 207.458 1531.6 Q207.458 1538.71 209.264 1542.27 Q211.092 1545.82 214.703 1545.82 Q218.338 1545.82 220.143 1542.27 Q221.972 1538.71 221.972 1531.6 Q221.972 1524.47 220.143 1520.93 Q218.338 1517.37 214.703 1517.37 M214.703 1513.66 Q220.513 1513.66 223.569 1518.27 Q226.648 1522.85 226.648 1531.6 Q226.648 1540.33 223.569 1544.94 Q220.513 1549.52 214.703 1549.52 Q208.893 1549.52 205.814 1544.94 Q202.759 1540.33 202.759 1531.6 Q202.759 1522.85 205.814 1518.27 Q208.893 1513.66 214.703 1513.66 Z\" fill=\"#000000\" fill-rule=\"nonzero\" fill-opacity=\"1\" /><path clip-path=\"url(#clip800)\" d=\"M234.865 1542.97 L239.749 1542.97 L239.749 1548.85 L234.865 1548.85 L234.865 1542.97 Z\" fill=\"#000000\" fill-rule=\"nonzero\" fill-opacity=\"1\" /><path clip-path=\"url(#clip800)\" d=\"M259.935 1517.37 Q256.323 1517.37 254.495 1520.93 Q252.689 1524.47 252.689 1531.6 Q252.689 1538.71 254.495 1542.27 Q256.323 1545.82 259.935 1545.82 Q263.569 1545.82 265.374 1542.27 Q267.203 1538.71 267.203 1531.6 Q267.203 1524.47 265.374 1520.93 Q263.569 1517.37 259.935 1517.37 M259.935 1513.66 Q265.745 1513.66 268.8 1518.27 Q271.879 1522.85 271.879 1531.6 Q271.879 1540.33 268.8 1544.94 Q265.745 1549.52 259.935 1549.52 Q254.124 1549.52 251.046 1544.94 Q247.99 1540.33 247.99 1531.6 Q247.99 1522.85 251.046 1518.27 Q254.124 1513.66 259.935 1513.66 Z\" fill=\"#000000\" fill-rule=\"nonzero\" fill-opacity=\"1\" /><path clip-path=\"url(#clip800)\" d=\"M722.586 1544.91 L738.905 1544.91 L738.905 1548.85 L716.961 1548.85 L716.961 1544.91 Q719.623 1542.16 724.206 1537.53 Q728.812 1532.88 729.993 1531.53 Q732.238 1529.01 733.118 1527.27 Q734.021 1525.51 734.021 1523.82 Q734.021 1521.07 732.076 1519.33 Q730.155 1517.6 727.053 1517.6 Q724.854 1517.6 722.4 1518.36 Q719.97 1519.13 717.192 1520.68 L717.192 1515.95 Q720.016 1514.82 722.47 1514.24 Q724.923 1513.66 726.961 1513.66 Q732.331 1513.66 735.525 1516.35 Q738.72 1519.03 738.72 1523.52 Q738.72 1525.65 737.91 1527.57 Q737.123 1529.47 735.016 1532.07 Q734.437 1532.74 731.336 1535.95 Q728.234 1539.15 722.586 1544.91 Z\" fill=\"#000000\" fill-rule=\"nonzero\" fill-opacity=\"1\" /><path clip-path=\"url(#clip800)\" d=\"M748.72 1542.97 L753.604 1542.97 L753.604 1548.85 L748.72 1548.85 L748.72 1542.97 Z\" fill=\"#000000\" fill-rule=\"nonzero\" fill-opacity=\"1\" /><path clip-path=\"url(#clip800)\" d=\"M763.835 1514.29 L782.192 1514.29 L782.192 1518.22 L768.118 1518.22 L768.118 1526.7 Q769.136 1526.35 770.155 1526.19 Q771.173 1526 772.192 1526 Q777.979 1526 781.358 1529.17 Q784.738 1532.34 784.738 1537.76 Q784.738 1543.34 781.266 1546.44 Q777.794 1549.52 771.474 1549.52 Q769.298 1549.52 767.03 1549.15 Q764.784 1548.78 762.377 1548.04 L762.377 1543.34 Q764.46 1544.47 766.683 1545.03 Q768.905 1545.58 771.382 1545.58 Q775.386 1545.58 777.724 1543.48 Q780.062 1541.37 780.062 1537.76 Q780.062 1534.15 777.724 1532.04 Q775.386 1529.94 771.382 1529.94 Q769.507 1529.94 767.632 1530.35 Q765.78 1530.77 763.835 1531.65 L763.835 1514.29 Z\" fill=\"#000000\" fill-rule=\"nonzero\" fill-opacity=\"1\" /><path clip-path=\"url(#clip800)\" d=\"M1231.54 1514.29 L1249.9 1514.29 L1249.9 1518.22 L1235.83 1518.22 L1235.83 1526.7 Q1236.85 1526.35 1237.86 1526.19 Q1238.88 1526 1239.9 1526 Q1245.69 1526 1249.07 1529.17 Q1252.45 1532.34 1252.45 1537.76 Q1252.45 1543.34 1248.97 1546.44 Q1245.5 1549.52 1239.18 1549.52 Q1237.01 1549.52 1234.74 1549.15 Q1232.49 1548.78 1230.09 1548.04 L1230.09 1543.34 Q1232.17 1544.47 1234.39 1545.03 Q1236.61 1545.58 1239.09 1545.58 Q1243.1 1545.58 1245.43 1543.48 Q1247.77 1541.37 1247.77 1537.76 Q1247.77 1534.15 1245.43 1532.04 Q1243.1 1529.94 1239.09 1529.94 Q1237.22 1529.94 1235.34 1530.35 Q1233.49 1530.77 1231.54 1531.65 L1231.54 1514.29 Z\" fill=\"#000000\" fill-rule=\"nonzero\" fill-opacity=\"1\" /><path clip-path=\"url(#clip800)\" d=\"M1261.66 1542.97 L1266.54 1542.97 L1266.54 1548.85 L1261.66 1548.85 L1261.66 1542.97 Z\" fill=\"#000000\" fill-rule=\"nonzero\" fill-opacity=\"1\" /><path clip-path=\"url(#clip800)\" d=\"M1286.73 1517.37 Q1283.12 1517.37 1281.29 1520.93 Q1279.48 1524.47 1279.48 1531.6 Q1279.48 1538.71 1281.29 1542.27 Q1283.12 1545.82 1286.73 1545.82 Q1290.36 1545.82 1292.17 1542.27 Q1294 1538.71 1294 1531.6 Q1294 1524.47 1292.17 1520.93 Q1290.36 1517.37 1286.73 1517.37 M1286.73 1513.66 Q1292.54 1513.66 1295.59 1518.27 Q1298.67 1522.85 1298.67 1531.6 Q1298.67 1540.33 1295.59 1544.94 Q1292.54 1549.52 1286.73 1549.52 Q1280.92 1549.52 1277.84 1544.94 Q1274.78 1540.33 1274.78 1531.6 Q1274.78 1522.85 1277.84 1518.27 Q1280.92 1513.66 1286.73 1513.66 Z\" fill=\"#000000\" fill-rule=\"nonzero\" fill-opacity=\"1\" /><path clip-path=\"url(#clip800)\" d=\"M1744.23 1514.29 L1766.45 1514.29 L1766.45 1516.28 L1753.91 1548.85 L1749.02 1548.85 L1760.83 1518.22 L1744.23 1518.22 L1744.23 1514.29 Z\" fill=\"#000000\" fill-rule=\"nonzero\" fill-opacity=\"1\" /><path clip-path=\"url(#clip800)\" d=\"M1775.57 1542.97 L1780.46 1542.97 L1780.46 1548.85 L1775.57 1548.85 L1775.57 1542.97 Z\" fill=\"#000000\" fill-rule=\"nonzero\" fill-opacity=\"1\" /><path clip-path=\"url(#clip800)\" d=\"M1790.69 1514.29 L1809.04 1514.29 L1809.04 1518.22 L1794.97 1518.22 L1794.97 1526.7 Q1795.99 1526.35 1797.01 1526.19 Q1798.03 1526 1799.04 1526 Q1804.83 1526 1808.21 1529.17 Q1811.59 1532.34 1811.59 1537.76 Q1811.59 1543.34 1808.12 1546.44 Q1804.65 1549.52 1798.33 1549.52 Q1796.15 1549.52 1793.88 1549.15 Q1791.64 1548.78 1789.23 1548.04 L1789.23 1543.34 Q1791.31 1544.47 1793.53 1545.03 Q1795.76 1545.58 1798.23 1545.58 Q1802.24 1545.58 1804.58 1543.48 Q1806.91 1541.37 1806.91 1537.76 Q1806.91 1534.15 1804.58 1532.04 Q1802.24 1529.94 1798.23 1529.94 Q1796.36 1529.94 1794.48 1530.35 Q1792.63 1530.77 1790.69 1531.65 L1790.69 1514.29 Z\" fill=\"#000000\" fill-rule=\"nonzero\" fill-opacity=\"1\" /><path clip-path=\"url(#clip800)\" d=\"M2243.51 1544.91 L2251.15 1544.91 L2251.15 1518.55 L2242.84 1520.21 L2242.84 1515.95 L2251.1 1514.29 L2255.78 1514.29 L2255.78 1544.91 L2263.42 1544.91 L2263.42 1548.85 L2243.51 1548.85 L2243.51 1544.91 Z\" fill=\"#000000\" fill-rule=\"nonzero\" fill-opacity=\"1\" /><path clip-path=\"url(#clip800)\" d=\"M2282.86 1517.37 Q2279.25 1517.37 2277.42 1520.93 Q2275.62 1524.47 2275.62 1531.6 Q2275.62 1538.71 2277.42 1542.27 Q2279.25 1545.82 2282.86 1545.82 Q2286.5 1545.82 2288.3 1542.27 Q2290.13 1538.71 2290.13 1531.6 Q2290.13 1524.47 2288.3 1520.93 Q2286.5 1517.37 2282.86 1517.37 M2282.86 1513.66 Q2288.67 1513.66 2291.73 1518.27 Q2294.81 1522.85 2294.81 1531.6 Q2294.81 1540.33 2291.73 1544.94 Q2288.67 1549.52 2282.86 1549.52 Q2277.05 1549.52 2273.98 1544.94 Q2270.92 1540.33 2270.92 1531.6 Q2270.92 1522.85 2273.98 1518.27 Q2277.05 1513.66 2282.86 1513.66 Z\" fill=\"#000000\" fill-rule=\"nonzero\" fill-opacity=\"1\" /><path clip-path=\"url(#clip800)\" d=\"M2303.03 1542.97 L2307.91 1542.97 L2307.91 1548.85 L2303.03 1548.85 L2303.03 1542.97 Z\" fill=\"#000000\" fill-rule=\"nonzero\" fill-opacity=\"1\" /><path clip-path=\"url(#clip800)\" d=\"M2328.1 1517.37 Q2324.48 1517.37 2322.66 1520.93 Q2320.85 1524.47 2320.85 1531.6 Q2320.85 1538.71 2322.66 1542.27 Q2324.48 1545.82 2328.1 1545.82 Q2331.73 1545.82 2333.54 1542.27 Q2335.36 1538.71 2335.36 1531.6 Q2335.36 1524.47 2333.54 1520.93 Q2331.73 1517.37 2328.1 1517.37 M2328.1 1513.66 Q2333.91 1513.66 2336.96 1518.27 Q2340.04 1522.85 2340.04 1531.6 Q2340.04 1540.33 2336.96 1544.94 Q2333.91 1549.52 2328.1 1549.52 Q2322.29 1549.52 2319.21 1544.94 Q2316.15 1540.33 2316.15 1531.6 Q2316.15 1522.85 2319.21 1518.27 Q2322.29 1513.66 2328.1 1513.66 Z\" fill=\"#000000\" fill-rule=\"nonzero\" fill-opacity=\"1\" /><polyline clip-path=\"url(#clip802)\" style=\"stroke:#000000; stroke-linecap:round; stroke-linejoin:round; stroke-width:2; stroke-opacity:0.1; fill:none\" points=\"186.274,1445.72 2352.76,1445.72 \"/>\n",
       "<polyline clip-path=\"url(#clip802)\" style=\"stroke:#000000; stroke-linecap:round; stroke-linejoin:round; stroke-width:2; stroke-opacity:0.1; fill:none\" points=\"186.274,1106.28 2352.76,1106.28 \"/>\n",
       "<polyline clip-path=\"url(#clip802)\" style=\"stroke:#000000; stroke-linecap:round; stroke-linejoin:round; stroke-width:2; stroke-opacity:0.1; fill:none\" points=\"186.274,766.846 2352.76,766.846 \"/>\n",
       "<polyline clip-path=\"url(#clip802)\" style=\"stroke:#000000; stroke-linecap:round; stroke-linejoin:round; stroke-width:2; stroke-opacity:0.1; fill:none\" points=\"186.274,427.411 2352.76,427.411 \"/>\n",
       "<polyline clip-path=\"url(#clip802)\" style=\"stroke:#000000; stroke-linecap:round; stroke-linejoin:round; stroke-width:2; stroke-opacity:0.1; fill:none\" points=\"186.274,87.9763 2352.76,87.9763 \"/>\n",
       "<polyline clip-path=\"url(#clip800)\" style=\"stroke:#000000; stroke-linecap:round; stroke-linejoin:round; stroke-width:4; stroke-opacity:1; fill:none\" points=\"186.274,1486.45 186.274,47.2441 \"/>\n",
       "<polyline clip-path=\"url(#clip800)\" style=\"stroke:#000000; stroke-linecap:round; stroke-linejoin:round; stroke-width:4; stroke-opacity:1; fill:none\" points=\"186.274,1445.72 205.172,1445.72 \"/>\n",
       "<polyline clip-path=\"url(#clip800)\" style=\"stroke:#000000; stroke-linecap:round; stroke-linejoin:round; stroke-width:4; stroke-opacity:1; fill:none\" points=\"186.274,1106.28 205.172,1106.28 \"/>\n",
       "<polyline clip-path=\"url(#clip800)\" style=\"stroke:#000000; stroke-linecap:round; stroke-linejoin:round; stroke-width:4; stroke-opacity:1; fill:none\" points=\"186.274,766.846 205.172,766.846 \"/>\n",
       "<polyline clip-path=\"url(#clip800)\" style=\"stroke:#000000; stroke-linecap:round; stroke-linejoin:round; stroke-width:4; stroke-opacity:1; fill:none\" points=\"186.274,427.411 205.172,427.411 \"/>\n",
       "<polyline clip-path=\"url(#clip800)\" style=\"stroke:#000000; stroke-linecap:round; stroke-linejoin:round; stroke-width:4; stroke-opacity:1; fill:none\" points=\"186.274,87.9763 205.172,87.9763 \"/>\n",
       "<path clip-path=\"url(#clip800)\" d=\"M62.9365 1431.51 Q59.3254 1431.51 57.4967 1435.08 Q55.6912 1438.62 55.6912 1445.75 Q55.6912 1452.86 57.4967 1456.42 Q59.3254 1459.96 62.9365 1459.96 Q66.5707 1459.96 68.3763 1456.42 Q70.205 1452.86 70.205 1445.75 Q70.205 1438.62 68.3763 1435.08 Q66.5707 1431.51 62.9365 1431.51 M62.9365 1427.81 Q68.7467 1427.81 71.8022 1432.42 Q74.8809 1437 74.8809 1445.75 Q74.8809 1454.48 71.8022 1459.08 Q68.7467 1463.67 62.9365 1463.67 Q57.1264 1463.67 54.0477 1459.08 Q50.9921 1454.48 50.9921 1445.75 Q50.9921 1437 54.0477 1432.42 Q57.1264 1427.81 62.9365 1427.81 Z\" fill=\"#000000\" fill-rule=\"nonzero\" fill-opacity=\"1\" /><path clip-path=\"url(#clip800)\" d=\"M83.0984 1457.12 L87.9827 1457.12 L87.9827 1463 L83.0984 1463 L83.0984 1457.12 Z\" fill=\"#000000\" fill-rule=\"nonzero\" fill-opacity=\"1\" /><path clip-path=\"url(#clip800)\" d=\"M108.168 1431.51 Q104.557 1431.51 102.728 1435.08 Q100.922 1438.62 100.922 1445.75 Q100.922 1452.86 102.728 1456.42 Q104.557 1459.96 108.168 1459.96 Q111.802 1459.96 113.608 1456.42 Q115.436 1452.86 115.436 1445.75 Q115.436 1438.62 113.608 1435.08 Q111.802 1431.51 108.168 1431.51 M108.168 1427.81 Q113.978 1427.81 117.033 1432.42 Q120.112 1437 120.112 1445.75 Q120.112 1454.48 117.033 1459.08 Q113.978 1463.67 108.168 1463.67 Q102.358 1463.67 99.2789 1459.08 Q96.2234 1454.48 96.2234 1445.75 Q96.2234 1437 99.2789 1432.42 Q102.358 1427.81 108.168 1427.81 Z\" fill=\"#000000\" fill-rule=\"nonzero\" fill-opacity=\"1\" /><path clip-path=\"url(#clip800)\" d=\"M138.33 1431.51 Q134.719 1431.51 132.89 1435.08 Q131.084 1438.62 131.084 1445.75 Q131.084 1452.86 132.89 1456.42 Q134.719 1459.96 138.33 1459.96 Q141.964 1459.96 143.769 1456.42 Q145.598 1452.86 145.598 1445.75 Q145.598 1438.62 143.769 1435.08 Q141.964 1431.51 138.33 1431.51 M138.33 1427.81 Q144.14 1427.81 147.195 1432.42 Q150.274 1437 150.274 1445.75 Q150.274 1454.48 147.195 1459.08 Q144.14 1463.67 138.33 1463.67 Q132.519 1463.67 129.441 1459.08 Q126.385 1454.48 126.385 1445.75 Q126.385 1437 129.441 1432.42 Q132.519 1427.81 138.33 1427.81 Z\" fill=\"#000000\" fill-rule=\"nonzero\" fill-opacity=\"1\" /><path clip-path=\"url(#clip800)\" d=\"M63.9319 1092.08 Q60.3208 1092.08 58.4921 1095.64 Q56.6865 1099.19 56.6865 1106.32 Q56.6865 1113.42 58.4921 1116.99 Q60.3208 1120.53 63.9319 1120.53 Q67.5661 1120.53 69.3717 1116.99 Q71.2004 1113.42 71.2004 1106.32 Q71.2004 1099.19 69.3717 1095.64 Q67.5661 1092.08 63.9319 1092.08 M63.9319 1088.38 Q69.742 1088.38 72.7976 1092.98 Q75.8763 1097.57 75.8763 1106.32 Q75.8763 1115.04 72.7976 1119.65 Q69.742 1124.23 63.9319 1124.23 Q58.1217 1124.23 55.043 1119.65 Q51.9875 1115.04 51.9875 1106.32 Q51.9875 1097.57 55.043 1092.98 Q58.1217 1088.38 63.9319 1088.38 Z\" fill=\"#000000\" fill-rule=\"nonzero\" fill-opacity=\"1\" /><path clip-path=\"url(#clip800)\" d=\"M84.0938 1117.68 L88.978 1117.68 L88.978 1123.56 L84.0938 1123.56 L84.0938 1117.68 Z\" fill=\"#000000\" fill-rule=\"nonzero\" fill-opacity=\"1\" /><path clip-path=\"url(#clip800)\" d=\"M103.191 1119.63 L119.51 1119.63 L119.51 1123.56 L97.566 1123.56 L97.566 1119.63 Q100.228 1116.87 104.811 1112.24 Q109.418 1107.59 110.598 1106.25 Q112.844 1103.72 113.723 1101.99 Q114.626 1100.23 114.626 1098.54 Q114.626 1095.78 112.682 1094.05 Q110.76 1092.31 107.658 1092.31 Q105.459 1092.31 103.006 1093.07 Q100.575 1093.84 97.7974 1095.39 L97.7974 1090.67 Q100.621 1089.53 103.075 1088.95 Q105.529 1088.38 107.566 1088.38 Q112.936 1088.38 116.131 1091.06 Q119.325 1093.75 119.325 1098.24 Q119.325 1100.37 118.515 1102.29 Q117.728 1104.19 115.621 1106.78 Q115.043 1107.45 111.941 1110.67 Q108.839 1113.86 103.191 1119.63 Z\" fill=\"#000000\" fill-rule=\"nonzero\" fill-opacity=\"1\" /><path clip-path=\"url(#clip800)\" d=\"M129.371 1089 L147.728 1089 L147.728 1092.94 L133.654 1092.94 L133.654 1101.41 Q134.672 1101.06 135.691 1100.9 Q136.709 1100.71 137.728 1100.71 Q143.515 1100.71 146.894 1103.89 Q150.274 1107.06 150.274 1112.47 Q150.274 1118.05 146.802 1121.15 Q143.33 1124.23 137.01 1124.23 Q134.834 1124.23 132.566 1123.86 Q130.32 1123.49 127.913 1122.75 L127.913 1118.05 Q129.996 1119.19 132.219 1119.74 Q134.441 1120.3 136.918 1120.3 Q140.922 1120.3 143.26 1118.19 Q145.598 1116.08 145.598 1112.47 Q145.598 1108.86 143.26 1106.76 Q140.922 1104.65 136.918 1104.65 Q135.043 1104.65 133.168 1105.07 Q131.316 1105.48 129.371 1106.36 L129.371 1089 Z\" fill=\"#000000\" fill-rule=\"nonzero\" fill-opacity=\"1\" /><path clip-path=\"url(#clip800)\" d=\"M62.9365 752.645 Q59.3254 752.645 57.4967 756.209 Q55.6912 759.751 55.6912 766.881 Q55.6912 773.987 57.4967 777.552 Q59.3254 781.094 62.9365 781.094 Q66.5707 781.094 68.3763 777.552 Q70.205 773.987 70.205 766.881 Q70.205 759.751 68.3763 756.209 Q66.5707 752.645 62.9365 752.645 M62.9365 748.941 Q68.7467 748.941 71.8022 753.547 Q74.8809 758.131 74.8809 766.881 Q74.8809 775.608 71.8022 780.214 Q68.7467 784.797 62.9365 784.797 Q57.1264 784.797 54.0477 780.214 Q50.9921 775.608 50.9921 766.881 Q50.9921 758.131 54.0477 753.547 Q57.1264 748.941 62.9365 748.941 Z\" fill=\"#000000\" fill-rule=\"nonzero\" fill-opacity=\"1\" /><path clip-path=\"url(#clip800)\" d=\"M83.0984 778.246 L87.9827 778.246 L87.9827 784.126 L83.0984 784.126 L83.0984 778.246 Z\" fill=\"#000000\" fill-rule=\"nonzero\" fill-opacity=\"1\" /><path clip-path=\"url(#clip800)\" d=\"M98.2141 749.566 L116.57 749.566 L116.57 753.501 L102.496 753.501 L102.496 761.973 Q103.515 761.626 104.534 761.464 Q105.552 761.279 106.571 761.279 Q112.358 761.279 115.737 764.45 Q119.117 767.621 119.117 773.038 Q119.117 778.617 115.645 781.719 Q112.172 784.797 105.853 784.797 Q103.677 784.797 101.409 784.427 Q99.1632 784.057 96.7558 783.316 L96.7558 778.617 Q98.8391 779.751 101.061 780.307 Q103.284 780.862 105.76 780.862 Q109.765 780.862 112.103 778.756 Q114.441 776.649 114.441 773.038 Q114.441 769.427 112.103 767.321 Q109.765 765.214 105.76 765.214 Q103.885 765.214 102.01 765.631 Q100.159 766.047 98.2141 766.927 L98.2141 749.566 Z\" fill=\"#000000\" fill-rule=\"nonzero\" fill-opacity=\"1\" /><path clip-path=\"url(#clip800)\" d=\"M138.33 752.645 Q134.719 752.645 132.89 756.209 Q131.084 759.751 131.084 766.881 Q131.084 773.987 132.89 777.552 Q134.719 781.094 138.33 781.094 Q141.964 781.094 143.769 777.552 Q145.598 773.987 145.598 766.881 Q145.598 759.751 143.769 756.209 Q141.964 752.645 138.33 752.645 M138.33 748.941 Q144.14 748.941 147.195 753.547 Q150.274 758.131 150.274 766.881 Q150.274 775.608 147.195 780.214 Q144.14 784.797 138.33 784.797 Q132.519 784.797 129.441 780.214 Q126.385 775.608 126.385 766.881 Q126.385 758.131 129.441 753.547 Q132.519 748.941 138.33 748.941 Z\" fill=\"#000000\" fill-rule=\"nonzero\" fill-opacity=\"1\" /><path clip-path=\"url(#clip800)\" d=\"M63.9319 413.21 Q60.3208 413.21 58.4921 416.775 Q56.6865 420.316 56.6865 427.446 Q56.6865 434.552 58.4921 438.117 Q60.3208 441.659 63.9319 441.659 Q67.5661 441.659 69.3717 438.117 Q71.2004 434.552 71.2004 427.446 Q71.2004 420.316 69.3717 416.775 Q67.5661 413.21 63.9319 413.21 M63.9319 409.506 Q69.742 409.506 72.7976 414.113 Q75.8763 418.696 75.8763 427.446 Q75.8763 436.173 72.7976 440.779 Q69.742 445.362 63.9319 445.362 Q58.1217 445.362 55.043 440.779 Q51.9875 436.173 51.9875 427.446 Q51.9875 418.696 55.043 414.113 Q58.1217 409.506 63.9319 409.506 Z\" fill=\"#000000\" fill-rule=\"nonzero\" fill-opacity=\"1\" /><path clip-path=\"url(#clip800)\" d=\"M84.0938 438.812 L88.978 438.812 L88.978 444.691 L84.0938 444.691 L84.0938 438.812 Z\" fill=\"#000000\" fill-rule=\"nonzero\" fill-opacity=\"1\" /><path clip-path=\"url(#clip800)\" d=\"M97.9826 410.131 L120.205 410.131 L120.205 412.122 L107.658 444.691 L102.774 444.691 L114.58 414.066 L97.9826 414.066 L97.9826 410.131 Z\" fill=\"#000000\" fill-rule=\"nonzero\" fill-opacity=\"1\" /><path clip-path=\"url(#clip800)\" d=\"M129.371 410.131 L147.728 410.131 L147.728 414.066 L133.654 414.066 L133.654 422.538 Q134.672 422.191 135.691 422.029 Q136.709 421.844 137.728 421.844 Q143.515 421.844 146.894 425.015 Q150.274 428.187 150.274 433.603 Q150.274 439.182 146.802 442.284 Q143.33 445.362 137.01 445.362 Q134.834 445.362 132.566 444.992 Q130.32 444.622 127.913 443.881 L127.913 439.182 Q129.996 440.316 132.219 440.872 Q134.441 441.427 136.918 441.427 Q140.922 441.427 143.26 439.321 Q145.598 437.214 145.598 433.603 Q145.598 429.992 143.26 427.886 Q140.922 425.779 136.918 425.779 Q135.043 425.779 133.168 426.196 Q131.316 426.613 129.371 427.492 L129.371 410.131 Z\" fill=\"#000000\" fill-rule=\"nonzero\" fill-opacity=\"1\" /><path clip-path=\"url(#clip800)\" d=\"M53.7467 101.321 L61.3856 101.321 L61.3856 74.9555 L53.0754 76.6222 L53.0754 72.3629 L61.3393 70.6963 L66.0152 70.6963 L66.0152 101.321 L73.654 101.321 L73.654 105.256 L53.7467 105.256 L53.7467 101.321 Z\" fill=\"#000000\" fill-rule=\"nonzero\" fill-opacity=\"1\" /><path clip-path=\"url(#clip800)\" d=\"M83.0984 99.3767 L87.9827 99.3767 L87.9827 105.256 L83.0984 105.256 L83.0984 99.3767 Z\" fill=\"#000000\" fill-rule=\"nonzero\" fill-opacity=\"1\" /><path clip-path=\"url(#clip800)\" d=\"M108.168 73.775 Q104.557 73.775 102.728 77.3398 Q100.922 80.8814 100.922 88.011 Q100.922 95.1174 102.728 98.6822 Q104.557 102.224 108.168 102.224 Q111.802 102.224 113.608 98.6822 Q115.436 95.1174 115.436 88.011 Q115.436 80.8814 113.608 77.3398 Q111.802 73.775 108.168 73.775 M108.168 70.0713 Q113.978 70.0713 117.033 74.6777 Q120.112 79.261 120.112 88.011 Q120.112 96.7378 117.033 101.344 Q113.978 105.928 108.168 105.928 Q102.358 105.928 99.2789 101.344 Q96.2234 96.7378 96.2234 88.011 Q96.2234 79.261 99.2789 74.6777 Q102.358 70.0713 108.168 70.0713 Z\" fill=\"#000000\" fill-rule=\"nonzero\" fill-opacity=\"1\" /><path clip-path=\"url(#clip800)\" d=\"M138.33 73.775 Q134.719 73.775 132.89 77.3398 Q131.084 80.8814 131.084 88.011 Q131.084 95.1174 132.89 98.6822 Q134.719 102.224 138.33 102.224 Q141.964 102.224 143.769 98.6822 Q145.598 95.1174 145.598 88.011 Q145.598 80.8814 143.769 77.3398 Q141.964 73.775 138.33 73.775 M138.33 70.0713 Q144.14 70.0713 147.195 74.6777 Q150.274 79.261 150.274 88.011 Q150.274 96.7378 147.195 101.344 Q144.14 105.928 138.33 105.928 Q132.519 105.928 129.441 101.344 Q126.385 96.7378 126.385 88.011 Q126.385 79.261 129.441 74.6777 Q132.519 70.0713 138.33 70.0713 Z\" fill=\"#000000\" fill-rule=\"nonzero\" fill-opacity=\"1\" /><polyline clip-path=\"url(#clip802)\" style=\"stroke:#009af9; stroke-linecap:round; stroke-linejoin:round; stroke-width:4; stroke-opacity:1; fill:none\" points=\"247.59,1445.72 257.86,1445.72 268.131,1445.72 278.401,1445.72 288.672,1445.72 298.943,1445.72 309.213,1445.72 319.484,1445.72 329.754,1445.72 340.025,1445.72 350.296,1445.72 360.566,1445.72 370.837,1445.72 381.107,1445.72 391.378,1445.72 401.649,1445.72 411.919,1445.72 422.19,1445.72 432.46,1445.72 442.731,1445.72 453.002,1445.72 463.272,1445.72 473.543,1445.72 483.813,1445.72 494.084,1445.72 504.355,1445.72 514.625,1445.72 524.896,1445.72 535.167,1445.72 545.437,1445.72 555.708,1445.72 565.978,1445.72 576.249,1445.72 586.52,1445.72 596.79,1445.72 607.061,1445.72 617.331,1445.72 627.602,1445.72 637.873,1445.72 648.143,1445.72 658.414,1445.72 668.684,1445.72 678.955,1445.72 689.226,1445.72 699.496,1445.72 709.767,1445.72 720.037,1445.72 730.308,1445.72 740.579,1445.72 750.849,1445.72 761.12,1445.72 771.39,1445.72 781.661,1445.72 791.932,1445.72 802.202,1445.72 812.473,1445.72 822.744,1445.72 833.014,1445.72 843.285,1445.72 853.555,1445.72 863.826,1445.72 874.097,1445.72 884.367,1445.72 894.638,1445.72 904.908,1445.72 915.179,1445.72 925.45,1445.72 935.72,1445.72 945.991,1445.72 956.261,1445.72 966.532,1445.72 976.803,1445.72 987.073,1445.72 997.344,1445.72 1007.61,1445.72 1017.89,1445.72 1028.16,1445.72 1038.43,1445.72 1048.7,1445.72 1058.97,1445.72 1069.24,1445.72 1079.51,1445.72 1089.78,1445.72 1100.05,1445.72 1110.32,1445.72 1120.59,1445.72 1130.86,1445.72 1141.13,1445.72 1151.4,1445.72 1161.67,1445.72 1171.94,1445.72 1182.21,1445.72 1192.49,1445.72 1202.76,1445.72 1213.03,1445.72 1223.3,1445.72 1233.57,1445.72 1243.84,1445.72 1254.11,1445.72 1264.38,1445.72 1274.65,1445.72 1284.92,1445.72 1295.19,1445.72 1305.46,1445.72 1315.73,1445.72 1326,1445.72 1336.27,1445.72 1346.54,1445.72 1356.82,1445.72 1367.09,1445.72 1377.36,1445.72 1387.63,1445.72 1397.9,1445.72 1408.17,1445.72 1418.44,1445.72 1428.71,1445.72 1438.98,1445.72 1449.25,1445.72 1459.52,1445.72 1469.79,1445.72 1480.06,1445.72 1490.33,1445.72 1500.6,1445.72 1510.87,1445.72 1521.14,1445.72 1531.42,1445.72 1541.69,1445.72 1551.96,1445.72 1562.23,1445.72 1572.5,1445.72 1582.77,1445.72 1593.04,1445.72 1603.31,1445.72 1613.58,1445.72 1623.85,1445.72 1634.12,1445.72 1644.39,1445.72 1654.66,1445.72 1664.93,1445.72 1675.2,1445.72 1685.47,1445.72 1695.75,1445.72 1706.02,1445.72 1716.29,1445.72 1726.56,1445.72 1736.83,1445.72 1747.1,1445.72 1757.37,1445.72 1767.64,1445.72 1777.91,1445.72 1788.18,1445.72 1798.45,1445.72 1808.72,1445.72 1818.99,1445.72 1829.26,1445.72 1839.53,1445.72 1849.8,1445.72 1860.07,1445.72 1870.35,1445.72 1880.62,1445.72 1890.89,1445.72 1901.16,1445.72 1911.43,1445.72 1921.7,1445.72 1931.97,1445.72 1942.24,1445.72 1952.51,1445.72 1962.78,1445.72 1973.05,1445.72 1983.32,1445.72 1993.59,1445.72 2003.86,1445.72 2014.13,1445.72 2024.4,1445.72 2034.68,1445.72 2044.95,1445.72 2055.22,1445.72 2065.49,1445.72 2075.76,1445.72 2086.03,1445.72 2096.3,1445.72 2106.57,1445.72 2116.84,1445.72 2127.11,1445.72 2137.38,1445.72 2147.65,1445.72 2157.92,1445.72 2168.19,1445.72 2178.46,1445.72 2188.73,1445.72 2199,1445.72 2209.28,1445.72 2219.55,1445.72 2229.82,1445.72 2240.09,1445.72 2250.36,1445.72 2260.63,1445.72 2270.9,1445.72 2281.17,1445.72 2291.44,1445.72 \"/>\n",
       "<path clip-path=\"url(#clip800)\" d=\"M2011.46 198.898 L2280.54 198.898 L2280.54 95.2176 L2011.46 95.2176  Z\" fill=\"#ffffff\" fill-rule=\"evenodd\" fill-opacity=\"1\"/>\n",
       "<polyline clip-path=\"url(#clip800)\" style=\"stroke:#000000; stroke-linecap:round; stroke-linejoin:round; stroke-width:4; stroke-opacity:1; fill:none\" points=\"2011.46,198.898 2280.54,198.898 2280.54,95.2176 2011.46,95.2176 2011.46,198.898 \"/>\n",
       "<polyline clip-path=\"url(#clip800)\" style=\"stroke:#009af9; stroke-linecap:round; stroke-linejoin:round; stroke-width:4; stroke-opacity:1; fill:none\" points=\"2035.53,147.058 2179.97,147.058 \"/>\n",
       "<path clip-path=\"url(#clip800)\" d=\"M2217.88 166.745 Q2216.07 171.375 2214.36 172.787 Q2212.65 174.199 2209.78 174.199 L2206.38 174.199 L2206.38 170.634 L2208.88 170.634 Q2210.63 170.634 2211.61 169.8 Q2212.58 168.967 2213.76 165.865 L2214.52 163.921 L2204.04 138.412 L2208.55 138.412 L2216.65 158.689 L2224.76 138.412 L2229.27 138.412 L2217.88 166.745 Z\" fill=\"#000000\" fill-rule=\"nonzero\" fill-opacity=\"1\" /><path clip-path=\"url(#clip800)\" d=\"M2236.56 160.402 L2244.2 160.402 L2244.2 134.037 L2235.89 135.703 L2235.89 131.444 L2244.15 129.778 L2248.83 129.778 L2248.83 160.402 L2256.47 160.402 L2256.47 164.338 L2236.56 164.338 L2236.56 160.402 Z\" fill=\"#000000\" fill-rule=\"nonzero\" fill-opacity=\"1\" /></svg>\n"
      ]
     },
     "metadata": {},
     "output_type": "display_data"
    }
   ],
   "source": [
    "Plots.plot(times[2:end], Nacelle_u)"
   ]
  },
  {
   "cell_type": "markdown",
   "metadata": {},
   "source": [
    "## Eigenmodes analysis"
   ]
  },
  {
   "cell_type": "code",
   "execution_count": 452,
   "metadata": {},
   "outputs": [],
   "source": [
    "# Weak form\n",
    "a((v,θ), (w,ψ)) = ∫( EI_Jacket*(∇(θ)⊙∇(ψ)) + GA*((∇(v)-θ)⋅(∇(w)-ψ)) )dΩ_Jacket + ∫( EI_Pile*(∇(θ)⊙∇(ψ)) + GA*((∇(v)-θ)⋅(∇(w)-ψ)) )dΩ_Pile\n",
    "\n",
    "l((w,ψ)) = ∫(0.0*h)dΩ_Jacket + ∫(0.0*h)dΩ_Pile + ∫(0.0*w)dΓ_N\n",
    "\n",
    "matrix_of_sys = get_matrix(AffineFEOperator(a, l, X, Y ))"
   ]
  },
  {
   "cell_type": "code",
   "execution_count": 40,
   "metadata": {},
   "outputs": [],
   "source": [
    "using LinearAlgebra, SparseArrays, Arpack"
   ]
  },
  {
   "cell_type": "code",
   "execution_count": 43,
   "metadata": {},
   "outputs": [
    {
     "data": {
      "text/plain": [
       "([8.129138942699124e10, 6.671749422231313e10, 5.361642160505554e10, 3.3567172348623577e10, 3.2364744020012268e10, 2.913722489771512e10], [-1.0139340933264313e-16 1.6835705259791312e-17 … 1.2788716474302897e-16 -2.242473889406867e-16; 1.648300351033481e-17 -8.004338020742087e-18 … -2.357134569644194e-17 5.4603040653209694e-17; … ; -0.002264403794857761 -0.008012440908929067 … -0.03390491928295151 0.02534166231878565; -0.02282381237761666 -0.06327081232182952 … 0.04895720763699857 -0.06273962324810721])"
      ]
     },
     "metadata": {},
     "output_type": "display_data"
    }
   ],
   "source": [
    "# Compute eigenvalues and eigenvectors\n",
    "eigenvalues, eigenvectors = eigs(matrix_of_sys)[1], eigs(matrix_of_sys)[2]"
   ]
  },
  {
   "cell_type": "code",
   "execution_count": 55,
   "metadata": {},
   "outputs": [
    {
     "data": {
      "text/plain": [
       "([\"eigenmodes_frame/eigenmodes.vtu\"],)"
      ]
     },
     "metadata": {},
     "output_type": "display_data"
    }
   ],
   "source": [
    "# Interpolation into FESpace\n",
    "u_interp = FEFunction(v_X, eigenvectors[10:18,2])\n",
    "\n",
    "# Export to VTK\n",
    "writevtk(\n",
    "    Ω,\n",
    "    \"eigenmodes_frame/eigenmodes\",  # Output filename\n",
    "    cellfields = [\"Eigenmode1\" => u_interp]\n",
    ")"
   ]
  },
  {
   "cell_type": "code",
   "execution_count": null,
   "metadata": {},
   "outputs": [],
   "source": []
  }
 ],
 "metadata": {
  "kernelspec": {
   "display_name": "Julia 1.9.3",
   "language": "julia",
   "name": "julia-1.9"
  },
  "language_info": {
   "file_extension": ".jl",
   "mimetype": "application/julia",
   "name": "julia",
   "version": "1.9.3"
  }
 },
 "nbformat": 4,
 "nbformat_minor": 2
}
