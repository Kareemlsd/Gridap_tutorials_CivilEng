{
 "cells": [
  {
   "cell_type": "markdown",
   "metadata": {},
   "source": [
    "## Frame"
   ]
  },
  {
   "cell_type": "code",
   "execution_count": 178,
   "metadata": {},
   "outputs": [],
   "source": [
    "using Gridap\n",
    "using Plots\n",
    "using GridapMakie\n",
    "using CairoMakie \n",
    "using GLMakie\n",
    "using Gridap.Geometry\n",
    "using GridapGmsh"
   ]
  },
  {
   "cell_type": "code",
   "execution_count": 179,
   "metadata": {},
   "outputs": [
    {
     "name": "stdout",
     "output_type": "stream",
     "text": [
      "Info    : Reading 'msh_files/OFFSHORE_NASAL_JACKET.msh'...\n",
      "Info    : 48 entities\n",
      "Info    : 446 nodes\n",
      "Info    : 456 elements\n",
      "Info    : Done reading 'msh_files/OFFSHORE_NASAL_JACKET.msh'\n"
     ]
    },
    {
     "data": {
      "text/plain": [
       "UnstructuredDiscreteModel()"
      ]
     },
     "metadata": {},
     "output_type": "display_data"
    }
   ],
   "source": [
    "# Define known parameters/functions\n",
    "\n",
    "# Nacelle\n",
    "F_Nacelle = 5000*9.81 # N\n",
    "\n",
    "# Pile \n",
    "m_Pile = (1000*9.81) # N/m\n",
    "EI_Pile = 1e9 # Nm2\n",
    "EA_Pile = 1e8 # N\n",
    "\n",
    "# Jacket \n",
    "m_Jacket = (100*9.81) # N/m \n",
    "EI_Jacket = 1e7 # Nm2 \n",
    "EA_Jacket = 1e6 # N \n",
    "\n",
    "model = GmshDiscreteModel(\"msh_files/OFFSHORE_NASAL_JACKET.msh\")"
   ]
  },
  {
   "cell_type": "code",
   "execution_count": 180,
   "metadata": {},
   "outputs": [
    {
     "data": {
      "text/plain": [
       "Dict{String, Int64} with 5 entries:\n",
       "  \"Jacket Members\" => 4\n",
       "  \"Pile Members\"   => 5\n",
       "  \"Supports\"       => 1\n",
       "  \"Bottom Pile\"    => 3\n",
       "  \"Nacelle\"        => 2"
      ]
     },
     "metadata": {},
     "output_type": "display_data"
    }
   ],
   "source": [
    "# Set up the figure and axis \n",
    "labels = get_face_labeling(model)\n",
    "initial_tags = get_tag_entities(labels)[end]\n",
    "tag_from_names = get_tag_from_name(labels)"
   ]
  },
  {
   "cell_type": "code",
   "execution_count": 181,
   "metadata": {},
   "outputs": [
    {
     "data": {
      "text/plain": [
       "Scatter{Tuple{Vector{GeometryBasics.Point{2, Float64}}}}"
      ]
     },
     "metadata": {},
     "output_type": "display_data"
    }
   ],
   "source": [
    "# Set up the figure and axis \n",
    "fig = Figure(resolution=(800, 600))\n",
    "ax = Axis(fig[1, 1], title=\"Domain with Boundary Tags\", xlabel=\"x\", ylabel=\"y\")\n",
    "\n",
    "for intgr in length(tag_from_names)\n",
    "    CairoMakie.wireframe!(ax, Triangulation(model))\n",
    "end\n",
    "\n",
    "CairoMakie.scatter!(ax, Boundary(Triangulation(model), tags=\"Supports\"))\n",
    "CairoMakie.scatter!(ax, Boundary(Triangulation(model), tags=\"Jacket Members\"))\n",
    "CairoMakie.scatter!(ax, Boundary(Triangulation(model), tags=\"Pile Members\"))\n",
    "CairoMakie.scatter!(ax, Boundary(Triangulation(model), tags=\"Bottom Pile\"))\n",
    "\n",
    "# fig"
   ]
  },
  {
   "cell_type": "code",
   "execution_count": 182,
   "metadata": {},
   "outputs": [],
   "source": [
    "# add_tag_from_tags!(labels, \"Supports\", [1]) \n",
    "# add_tag_from_tags!(labels, \"Bottom Pile\", [3])\n",
    "# add_tag_from_tags!(labels, \"Nacelle\", [2])"
   ]
  },
  {
   "cell_type": "code",
   "execution_count": 184,
   "metadata": {},
   "outputs": [
    {
     "data": {
      "text/plain": [
       "CompositeTriangulation()"
      ]
     },
     "metadata": {},
     "output_type": "display_data"
    }
   ],
   "source": [
    "Ω = Triangulation(model)\n",
    "Ω_J = Triangulation(model, tags=\"Jacket Members\")\n",
    "Ω_P = Triangulation(model, tags=\"Pile Members\")\n",
    "Γ_S = Boundary(Ω,tags=\"Supports\")\n",
    "Γ_BP = Boundary(Ω,tags=\"Bottom Pile\")\n",
    "Γ_NC = Boundary(Ω,tags=\"Nacelle\")\n",
    "\n",
    "Λ = Skeleton(Ω)"
   ]
  },
  {
   "cell_type": "code",
   "execution_count": 185,
   "metadata": {},
   "outputs": [
    {
     "data": {
      "text/plain": [
       "MultiFieldFESpace()"
      ]
     },
     "metadata": {},
     "output_type": "display_data"
    }
   ],
   "source": [
    "order_u = 1\n",
    "order_v = 2\n",
    "\n",
    "reffe_u = ReferenceFE(lagrangian, Float64, order_u) \n",
    "reffe_v = ReferenceFE(lagrangian, Float64, order_v) \n",
    "\n",
    "Y_u = TestFESpace(Ω, reffe_u, dirichlet_tags=\"Supports\") # The TestFESpace for the rod equation\n",
    "X_u = TrialFESpace(Y_u, 0.0) # The TrialFESpace for the rod equation\n",
    "\n",
    "Y_v = TestFESpace(Ω, reffe_v, dirichlet_tags=\"Bottom Pile\") # The TestFESpace for the beam equation\n",
    "X_v = TrialFESpace(Y_v, 0.0) # The TrialFESpace for the rod equation\n",
    "\n",
    "X = MultiFieldFESpace([X_u, X_v])\n",
    "Y = MultiFieldFESpace([Y_u, Y_v])"
   ]
  },
  {
   "cell_type": "code",
   "execution_count": 186,
   "metadata": {},
   "outputs": [
    {
     "data": {
      "text/plain": [
       "SkeletonPair()"
      ]
     },
     "metadata": {},
     "output_type": "display_data"
    }
   ],
   "source": [
    "degree_u = 2*order_u\n",
    "degree_v = 2*order_v \n",
    "\n",
    "dΩ_r = Measure(Ω,degree_u) # Numerical integration within the domain Ω using second-order Gaussian quadrature rule\n",
    "dΓr_N = Measure(Γ_NC,degree_u) # Numerical integration along the Neumann boundary Γ_D using second-order Gaussian quadrature rule\n",
    "\n",
    "dΩ_b = Measure(Ω,degree_v) # Numerical integration within the domain Ω using second-order Gaussian quadrature rule\n",
    "dΓb_N = Measure(Γ_NC,degree_v) # Numerical integration along the Neumann boundary Γ_D using second-order Gaussian quadrature rule\n",
    "\n",
    "nΓₗ = get_normal_vector(Γ_NC)\n",
    "\n",
    "dΛ = Measure(Λ,2)\n",
    "nΛ = get_normal_vector(Λ) # Normal vector to the Neumann boundary Γ_N"
   ]
  },
  {
   "cell_type": "code",
   "execution_count": null,
   "metadata": {},
   "outputs": [
    {
     "data": {
      "text/plain": [
       "AffineFEOperator()"
      ]
     },
     "metadata": {},
     "output_type": "display_data"
    }
   ],
   "source": [
    "# Weak form\n",
    "# a((u,v), (w,h)) = ∫(EA_Pile * ∇(u) ⋅ ∇(w))dΩ_r + ∫( EI_Pile*Δ(v)*Δ(h))dΩ_b\n",
    "\n",
    "a((u,v), (w,h)) = ∫( EI_Jacket*(Δ(u)*Δ(w)) )dΩ_b +\n",
    "  ∫( EI_Jacket*(jump(∇(u)⋅nΛ)*jump(∇(w)⋅nΛ)) -\n",
    "    mean(EI_Jacket*Δ(u))*jump(∇(w)⋅nΛ) -\n",
    "    mean(EI_Jacket*Δ(w))*jump(∇(u)⋅nΛ) )dΛ + ∫(EA_Pile * ∇(u) ⋅ ∇(w))dΩ_r\n",
    "\n",
    "l((w,h)) = ∫(m_Jacket * w)dΩ_b + ∫(m_Pile * w)dΩ_r + ∫(F_Nacelle * h)dΓr_N\n",
    "\n",
    "op = AffineFEOperator(a,l,X,Y)"
   ]
  },
  {
   "cell_type": "code",
   "execution_count": 177,
   "metadata": {},
   "outputs": [
    {
     "ename": "LinearAlgebra.SingularException",
     "evalue": "LinearAlgebra.SingularException(0)",
     "output_type": "error",
     "traceback": [
      "LinearAlgebra.SingularException(0)\n",
      "\n",
      "Stacktrace:\n",
      "  [1] #lu#7\n",
      "    @ C:\\Users\\Kelsa\\AppData\\Local\\Programs\\julia-1.9.3\\share\\julia\\stdlib\\v1.9\\SparseArrays\\src\\solvers\\umfpack.jl:383 [inlined]\n",
      "  [2] lu(S::SparseArrays.SparseMatrixCSC{Float64, Int64})\n",
      "    @ SparseArrays.UMFPACK C:\\Users\\Kelsa\\AppData\\Local\\Programs\\julia-1.9.3\\share\\julia\\stdlib\\v1.9\\SparseArrays\\src\\solvers\\umfpack.jl:378\n",
      "  [3] numerical_setup\n",
      "    @ C:\\Users\\Kelsa\\.julia\\packages\\Gridap\\dKMpW\\src\\Algebra\\LinearSolvers.jl:259 [inlined]\n",
      "  [4] solve!\n",
      "    @ C:\\Users\\Kelsa\\.julia\\packages\\Gridap\\dKMpW\\src\\Algebra\\LinearSolvers.jl:206 [inlined]\n",
      "  [5] solve!(x::Vector{Float64}, nls::LUSolver, op::Gridap.Algebra.AffineOperator{SparseArrays.SparseMatrixCSC{Float64, Int64}, Vector{Float64}})\n",
      "    @ Gridap.Algebra C:\\Users\\Kelsa\\.julia\\packages\\Gridap\\dKMpW\\src\\Algebra\\NonlinearSolvers.jl:22\n",
      "  [6] solve!(u::Gridap.MultiField.MultiFieldFEFunction{Gridap.MultiField.MultiFieldCellField{ReferenceDomain}}, solver::LinearFESolver, feop::AffineFEOperator, cache::Nothing)\n",
      "    @ Gridap.FESpaces C:\\Users\\Kelsa\\.julia\\packages\\Gridap\\dKMpW\\src\\FESpaces\\FESolvers.jl:121\n",
      "  [7] solve!(uh::Gridap.MultiField.MultiFieldFEFunction{Gridap.MultiField.MultiFieldCellField{ReferenceDomain}}, solver::LinearFESolver, op::AffineFEOperator)\n",
      "    @ Gridap.FESpaces C:\\Users\\Kelsa\\.julia\\packages\\Gridap\\dKMpW\\src\\FESpaces\\FESolvers.jl:14\n",
      "  [8] solve(nls::LinearFESolver, op::AffineFEOperator)\n",
      "    @ Gridap.FESpaces C:\\Users\\Kelsa\\.julia\\packages\\Gridap\\dKMpW\\src\\FESpaces\\FESolvers.jl:51\n",
      "  [9] solve(op::AffineFEOperator)\n",
      "    @ Gridap.FESpaces C:\\Users\\Kelsa\\.julia\\packages\\Gridap\\dKMpW\\src\\FESpaces\\FESolvers.jl:65\n",
      " [10] top-level scope\n",
      "    @ c:\\Users\\Kelsa\\OneDrive\\Bureaublad\\Projects_Private\\Gridap_tutorials_TUDelft\\jl_notebook_cell_df34fa98e69747e1a8f8a730347b8e2f_X13sZmlsZQ==.jl:4"
     ]
    }
   ],
   "source": [
    "# Solve the problem\n",
    "# op = AffineFEOperator(a, l, U, V)\n",
    "\n",
    "uh, vh = solve(op)\n",
    "writevtk(Ω,\"2d_frame\",cellfields=[\"u\"=>uh, \"v\"=>vh])"
   ]
  },
  {
   "cell_type": "code",
   "execution_count": null,
   "metadata": {},
   "outputs": [],
   "source": []
  }
 ],
 "metadata": {
  "kernelspec": {
   "display_name": "Julia 1.9.3",
   "language": "julia",
   "name": "julia-1.9"
  },
  "language_info": {
   "file_extension": ".jl",
   "mimetype": "application/julia",
   "name": "julia",
   "version": "1.9.3"
  }
 },
 "nbformat": 4,
 "nbformat_minor": 2
}
