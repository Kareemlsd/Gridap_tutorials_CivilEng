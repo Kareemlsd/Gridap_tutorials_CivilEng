{
 "cells": [
  {
   "cell_type": "markdown",
   "metadata": {
    "vscode": {
     "languageId": "julia"
    }
   },
   "source": [
    "<!-- Basic steps for FEM:\n",
    "1. Find the physical problem\n",
    "2. Describe the mathematical model\n",
    "    1. Governing equations (PDEs, boundary conditions, initial conditions)\n",
    "    2. Constant parameters , source functions\n",
    "    3. Define the unknown quantities to solve for\n",
    "3. Create FE space to find the unknown quantities in.\n",
    "    1. Create mesh\n",
    "        1. Mesh density & mesh profile\n",
    "        2. Type of FE spaces\n",
    "        3. Conformity of the FE functions \n",
    "4. Writing the weak form of the problem.\n",
    "5. Solving the problem.\n",
    "6. Iterating for different mesh sizes until solution converges. -->"
   ]
  },
  {
   "cell_type": "markdown",
   "metadata": {},
   "source": [
    "# ***Steady-State Convection-Diffusion Problem***\n",
    "\n",
    "## Problem Description\n",
    "We aim to solve the steady-state convection-diffusion equation over a square domain $\\Omega = [0, 1] \\times [0, 1]$, with specified boundary conditions. This equation models the transport of a scalar field $u(x, y)$ under the influence of advection, diffusion, and a source term.\n",
    "\n",
    "---\n",
    "\n",
    "## Governing Equation\n",
    "$$\n",
    "-\\nabla \\cdot (D \\nabla u) + \\mathbf{v} \\cdot \\nabla u + \\sigma u = f \\quad \\text{in } \\Omega,\n",
    "$$\n",
    "where:\n",
    "- $u(x, y)$: scalar field (e.g., temperature, concentration, etc.).\n",
    "- $D > 0$: diffusion coefficient (assume constant for simplicity).\n",
    "- $\\mathbf{v} = (v_x, v_y)$: convection velocity field (assume $\\mathbf{v} = (1, 0)$, representing flow in the $x$-direction).\n",
    "- $\\sigma \\geq 0$: reaction coefficient (assume $\\sigma = 1$).\n",
    "- $f(x, y)$: source term (e.g., $f(x, y) = \\sin(\\pi x)\\sin(\\pi y)$).\n",
    "\n",
    "---\n",
    "\n",
    "## Boundary Conditions\n",
    "1. **Dirichlet boundary condition**:\n",
    "   $$\n",
    "   u = 0 \\quad \\text{on the inflow boundary } \\Gamma_{\\text{in}} = \\{x = 0\\}.\n",
    "   $$\n",
    "2. **Neumann boundary condition**:\n",
    "   $$\n",
    "   -D \\frac{\\partial u}{\\partial n} = 0 \\quad \\text{on the outflow boundary } \\Gamma_{\\text{out}} = \\{x = 1\\}.\n",
    "   $$\n",
    "3. **Mixed boundary conditions**:\n",
    "   - **No-flux condition**: \n",
    "     $$\n",
    "     -D \\frac{\\partial u}{\\partial n} = 0 \\quad \\text{on the top boundary } \\Gamma_{\\text{top}} = \\{y = 1\\}.\n",
    "     $$\n",
    "   - **No-flux condition**: \n",
    "     $$\n",
    "     -D \\frac{\\partial u}{\\partial n} = 0 \\quad \\text{on the bottom boundary } \\Gamma_{\\text{bottom}} = \\{y = 0\\}.\n",
    "     $$\n",
    "\n",
    "---\n",
    "\n",
    "## Domain\n",
    "$$\n",
    "\\Omega = [0, 1] \\times [0, 1].\n",
    "$$\n",
    "\n",
    "---\n",
    "\n",
    "## Parameters\n",
    "- $D = 0.01$.\n",
    "- $\\mathbf{v} = (1, 0)$.\n",
    "- $\\sigma = 1$.\n",
    "- $f(x, y) = \\sin(\\pi x) \\sin(\\pi y)$.\n",
    "\n",
    "---\n"
   ]
  },
  {
   "cell_type": "code",
   "execution_count": 111,
   "metadata": {},
   "outputs": [
    {
     "data": {
      "text/plain": [
       "b (generic function with 1 method)"
      ]
     },
     "metadata": {},
     "output_type": "display_data"
    }
   ],
   "source": [
    "using Gridap\n",
    "using Gridap.Geometry\n",
    "\n",
    "# Parameters and functions which we can directly define\n",
    "D = 0.01\n",
    "v = VectorValue(1.0,0.0)\n",
    "σ = 1\n",
    "f(x) = sin(π*x[1])*sin(π*x[2])\n",
    "\n",
    "# Define the mesh\n",
    "L = 1.0\n",
    "n = 10\n",
    "domain = (0.0, L, 0.0, L)\n",
    "partition = (n, n)\n",
    "model = CartesianDiscreteModel(domain, partition)\n",
    "\n",
    "# Get the labels\n",
    "labels = get_face_labeling(model)\n",
    "\n",
    "# Label the boundaries\n",
    "add_tag_from_tags!(labels, \"Dirichlet\", [5]) # the left entity (number 5) is Dirichlet\n",
    "add_tag_from_tags!(labels, \"Neumann\", [6,7,8]) # the lower entity (number 6), right entity (number 7) and the upper entity (number 8) are Neumann\n",
    "\n",
    "Ω = Triangulation(model)\n",
    "Γ_D = Boundary(Ω,tags=\"Dirichlet\")\n",
    "Γ_N = Boundary(Ω,tags=\"Neumann\")\n",
    "\n",
    "# Define the finite element space\n",
    "order = 1\n",
    "reffe = ReferenceFE(lagrangian, Float64, order)\n",
    "V0 = TestFESpace(Ω, reffe; conformity=:H1, dirichlet_tags=\"Dirichlet\")\n",
    "U0 = TrialFESpace(V0, 0.0)\n",
    "\n",
    "# Define the integration measure\n",
    "degree = 2*order\n",
    "dΩ = Measure(Ω,degree)\n",
    "dΓ_D  = Measure(Γ_D,degree)\n",
    "dΓ_N = Measure(Γ_N,degree)\n",
    "n_ΓN = get_normal_vector(Γ_N)\n",
    "n_ΓD = get_normal_vector(Γ_D)\n",
    "\n",
    "# Define the bilinear form\n",
    "a(u,w) = ∫( D*(∇(u)⋅∇(w)) + (v⋅∇(u))*w + w*σ*u)dΩ\n",
    "b(w) = ∫(f*w)dΩ "
   ]
  },
  {
   "cell_type": "code",
   "execution_count": 112,
   "metadata": {},
   "outputs": [
    {
     "data": {
      "text/plain": [
       "SingleFieldFEFunction():\n",
       " num_cells: 100\n",
       " DomainStyle: ReferenceDomain()\n",
       " Triangulation: BodyFittedTriangulation()\n",
       " Triangulation id: 3353973341585016191"
      ]
     },
     "metadata": {},
     "output_type": "display_data"
    }
   ],
   "source": [
    "op = AffineFEOperator(a,b,U0,V0)\n",
    "ls = LUSolver()\n",
    "uh = solve(solver,op)"
   ]
  },
  {
   "cell_type": "code",
   "execution_count": 113,
   "metadata": {},
   "outputs": [
    {
     "data": {
      "text/plain": [
       "([\"results.vtu\"],)"
      ]
     },
     "metadata": {},
     "output_type": "display_data"
    }
   ],
   "source": [
    "writevtk(Ω,\"results\",cellfields=[\"uh\"=>uh])"
   ]
  }
 ],
 "metadata": {
  "kernelspec": {
   "display_name": "Julia 1.9.3",
   "language": "julia",
   "name": "julia-1.9"
  },
  "language_info": {
   "file_extension": ".jl",
   "mimetype": "application/julia",
   "name": "julia",
   "version": "1.9.3"
  }
 },
 "nbformat": 4,
 "nbformat_minor": 2
}
